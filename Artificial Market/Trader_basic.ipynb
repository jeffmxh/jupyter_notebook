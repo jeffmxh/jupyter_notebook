{
 "cells": [
  {
   "cell_type": "code",
   "execution_count": 1,
   "metadata": {
    "collapsed": true
   },
   "outputs": [],
   "source": [
    "import numpy as np\n",
    "import time\n",
    "import math\n",
    "import random\n",
    "\n",
    "from collections import namedtuple"
   ]
  },
  {
   "cell_type": "code",
   "execution_count": 2,
   "metadata": {
    "collapsed": true
   },
   "outputs": [],
   "source": [
    "'''\n",
    "struct to storage order price and volume to trade\n",
    "\n",
    "Usage:\n",
    "a = Order(price=1, volume=1)\n",
    "'''\n",
    "\n",
    "Order = namedtuple('order', 'id price volume')"
   ]
  },
  {
   "cell_type": "code",
   "execution_count": 3,
   "metadata": {
    "collapsed": false
   },
   "outputs": [],
   "source": [
    "class Dynamic_order:\n",
    "    '''\n",
    "    extension of Order, used in making deals\n",
    "    '''\n",
    "    def __init__(self, order):\n",
    "        assert isinstance(order, Order)\n",
    "        self.id = order.id\n",
    "        self.price = order.price\n",
    "        self.volume = order.volume\n",
    "    @property\n",
    "    def show(self):\n",
    "        print('id : %d' % self.id)\n",
    "        print('price : %d' % self.price)\n",
    "        print('volume : %d' % self.volume)"
   ]
  },
  {
   "cell_type": "code",
   "execution_count": 4,
   "metadata": {
    "collapsed": true
   },
   "outputs": [],
   "source": [
    "class Basic_Trader:\n",
    "    '''\n",
    "    A primary class to define an investor, including actions\n",
    "    like gennerate an order, and update it's own status with\n",
    "    the trading result\n",
    "    '''\n",
    "    def __init__(self, id, asset, stock_price, *kw, **args):\n",
    "        self.id = id\n",
    "        self.asset = asset # 总资产\n",
    "        self.stock_price = stock_price\n",
    "        self.cash, self.stock = self.random_init(asset, stock_price)\n",
    "        self.cash_history = [self.cash]\n",
    "        self.asset_history = [self.asset]\n",
    "        self.stock_history = [self.stock]\n",
    "        self.trade_history = [] # 交易记录\n",
    "        self.stock_price = 0\n",
    "        self.order = Order(id=self.id,\n",
    "                           price=0,\n",
    "                           volume=0)\n",
    "        \n",
    "    def random_init(self, asset, stock_price):\n",
    "        stock_max = math.floor(asset/stock_price)\n",
    "        stock_num = random.randint(0, stock_max)\n",
    "        cash = asset - stock_num * stock_price\n",
    "        return cash, stock_num\n",
    "        \n",
    "    def gen_order(self):\n",
    "        self.order = Order(id=self.id,\n",
    "                           price=np.random.randint(1, 20), \n",
    "                           volume=np.random.randint(-5, 5))\n",
    "        \n",
    "    def update(self, price, vol):\n",
    "        self.cash -= price * vol\n",
    "        self.cash_history.append(self.cash)\n",
    "        self.stock += vol\n",
    "        self.stock_history.append(self.stock)\n",
    "        self.trade_history.append((price, vol))\n",
    "        self.stock_price = price\n",
    "        self.asset = self.cash + self.stock * self.stock_price\n",
    "        self.asset_history.append(self.asset)\n",
    "        \n",
    "    @property\n",
    "    def show(self):\n",
    "        print('id : %d, cash : %d, stock : %d, stock_price : %d, asset : %d' % \n",
    "             (self.id, self.cash, self.stock, self.stock_price, self.asset))\n",
    "        \n",
    "    @property\n",
    "    def show_detail(self):\n",
    "        print('id : ', self.id)\n",
    "        print('cash : ', self.cash)\n",
    "        print('cash_history : ', self.cash_history)\n",
    "        print('stock : ', self.stock)\n",
    "        print('stock_history : ', self.stock_history)\n",
    "        print('asset : ', self.asset)\n",
    "        print('asset_history : ', self.asset_history)\n",
    "        print('stock_price : ', self.stock_price)"
   ]
  },
  {
   "cell_type": "code",
   "execution_count": 5,
   "metadata": {
    "collapsed": false
   },
   "outputs": [],
   "source": [
    "class Advanced_Trader(Basic_Trader):\n",
    "    def __init__(self, id, asset, stock_price):\n",
    "        super(advanced_trader, self).__init__(id)\n",
    "        self.asset = asset\n",
    "        self.stock_price = stock_price\n",
    "        self.cash, self.stock = self.random_init(asset, stock_price)\n",
    "        self.cash_history = [self.cash]\n",
    "        self.asset_history = [self.asset]\n",
    "        self.stock_history = [self.stock]\n",
    "        \n",
    "    def random_init(self, asset, stock_price):\n",
    "        stock_max = math.floor(asset/stock_price)\n",
    "        stock_num = random.randint(0, stock_max)\n",
    "        cash = asset - stock_num * stock_price\n",
    "        return cash, stock_num        "
   ]
  },
  {
   "cell_type": "code",
   "execution_count": 6,
   "metadata": {
    "collapsed": false
   },
   "outputs": [],
   "source": [
    "class Market:\n",
    "    '''\n",
    "    A class to define a market stucture, initialize with a \n",
    "    number of investors, have the ability to generate orders\n",
    "    and deal with the orders from traders, returns a deal_price \n",
    "    and volume for every trader and update their status\n",
    "    \n",
    "    The history of price and volume is also contained, as well\n",
    "    as indices like MA and so on\n",
    "    '''\n",
    "    def __init__(self, Trader_class, num_investors, asset, stock_price):\n",
    "        self.investors = [Trader_class(i, asset=asset, stock_price=stock_price) for i in range(num_investors)]\n",
    "        self.price = [stock_price]\n",
    "        self.vol = []\n",
    "        self.MA_5 = []\n",
    "        self.MA_10 = []\n",
    "        self.MA_100 = []\n",
    "        self.MA_500 = []\n",
    "        \n",
    "    def make_deals(self, orders):\n",
    "        buy_list = [Dynamic_order(order) for order in orders if order.volume>0]\n",
    "        sell_list = [Dynamic_order(order) for order in orders if order.volume<0]\n",
    "\n",
    "        buy_list = sorted(buy_list, key=lambda x:(-x.price, x.id))\n",
    "        sell_list = sorted(sell_list, key=lambda x:(x.price, x.id))\n",
    "        deal_result = np.zeros(len(orders), int)\n",
    "        price = 0\n",
    "        if len(buy_list)==0 or len(sell_list)==0:\n",
    "            return price, deal_result\n",
    "        while buy_list[0].price - sell_list[0].price >= 0:\n",
    "            if sell_list[0].volume + buy_list[0].volume <= 0:\n",
    "                sell_list[0].volume += buy_list[0].volume\n",
    "                deal_result[buy_list[0].id] += buy_list[0].volume\n",
    "                deal_result[sell_list[0].id] -= buy_list[0].volume\n",
    "                if sell_list[0].volume + buy_list[0].volume == 0:\n",
    "                    price = (buy_list[0].price + sell_list[0].price) / 2\n",
    "                else:\n",
    "                    price = sell_list[0].price\n",
    "                _ = buy_list.pop(0)\n",
    "            else:\n",
    "                buy_list[0].volume += sell_list[0].volume\n",
    "                deal_result[buy_list[0].id] -= sell_list[0].volume\n",
    "                deal_result[sell_list[0].id] += sell_list[0].volume\n",
    "                price = buy_list[0].price\n",
    "                _ = sell_list.pop(0)           \n",
    "            price = abs(price)\n",
    "            if len(buy_list)==0 or len(sell_list)==0:\n",
    "                break\n",
    "        assert np.sum(deal_result)==0\n",
    "        self.update(price, deal_result)\n",
    "        return price, deal_result\n",
    "    \n",
    "    def update(self, price, deal_result):\n",
    "        self.price.append(price)\n",
    "        self.vol.append(np.sum(deal_result))\n",
    "        duration = len(self.price)\n",
    "        self.MA_5.append(np.mean(self.price[-5:]) if duration>5 else 0)\n",
    "        self.MA_10.append(np.mean(self.price[-10:]) if duration>10 else 0)\n",
    "        self.MA_100.append(np.mean(self.price[-100:]) if duration>100 else 0)\n",
    "        self.MA_500.append(np.mean(self.price[-500:]) if duration>500 else 0)\n",
    "        \n",
    "    def step(self):\n",
    "        orders = []\n",
    "        for investor in self.investors:\n",
    "            investor.gen_order()\n",
    "            orders.append(investor.order)\n",
    "\n",
    "        price, deal_result = self.make_deals(orders)\n",
    "        for i,investor in enumerate(self.investors):\n",
    "            investor.update(price=price, vol=deal_result[i])"
   ]
  },
  {
   "cell_type": "code",
   "execution_count": 7,
   "metadata": {
    "collapsed": false
   },
   "outputs": [],
   "source": [
    "market = Market(Basic_Trader, 30, asset=1000, stock_price=10)\n",
    "for i in range(30):\n",
    "    market.step()"
   ]
  },
  {
   "cell_type": "code",
   "execution_count": 8,
   "metadata": {
    "collapsed": false
   },
   "outputs": [
    {
     "name": "stdout",
     "output_type": "stream",
     "text": [
      "id : 0, cash : 650, stock : 29, stock_price : 6, asset : 824\n",
      "id : 1, cash : 489, stock : 50, stock_price : 6, asset : 789\n",
      "id : 2, cash : 7, stock : 100, stock_price : 6, asset : 607\n",
      "id : 3, cash : 528, stock : 49, stock_price : 6, asset : 822\n",
      "id : 4, cash : 734, stock : 31, stock_price : 6, asset : 920\n",
      "id : 5, cash : 448, stock : 54, stock_price : 6, asset : 772\n",
      "id : 6, cash : 644, stock : 30, stock_price : 6, asset : 824\n",
      "id : 7, cash : 791, stock : 22, stock_price : 6, asset : 923\n",
      "id : 8, cash : 205, stock : 80, stock_price : 6, asset : 685\n",
      "id : 9, cash : 1051, stock : -6, stock_price : 6, asset : 1015\n",
      "id : 10, cash : 474, stock : 50, stock_price : 6, asset : 774\n",
      "id : 11, cash : 348, stock : 59, stock_price : 6, asset : 702\n",
      "id : 12, cash : 504, stock : 50, stock_price : 6, asset : 804\n",
      "id : 13, cash : 253, stock : 78, stock_price : 6, asset : 721\n",
      "id : 14, cash : 914, stock : 7, stock_price : 6, asset : 956\n",
      "id : 15, cash : 196, stock : 82, stock_price : 6, asset : 688\n",
      "id : 16, cash : 68, stock : 92, stock_price : 6, asset : 620\n",
      "id : 17, cash : 761, stock : 28, stock_price : 6, asset : 929\n",
      "id : 18, cash : 606, stock : 39, stock_price : 6, asset : 840\n",
      "id : 19, cash : 853, stock : 8, stock_price : 6, asset : 901\n",
      "id : 20, cash : 609, stock : 42, stock_price : 6, asset : 861\n",
      "id : 21, cash : 537, stock : 49, stock_price : 6, asset : 831\n",
      "id : 22, cash : 948, stock : 5, stock_price : 6, asset : 978\n",
      "id : 23, cash : 855, stock : 13, stock_price : 6, asset : 933\n",
      "id : 24, cash : 111, stock : 91, stock_price : 6, asset : 657\n",
      "id : 25, cash : 623, stock : 36, stock_price : 6, asset : 839\n",
      "id : 26, cash : 819, stock : 20, stock_price : 6, asset : 939\n",
      "id : 27, cash : 5, stock : 99, stock_price : 6, asset : 599\n",
      "id : 28, cash : 501, stock : 53, stock_price : 6, asset : 819\n",
      "id : 29, cash : 813, stock : 25, stock_price : 6, asset : 963\n",
      "24540.0\n"
     ]
    }
   ],
   "source": [
    "sum = 0\n",
    "for investor in market.investors:\n",
    "    investor.show\n",
    "    sum += investor.asset\n",
    "    \n",
    "print(sum)"
   ]
  }
 ],
 "metadata": {
  "anaconda-cloud": {},
  "kernelspec": {
   "display_name": "Python [conda root]",
   "language": "python",
   "name": "conda-root-py"
  },
  "language_info": {
   "codemirror_mode": {
    "name": "ipython",
    "version": 3
   },
   "file_extension": ".py",
   "mimetype": "text/x-python",
   "name": "python",
   "nbconvert_exporter": "python",
   "pygments_lexer": "ipython3",
   "version": "3.5.2"
  }
 },
 "nbformat": 4,
 "nbformat_minor": 1
}
