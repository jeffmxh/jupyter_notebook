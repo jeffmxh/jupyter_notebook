{
 "cells": [
  {
   "cell_type": "code",
   "execution_count": 1,
   "metadata": {
    "collapsed": true
   },
   "outputs": [],
   "source": [
    "import numpy as np\n",
    "\n",
    "from collections import namedtuple"
   ]
  },
  {
   "cell_type": "code",
   "execution_count": 2,
   "metadata": {
    "collapsed": true
   },
   "outputs": [],
   "source": [
    "'''\n",
    "struct to storage order price and volume to trade\n",
    "\n",
    "Usage:\n",
    "a = Order(price=1, volume=1)\n",
    "'''\n",
    "\n",
    "Order = namedtuple('order', 'id price volume')"
   ]
  },
  {
   "cell_type": "code",
   "execution_count": 3,
   "metadata": {
    "collapsed": false
   },
   "outputs": [],
   "source": [
    "class dynamic_order:\n",
    "    '''\n",
    "    extension of Order, used in making deals\n",
    "    '''\n",
    "    def __init__(self, order):\n",
    "        assert isinstance(order, Order)\n",
    "        self.id = order.id\n",
    "        self.price = order.price\n",
    "        self.volume = order.volume\n",
    "    @property\n",
    "    def show(self):\n",
    "        print('id : %d' % self.id)\n",
    "        print('price : %d' % self.price)\n",
    "        print('volume : %d' % self.volume)"
   ]
  },
  {
   "cell_type": "code",
   "execution_count": 4,
   "metadata": {
    "collapsed": true
   },
   "outputs": [],
   "source": [
    "class Trader:\n",
    "    '''\n",
    "    A primary class to define an investor\n",
    "    '''\n",
    "    def __init__(self, id):\n",
    "        self.id = id\n",
    "        self.asset = 0\n",
    "        self.stock = 0\n",
    "        self.order = Order(id=self.id,\n",
    "                           price=0,\n",
    "                           volume=0)\n",
    "        \n",
    "    def gen_order(self):\n",
    "        self.order = Order(id=self.id,\n",
    "                           price=np.random.randint(-10, 10), \n",
    "                           volume=np.random.randint(1, 5))\n",
    "        \n",
    "    def update(self, price, vol):\n",
    "        self.asset -= price * vol\n",
    "        self.stock += np.sign(price) * vol\n",
    "        \n",
    "    @property\n",
    "    def show(self):\n",
    "        print('id : %d' % self.id)\n",
    "        print('asset : %d' % self.asset)\n",
    "        print('stock : %d' % self.stock)"
   ]
  },
  {
   "cell_type": "code",
   "execution_count": 5,
   "metadata": {
    "collapsed": false
   },
   "outputs": [],
   "source": [
    "investors = [Trader(i) for i in range(20)]"
   ]
  },
  {
   "cell_type": "code",
   "execution_count": 6,
   "metadata": {
    "collapsed": false
   },
   "outputs": [],
   "source": [
    "orders = []\n",
    "for investor in investors:\n",
    "    investor.gen_order()\n",
    "    orders.append(investor.order)"
   ]
  },
  {
   "cell_type": "code",
   "execution_count": 7,
   "metadata": {
    "collapsed": false
   },
   "outputs": [
    {
     "data": {
      "text/plain": [
       "[order(id=0, price=4, volume=1),\n",
       " order(id=1, price=9, volume=2),\n",
       " order(id=2, price=2, volume=2),\n",
       " order(id=3, price=7, volume=4),\n",
       " order(id=4, price=5, volume=4),\n",
       " order(id=5, price=-7, volume=2),\n",
       " order(id=6, price=5, volume=2),\n",
       " order(id=7, price=-1, volume=3),\n",
       " order(id=8, price=7, volume=4),\n",
       " order(id=9, price=2, volume=4),\n",
       " order(id=10, price=-7, volume=1),\n",
       " order(id=11, price=-10, volume=1),\n",
       " order(id=12, price=7, volume=2),\n",
       " order(id=13, price=-10, volume=2),\n",
       " order(id=14, price=-3, volume=2),\n",
       " order(id=15, price=6, volume=3),\n",
       " order(id=16, price=8, volume=4),\n",
       " order(id=17, price=-2, volume=4),\n",
       " order(id=18, price=2, volume=2),\n",
       " order(id=19, price=-8, volume=1)]"
      ]
     },
     "execution_count": 7,
     "metadata": {},
     "output_type": "execute_result"
    }
   ],
   "source": [
    "orders"
   ]
  },
  {
   "cell_type": "code",
   "execution_count": 8,
   "metadata": {
    "collapsed": false
   },
   "outputs": [],
   "source": [
    "def make_deals(orders):\n",
    "    buy_list = [dynamic_order(order) for order in orders if order.price>0]\n",
    "    sell_list = [dynamic_order(order) for order in orders if order.price<0]\n",
    "\n",
    "    buy_list = sorted(buy_list, key=lambda x:(-x.price, x.id))\n",
    "    sell_list = sorted(sell_list, key=lambda x:(abs(x.price), x.id))\n",
    "    deal_result = np.zeros(20, int)\n",
    "    price = 0\n",
    "    if len(buy_list)==0 or len(sell_list)==0:\n",
    "        return price, deal_result\n",
    "    while sell_list[0].price+buy_list[0].price>=0:\n",
    "        if sell_list[0].volume>=buy_list[0].volume:\n",
    "            sell_list[0].volume -= buy_list[0].volume\n",
    "            deal_result[buy_list[0].id] += buy_list[0].volume\n",
    "            deal_result[sell_list[0].id] += buy_list[0].volume\n",
    "            if sell_list[0].volume==buy_list[0].volume:\n",
    "                price = (buy_list[0].price + sell_list[0].price) / 2\n",
    "            else:\n",
    "                price = sell_list[0].price\n",
    "            _ = buy_list.pop(0)\n",
    "        else:\n",
    "            buy_list[0].volume -= sell_list[0].volume\n",
    "            deal_result[buy_list[0].id] += sell_list[0].volume\n",
    "            deal_result[sell_list[0].id] += sell_list[0].volume\n",
    "            price = buy_list[0].price\n",
    "            _ = sell_list.pop(0)           \n",
    "        price = abs(price)\n",
    "        if len(buy_list)==0 or len(sell_list)==0:\n",
    "            break\n",
    "    return price, deal_result"
   ]
  },
  {
   "cell_type": "code",
   "execution_count": 9,
   "metadata": {
    "collapsed": false
   },
   "outputs": [
    {
     "data": {
      "text/plain": [
       "array([0, 2, 0, 4, 0, 2, 0, 3, 2, 0, 1, 0, 0, 0, 2, 0, 4, 4, 0, 0])"
      ]
     },
     "execution_count": 9,
     "metadata": {},
     "output_type": "execute_result"
    }
   ],
   "source": [
    "price, deal_result = make_deals(orders)\n",
    "deal_result"
   ]
  },
  {
   "cell_type": "code",
   "execution_count": 10,
   "metadata": {
    "collapsed": false
   },
   "outputs": [],
   "source": [
    "for i,investor in enumerate(investors):\n",
    "    investor.update(price=price, vol=deal_result[i])"
   ]
  }
 ],
 "metadata": {
  "anaconda-cloud": {},
  "kernelspec": {
   "display_name": "Python [conda root]",
   "language": "python",
   "name": "conda-root-py"
  },
  "language_info": {
   "codemirror_mode": {
    "name": "ipython",
    "version": 3
   },
   "file_extension": ".py",
   "mimetype": "text/x-python",
   "name": "python",
   "nbconvert_exporter": "python",
   "pygments_lexer": "ipython3",
   "version": "3.5.2"
  }
 },
 "nbformat": 4,
 "nbformat_minor": 1
}
