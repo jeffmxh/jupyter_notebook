{
 "cells": [
  {
   "cell_type": "code",
   "execution_count": 1,
   "metadata": {
    "collapsed": true
   },
   "outputs": [],
   "source": [
    "import numpy as np\n",
    "import time\n",
    "\n",
    "from collections import namedtuple"
   ]
  },
  {
   "cell_type": "code",
   "execution_count": 2,
   "metadata": {
    "collapsed": true
   },
   "outputs": [],
   "source": [
    "'''\n",
    "struct to storage order price and volume to trade\n",
    "\n",
    "Usage:\n",
    "a = Order(price=1, volume=1)\n",
    "'''\n",
    "\n",
    "Order = namedtuple('order', 'id price volume')"
   ]
  },
  {
   "cell_type": "code",
   "execution_count": 3,
   "metadata": {
    "collapsed": false
   },
   "outputs": [],
   "source": [
    "class dynamic_order:\n",
    "    '''\n",
    "    extension of Order, used in making deals\n",
    "    '''\n",
    "    def __init__(self, order):\n",
    "        assert isinstance(order, Order)\n",
    "        self.id = order.id\n",
    "        self.price = order.price\n",
    "        self.volume = order.volume\n",
    "    @property\n",
    "    def show(self):\n",
    "        print('id : %d' % self.id)\n",
    "        print('price : %d' % self.price)\n",
    "        print('volume : %d' % self.volume)"
   ]
  },
  {
   "cell_type": "code",
   "execution_count": 4,
   "metadata": {
    "collapsed": true
   },
   "outputs": [],
   "source": [
    "class Trader:\n",
    "    '''\n",
    "    A primary class to define an investor\n",
    "    '''\n",
    "    def __init__(self, id):\n",
    "        self.id = id\n",
    "        self.cash = 0 # 现金\n",
    "        self.cash_history = []\n",
    "        self.asset = 0 # 总资产\n",
    "        self.asset_history = []\n",
    "        self.stock = 0 # 持股\n",
    "        self.stock_history = []\n",
    "        self.trade_history = [] # 交易记录\n",
    "        self.price = 0\n",
    "        self.order = Order(id=self.id,\n",
    "                           price=0,\n",
    "                           volume=0)\n",
    "        \n",
    "    def gen_order(self):\n",
    "        self.order = Order(id=self.id,\n",
    "                           price=np.random.randint(-10, 10), \n",
    "                           volume=np.random.randint(1, 5))\n",
    "        \n",
    "    def update(self, price, vol):\n",
    "        vol *= np.sign(self.order.price)\n",
    "        price = abs(price)\n",
    "        self.cash -= price * vol\n",
    "        self.cash_history.append(self.cash)\n",
    "        self.stock += vol\n",
    "        self.stock_history.append(self.stock)\n",
    "        self.trade_history.append((price, vol))\n",
    "        self.price = price\n",
    "        self.asset = self.cash + self.stock * self.price\n",
    "        self.asset_history.append(self.asset)\n",
    "        \n",
    "    @property\n",
    "    def show(self):\n",
    "        print('id : %d, cash : %d, stock : %d, stock_price : %d, asset : %d' % \n",
    "             (self.id, self.cash, self.stock, self.price, self.asset))\n",
    "        \n",
    "#         print('asset : %d' % self.asset)\n",
    "#         print('stock : %d' % self.stock)\n",
    "        "
   ]
  },
  {
   "cell_type": "code",
   "execution_count": 5,
   "metadata": {
    "collapsed": false
   },
   "outputs": [],
   "source": [
    "def make_deals(orders):\n",
    "    buy_list = [dynamic_order(order) for order in orders if order.price>0]\n",
    "    sell_list = [dynamic_order(order) for order in orders if order.price<0]\n",
    "\n",
    "    buy_list = sorted(buy_list, key=lambda x:(-x.price, x.id))\n",
    "    sell_list = sorted(sell_list, key=lambda x:(abs(x.price), x.id))\n",
    "    deal_result = np.zeros(len(orders), int)\n",
    "    price = 0\n",
    "    if len(buy_list)==0 or len(sell_list)==0:\n",
    "        return price, deal_result\n",
    "    while sell_list[0].price+buy_list[0].price>=0:\n",
    "        if sell_list[0].volume>=buy_list[0].volume:\n",
    "            sell_list[0].volume -= buy_list[0].volume\n",
    "            deal_result[buy_list[0].id] += buy_list[0].volume\n",
    "            deal_result[sell_list[0].id] += buy_list[0].volume\n",
    "            if sell_list[0].volume==buy_list[0].volume:\n",
    "                price = (buy_list[0].price + abs(sell_list[0].price)) / 2\n",
    "            else:\n",
    "                price = abs(sell_list[0].price)\n",
    "            _ = buy_list.pop(0)\n",
    "        else:\n",
    "            buy_list[0].volume -= sell_list[0].volume\n",
    "            deal_result[buy_list[0].id] += sell_list[0].volume\n",
    "            deal_result[sell_list[0].id] += sell_list[0].volume\n",
    "            price = buy_list[0].price\n",
    "            _ = sell_list.pop(0)           \n",
    "        price = abs(price)\n",
    "        if len(buy_list)==0 or len(sell_list)==0:\n",
    "            break\n",
    "    return price, deal_result"
   ]
  },
  {
   "cell_type": "code",
   "execution_count": 8,
   "metadata": {
    "collapsed": false
   },
   "outputs": [],
   "source": [
    "investors = [Trader(i) for i in range(20)]"
   ]
  },
  {
   "cell_type": "code",
   "execution_count": 9,
   "metadata": {
    "collapsed": false
   },
   "outputs": [
    {
     "data": {
      "text/plain": [
       "[order(id=0, price=-10, volume=2),\n",
       " order(id=1, price=2, volume=4),\n",
       " order(id=2, price=-5, volume=3),\n",
       " order(id=3, price=9, volume=1),\n",
       " order(id=4, price=2, volume=1),\n",
       " order(id=5, price=8, volume=3),\n",
       " order(id=6, price=-8, volume=4),\n",
       " order(id=7, price=-3, volume=4),\n",
       " order(id=8, price=-6, volume=3),\n",
       " order(id=9, price=1, volume=2),\n",
       " order(id=10, price=7, volume=1),\n",
       " order(id=11, price=3, volume=1),\n",
       " order(id=12, price=-2, volume=1),\n",
       " order(id=13, price=1, volume=1),\n",
       " order(id=14, price=2, volume=2),\n",
       " order(id=15, price=-8, volume=4),\n",
       " order(id=16, price=-9, volume=4),\n",
       " order(id=17, price=6, volume=1),\n",
       " order(id=18, price=0, volume=2),\n",
       " order(id=19, price=-10, volume=3)]"
      ]
     },
     "execution_count": 9,
     "metadata": {},
     "output_type": "execute_result"
    }
   ],
   "source": [
    "orders = []\n",
    "for investor in investors:\n",
    "    investor.gen_order()\n",
    "    orders.append(investor.order)\n",
    "    \n",
    "orders"
   ]
  },
  {
   "cell_type": "code",
   "execution_count": 10,
   "metadata": {
    "collapsed": false
   },
   "outputs": [
    {
     "name": "stdout",
     "output_type": "stream",
     "text": [
      "用时: 1.317028284072876\n"
     ]
    }
   ],
   "source": [
    "start = time.time()\n",
    "for step in range(3000):\n",
    "    orders = []\n",
    "    for investor in investors:\n",
    "        investor.gen_order()\n",
    "        orders.append(investor.order)\n",
    "\n",
    "    price, deal_result = make_deals(orders)\n",
    "    for i,investor in enumerate(investors):\n",
    "        investor.update(price=price, vol=deal_result[i])\n",
    "        \n",
    "print('用时:', time.time()-start)"
   ]
  },
  {
   "cell_type": "code",
   "execution_count": 11,
   "metadata": {
    "collapsed": false
   },
   "outputs": [
    {
     "data": {
      "text/plain": [
       "20"
      ]
     },
     "execution_count": 11,
     "metadata": {},
     "output_type": "execute_result"
    }
   ],
   "source": [
    "len(orders)"
   ]
  },
  {
   "cell_type": "code",
   "execution_count": 12,
   "metadata": {
    "collapsed": false
   },
   "outputs": [
    {
     "name": "stdout",
     "output_type": "stream",
     "text": [
      "id : 0, cash : 512, stock : -113, stock_price : 4, asset : 60\n",
      "id : 1, cash : 583, stock : -104, stock_price : 4, asset : 167\n",
      "id : 2, cash : 562, stock : -101, stock_price : 4, asset : 158\n",
      "id : 3, cash : -151, stock : -13, stock_price : 4, asset : -203\n",
      "id : 4, cash : -380, stock : 98, stock_price : 4, asset : 11\n",
      "id : 5, cash : 531, stock : -64, stock_price : 4, asset : 275\n",
      "id : 6, cash : -305, stock : 55, stock_price : 4, asset : -85\n",
      "id : 7, cash : -941, stock : 135, stock_price : 4, asset : -401\n",
      "id : 8, cash : -522, stock : 60, stock_price : 4, asset : -282\n",
      "id : 9, cash : 0, stock : 2, stock_price : 4, asset : 7\n",
      "id : 10, cash : -428, stock : 76, stock_price : 4, asset : -124\n",
      "id : 11, cash : 327, stock : -56, stock_price : 4, asset : 103\n",
      "id : 12, cash : 76, stock : -46, stock_price : 4, asset : -107\n",
      "id : 13, cash : -466, stock : 107, stock_price : 4, asset : -38\n",
      "id : 14, cash : 98, stock : -21, stock_price : 4, asset : 14\n",
      "id : 15, cash : -97, stock : -16, stock_price : 4, asset : -161\n",
      "id : 16, cash : 250, stock : -49, stock_price : 4, asset : 54\n",
      "id : 17, cash : 387, stock : -4, stock_price : 4, asset : 371\n",
      "id : 18, cash : 53, stock : -2, stock_price : 4, asset : 45\n",
      "id : 19, cash : -89, stock : 56, stock_price : 4, asset : 135\n"
     ]
    }
   ],
   "source": [
    "for investor in investors:\n",
    "    investor.show"
   ]
  }
 ],
 "metadata": {
  "anaconda-cloud": {},
  "kernelspec": {
   "display_name": "Python [conda root]",
   "language": "python",
   "name": "conda-root-py"
  },
  "language_info": {
   "codemirror_mode": {
    "name": "ipython",
    "version": 3
   },
   "file_extension": ".py",
   "mimetype": "text/x-python",
   "name": "python",
   "nbconvert_exporter": "python",
   "pygments_lexer": "ipython3",
   "version": "3.5.2"
  }
 },
 "nbformat": 4,
 "nbformat_minor": 1
}
