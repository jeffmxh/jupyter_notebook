{
 "cells": [
  {
   "cell_type": "code",
   "execution_count": 8,
   "metadata": {
    "collapsed": true
   },
   "outputs": [],
   "source": [
    "import numpy as np\n",
    "import time\n",
    "\n",
    "from collections import namedtuple"
   ]
  },
  {
   "cell_type": "code",
   "execution_count": 2,
   "metadata": {
    "collapsed": true
   },
   "outputs": [],
   "source": [
    "'''\n",
    "struct to storage order price and volume to trade\n",
    "\n",
    "Usage:\n",
    "a = Order(price=1, volume=1)\n",
    "'''\n",
    "\n",
    "Order = namedtuple('order', 'id price volume')"
   ]
  },
  {
   "cell_type": "code",
   "execution_count": 3,
   "metadata": {
    "collapsed": false
   },
   "outputs": [],
   "source": [
    "class dynamic_order:\n",
    "    '''\n",
    "    extension of Order, used in making deals\n",
    "    '''\n",
    "    def __init__(self, order):\n",
    "        assert isinstance(order, Order)\n",
    "        self.id = order.id\n",
    "        self.price = order.price\n",
    "        self.volume = order.volume\n",
    "    @property\n",
    "    def show(self):\n",
    "        print('id : %d' % self.id)\n",
    "        print('price : %d' % self.price)\n",
    "        print('volume : %d' % self.volume)"
   ]
  },
  {
   "cell_type": "code",
   "execution_count": 4,
   "metadata": {
    "collapsed": true
   },
   "outputs": [],
   "source": [
    "class Trader:\n",
    "    '''\n",
    "    A primary class to define an investor\n",
    "    '''\n",
    "    def __init__(self, id):\n",
    "        self.id = id\n",
    "        self.cash = 0 # 现金\n",
    "        self.cash_history = []\n",
    "        self.asset = 0 # 总资产\n",
    "        self.asset_history = []\n",
    "        self.stock = 0 # 持股\n",
    "        self.stock_history = []\n",
    "        self.trade_history = [] # 交易记录\n",
    "        self.price = 0\n",
    "        self.order = Order(id=self.id,\n",
    "                           price=0,\n",
    "                           volume=0)\n",
    "        \n",
    "    def gen_order(self):\n",
    "        self.order = Order(id=self.id,\n",
    "                           price=np.random.randint(-10, 10), \n",
    "                           volume=np.random.randint(1, 5))\n",
    "        \n",
    "    def update(self, price, vol):\n",
    "        vol *= np.sign(self.order.price)\n",
    "        price = abs(price)\n",
    "        self.cash -= price * vol\n",
    "        self.cash_history.append(self.cash)\n",
    "        self.stock += vol\n",
    "        self.stock_history.append(self.stock)\n",
    "        self.trade_history.append((price, vol))\n",
    "        self.price = price\n",
    "        self.asset = self.cash + self.stock * self.price\n",
    "        self.asset_history.append(self.asset)\n",
    "        \n",
    "    @property\n",
    "    def show(self):\n",
    "        print('id : %d, cash : %d, stock : %d, stock_price : %d, asset : %d' % \n",
    "             (self.id, self.cash, self.stock, self.price, self.asset))\n",
    "        \n",
    "#         print('asset : %d' % self.asset)\n",
    "#         print('stock : %d' % self.stock)\n",
    "        "
   ]
  },
  {
   "cell_type": "code",
   "execution_count": 5,
   "metadata": {
    "collapsed": false
   },
   "outputs": [],
   "source": [
    "def make_deals(orders):\n",
    "    buy_list = [dynamic_order(order) for order in orders if order.price>0]\n",
    "    sell_list = [dynamic_order(order) for order in orders if order.price<0]\n",
    "\n",
    "    buy_list = sorted(buy_list, key=lambda x:(-x.price, x.id))\n",
    "    sell_list = sorted(sell_list, key=lambda x:(abs(x.price), x.id))\n",
    "    deal_result = np.zeros(len(orders), int)\n",
    "    price = 0\n",
    "    if len(buy_list)==0 or len(sell_list)==0:\n",
    "        return price, deal_result\n",
    "    while sell_list[0].price+buy_list[0].price>=0:\n",
    "        if sell_list[0].volume>=buy_list[0].volume:\n",
    "            sell_list[0].volume -= buy_list[0].volume\n",
    "            deal_result[buy_list[0].id] += buy_list[0].volume\n",
    "            deal_result[sell_list[0].id] += buy_list[0].volume\n",
    "            if sell_list[0].volume==buy_list[0].volume:\n",
    "                price = (buy_list[0].price + abs(sell_list[0].price)) / 2\n",
    "            else:\n",
    "                price = abs(sell_list[0].price)\n",
    "            _ = buy_list.pop(0)\n",
    "        else:\n",
    "            buy_list[0].volume -= sell_list[0].volume\n",
    "            deal_result[buy_list[0].id] += sell_list[0].volume\n",
    "            deal_result[sell_list[0].id] += sell_list[0].volume\n",
    "            price = buy_list[0].price\n",
    "            _ = sell_list.pop(0)           \n",
    "        price = abs(price)\n",
    "        if len(buy_list)==0 or len(sell_list)==0:\n",
    "            break\n",
    "    return price, deal_result"
   ]
  },
  {
   "cell_type": "code",
   "execution_count": 6,
   "metadata": {
    "collapsed": false
   },
   "outputs": [],
   "source": [
    "investors = [Trader(i) for i in range(200)]"
   ]
  },
  {
   "cell_type": "code",
   "execution_count": 9,
   "metadata": {
    "collapsed": false
   },
   "outputs": [
    {
     "name": "stdout",
     "output_type": "stream",
     "text": [
      "用时: 5.2292797565460205\n"
     ]
    }
   ],
   "source": [
    "start = time.time()\n",
    "for step in range(3000):\n",
    "    orders = []\n",
    "    for investor in investors:\n",
    "        investor.gen_order()\n",
    "        orders.append(investor.order)\n",
    "\n",
    "    price, deal_result = make_deals(orders)\n",
    "    for i,investor in enumerate(investors):\n",
    "        investor.update(price=price, vol=deal_result[i])\n",
    "        \n",
    "print('用时:', time.time()-start)"
   ]
  },
  {
   "cell_type": "code",
   "execution_count": 10,
   "metadata": {
    "collapsed": false
   },
   "outputs": [
    {
     "data": {
      "text/plain": [
       "200"
      ]
     },
     "execution_count": 10,
     "metadata": {},
     "output_type": "execute_result"
    }
   ],
   "source": [
    "len(orders)"
   ]
  },
  {
   "cell_type": "code",
   "execution_count": 11,
   "metadata": {
    "collapsed": false
   },
   "outputs": [
    {
     "name": "stdout",
     "output_type": "stream",
     "text": [
      "id : 0, cash : -828, stock : 176, stock_price : 5, asset : 52\n",
      "id : 1, cash : 237, stock : -27, stock_price : 5, asset : 102\n",
      "id : 2, cash : -254, stock : 60, stock_price : 5, asset : 46\n",
      "id : 3, cash : 218, stock : -39, stock_price : 5, asset : 23\n",
      "id : 4, cash : -371, stock : 74, stock_price : 5, asset : -1\n",
      "id : 5, cash : -529, stock : 96, stock_price : 5, asset : -49\n",
      "id : 6, cash : 207, stock : -14, stock_price : 5, asset : 137\n",
      "id : 7, cash : 153, stock : -28, stock_price : 5, asset : 13\n",
      "id : 8, cash : -572, stock : 126, stock_price : 5, asset : 58\n",
      "id : 9, cash : -1037, stock : 211, stock_price : 5, asset : 18\n",
      "id : 10, cash : 364, stock : -77, stock_price : 5, asset : -21\n",
      "id : 11, cash : -283, stock : 56, stock_price : 5, asset : -3\n",
      "id : 12, cash : -356, stock : 82, stock_price : 5, asset : 54\n",
      "id : 13, cash : -372, stock : 84, stock_price : 5, asset : 48\n",
      "id : 14, cash : -650, stock : 129, stock_price : 5, asset : -5\n",
      "id : 15, cash : -868, stock : 185, stock_price : 5, asset : 57\n",
      "id : 16, cash : 89, stock : -18, stock_price : 5, asset : -1\n",
      "id : 17, cash : -89, stock : 38, stock_price : 5, asset : 101\n",
      "id : 18, cash : 421, stock : -51, stock_price : 5, asset : 166\n",
      "id : 19, cash : -353, stock : 72, stock_price : 5, asset : 7\n",
      "id : 20, cash : -69, stock : -8, stock_price : 5, asset : -109\n",
      "id : 21, cash : -61, stock : 27, stock_price : 5, asset : 74\n",
      "id : 22, cash : -64, stock : 5, stock_price : 5, asset : -39\n",
      "id : 23, cash : 768, stock : -124, stock_price : 5, asset : 148\n",
      "id : 24, cash : -81, stock : 28, stock_price : 5, asset : 59\n",
      "id : 25, cash : 264, stock : -31, stock_price : 5, asset : 109\n",
      "id : 26, cash : -1072, stock : 203, stock_price : 5, asset : -57\n",
      "id : 27, cash : 190, stock : -19, stock_price : 5, asset : 95\n",
      "id : 28, cash : -329, stock : 63, stock_price : 5, asset : -14\n",
      "id : 29, cash : 46, stock : 0, stock_price : 5, asset : 46\n",
      "id : 30, cash : 246, stock : -35, stock_price : 5, asset : 71\n",
      "id : 31, cash : -315, stock : 60, stock_price : 5, asset : -15\n",
      "id : 32, cash : -922, stock : 183, stock_price : 5, asset : -7\n",
      "id : 33, cash : 238, stock : -39, stock_price : 5, asset : 43\n",
      "id : 34, cash : -499, stock : 111, stock_price : 5, asset : 56\n",
      "id : 35, cash : -845, stock : 177, stock_price : 5, asset : 40\n",
      "id : 36, cash : -101, stock : 13, stock_price : 5, asset : -36\n",
      "id : 37, cash : 557, stock : -111, stock_price : 5, asset : 2\n",
      "id : 38, cash : -994, stock : 229, stock_price : 5, asset : 151\n",
      "id : 39, cash : 675, stock : -154, stock_price : 5, asset : -95\n",
      "id : 40, cash : 3, stock : 5, stock_price : 5, asset : 28\n",
      "id : 41, cash : 616, stock : -104, stock_price : 5, asset : 96\n",
      "id : 42, cash : -493, stock : 118, stock_price : 5, asset : 97\n",
      "id : 43, cash : 392, stock : -78, stock_price : 5, asset : 2\n",
      "id : 44, cash : -228, stock : 60, stock_price : 5, asset : 72\n",
      "id : 45, cash : 185, stock : -56, stock_price : 5, asset : -95\n",
      "id : 46, cash : 157, stock : -29, stock_price : 5, asset : 12\n",
      "id : 47, cash : 191, stock : -24, stock_price : 5, asset : 71\n",
      "id : 48, cash : -31, stock : 9, stock_price : 5, asset : 14\n",
      "id : 49, cash : -616, stock : 132, stock_price : 5, asset : 44\n",
      "id : 50, cash : -403, stock : 80, stock_price : 5, asset : -3\n",
      "id : 51, cash : 548, stock : -114, stock_price : 5, asset : -22\n",
      "id : 52, cash : -233, stock : 50, stock_price : 5, asset : 17\n",
      "id : 53, cash : 838, stock : -155, stock_price : 5, asset : 63\n",
      "id : 54, cash : -1057, stock : 221, stock_price : 5, asset : 48\n",
      "id : 55, cash : -622, stock : 119, stock_price : 5, asset : -27\n",
      "id : 56, cash : -2, stock : 21, stock_price : 5, asset : 103\n",
      "id : 57, cash : 864, stock : -169, stock_price : 5, asset : 19\n",
      "id : 58, cash : -437, stock : 100, stock_price : 5, asset : 63\n",
      "id : 59, cash : -54, stock : 26, stock_price : 5, asset : 76\n",
      "id : 60, cash : 131, stock : -41, stock_price : 5, asset : -74\n",
      "id : 61, cash : 208, stock : -52, stock_price : 5, asset : -52\n",
      "id : 62, cash : 608, stock : -130, stock_price : 5, asset : -42\n",
      "id : 63, cash : 823, stock : -164, stock_price : 5, asset : 3\n",
      "id : 64, cash : -438, stock : 104, stock_price : 5, asset : 82\n",
      "id : 65, cash : -162, stock : 37, stock_price : 5, asset : 23\n",
      "id : 66, cash : -66, stock : 24, stock_price : 5, asset : 54\n",
      "id : 67, cash : 479, stock : -84, stock_price : 5, asset : 59\n",
      "id : 68, cash : 356, stock : -35, stock_price : 5, asset : 181\n",
      "id : 69, cash : 182, stock : -37, stock_price : 5, asset : -3\n",
      "id : 70, cash : -296, stock : 78, stock_price : 5, asset : 94\n",
      "id : 71, cash : 617, stock : -110, stock_price : 5, asset : 67\n",
      "id : 72, cash : 393, stock : -64, stock_price : 5, asset : 73\n",
      "id : 73, cash : -658, stock : 129, stock_price : 5, asset : -13\n",
      "id : 74, cash : -538, stock : 118, stock_price : 5, asset : 52\n",
      "id : 75, cash : -780, stock : 163, stock_price : 5, asset : 35\n",
      "id : 76, cash : 49, stock : -13, stock_price : 5, asset : -16\n",
      "id : 77, cash : -443, stock : 101, stock_price : 5, asset : 62\n",
      "id : 78, cash : 627, stock : -130, stock_price : 5, asset : -23\n",
      "id : 79, cash : 508, stock : -102, stock_price : 5, asset : -2\n",
      "id : 80, cash : -1150, stock : 224, stock_price : 5, asset : -30\n",
      "id : 81, cash : -664, stock : 113, stock_price : 5, asset : -99\n",
      "id : 82, cash : -1116, stock : 231, stock_price : 5, asset : 39\n",
      "id : 83, cash : -175, stock : 23, stock_price : 5, asset : -60\n",
      "id : 84, cash : 317, stock : -83, stock_price : 5, asset : -98\n",
      "id : 85, cash : 130, stock : -47, stock_price : 5, asset : -105\n",
      "id : 86, cash : 370, stock : -84, stock_price : 5, asset : -50\n",
      "id : 87, cash : 29, stock : 17, stock_price : 5, asset : 114\n",
      "id : 88, cash : -279, stock : 59, stock_price : 5, asset : 16\n",
      "id : 89, cash : 86, stock : -18, stock_price : 5, asset : -4\n",
      "id : 90, cash : 1817, stock : -349, stock_price : 5, asset : 72\n",
      "id : 91, cash : 306, stock : -68, stock_price : 5, asset : -34\n",
      "id : 92, cash : -113, stock : 37, stock_price : 5, asset : 72\n",
      "id : 93, cash : -446, stock : 87, stock_price : 5, asset : -11\n",
      "id : 94, cash : 865, stock : -178, stock_price : 5, asset : -25\n",
      "id : 95, cash : -452, stock : 105, stock_price : 5, asset : 73\n",
      "id : 96, cash : 229, stock : -44, stock_price : 5, asset : 9\n",
      "id : 97, cash : -229, stock : 46, stock_price : 5, asset : 1\n",
      "id : 98, cash : -379, stock : 87, stock_price : 5, asset : 56\n",
      "id : 99, cash : 299, stock : -58, stock_price : 5, asset : 9\n",
      "id : 100, cash : 748, stock : -149, stock_price : 5, asset : 3\n",
      "id : 101, cash : 449, stock : -81, stock_price : 5, asset : 44\n",
      "id : 102, cash : 49, stock : -29, stock_price : 5, asset : -96\n",
      "id : 103, cash : 454, stock : -82, stock_price : 5, asset : 44\n",
      "id : 104, cash : 36, stock : -14, stock_price : 5, asset : -34\n",
      "id : 105, cash : 216, stock : -58, stock_price : 5, asset : -74\n",
      "id : 106, cash : -29, stock : -7, stock_price : 5, asset : -64\n",
      "id : 107, cash : -123, stock : 13, stock_price : 5, asset : -58\n",
      "id : 108, cash : -640, stock : 123, stock_price : 5, asset : -25\n",
      "id : 109, cash : -776, stock : 145, stock_price : 5, asset : -51\n",
      "id : 110, cash : 555, stock : -130, stock_price : 5, asset : -95\n",
      "id : 111, cash : 1380, stock : -306, stock_price : 5, asset : -150\n",
      "id : 112, cash : -424, stock : 70, stock_price : 5, asset : -74\n",
      "id : 113, cash : -139, stock : 46, stock_price : 5, asset : 91\n",
      "id : 114, cash : 794, stock : -150, stock_price : 5, asset : 44\n",
      "id : 115, cash : 316, stock : -63, stock_price : 5, asset : 1\n",
      "id : 116, cash : 945, stock : -198, stock_price : 5, asset : -45\n",
      "id : 117, cash : 259, stock : -67, stock_price : 5, asset : -76\n",
      "id : 118, cash : -765, stock : 130, stock_price : 5, asset : -115\n",
      "id : 119, cash : 379, stock : -93, stock_price : 5, asset : -86\n",
      "id : 120, cash : -263, stock : 54, stock_price : 5, asset : 7\n",
      "id : 121, cash : -769, stock : 153, stock_price : 5, asset : -4\n",
      "id : 122, cash : 421, stock : -79, stock_price : 5, asset : 26\n",
      "id : 123, cash : -100, stock : -4, stock_price : 5, asset : -120\n",
      "id : 124, cash : -592, stock : 121, stock_price : 5, asset : 13\n",
      "id : 125, cash : -406, stock : 69, stock_price : 5, asset : -61\n",
      "id : 126, cash : -457, stock : 88, stock_price : 5, asset : -17\n",
      "id : 127, cash : -235, stock : 39, stock_price : 5, asset : -40\n",
      "id : 128, cash : 406, stock : -80, stock_price : 5, asset : 6\n",
      "id : 129, cash : 40, stock : 7, stock_price : 5, asset : 75\n",
      "id : 130, cash : 303, stock : -80, stock_price : 5, asset : -97\n",
      "id : 131, cash : -348, stock : 55, stock_price : 5, asset : -73\n",
      "id : 132, cash : 337, stock : -65, stock_price : 5, asset : 12\n",
      "id : 133, cash : -237, stock : 59, stock_price : 5, asset : 58\n",
      "id : 134, cash : 942, stock : -185, stock_price : 5, asset : 17\n",
      "id : 135, cash : -159, stock : 41, stock_price : 5, asset : 46\n",
      "id : 136, cash : -280, stock : 49, stock_price : 5, asset : -35\n",
      "id : 137, cash : -653, stock : 131, stock_price : 5, asset : 2\n",
      "id : 138, cash : 812, stock : -151, stock_price : 5, asset : 57\n",
      "id : 139, cash : 166, stock : -57, stock_price : 5, asset : -119\n",
      "id : 140, cash : -137, stock : 16, stock_price : 5, asset : -57\n",
      "id : 141, cash : 1076, stock : -214, stock_price : 5, asset : 6\n",
      "id : 142, cash : 155, stock : -17, stock_price : 5, asset : 70\n",
      "id : 143, cash : 182, stock : -34, stock_price : 5, asset : 12\n",
      "id : 144, cash : -420, stock : 99, stock_price : 5, asset : 75\n",
      "id : 145, cash : 629, stock : -138, stock_price : 5, asset : -61\n",
      "id : 146, cash : -452, stock : 91, stock_price : 5, asset : 3\n",
      "id : 147, cash : 102, stock : -38, stock_price : 5, asset : -88\n",
      "id : 148, cash : 137, stock : -42, stock_price : 5, asset : -73\n",
      "id : 149, cash : -157, stock : 10, stock_price : 5, asset : -107\n",
      "id : 150, cash : 912, stock : -211, stock_price : 5, asset : -143\n",
      "id : 151, cash : -780, stock : 141, stock_price : 5, asset : -75\n",
      "id : 152, cash : -331, stock : 78, stock_price : 5, asset : 59\n",
      "id : 153, cash : 55, stock : -30, stock_price : 5, asset : -95\n",
      "id : 154, cash : -1020, stock : 200, stock_price : 5, asset : -20\n",
      "id : 155, cash : -426, stock : 77, stock_price : 5, asset : -41\n",
      "id : 156, cash : 124, stock : -47, stock_price : 5, asset : -111\n",
      "id : 157, cash : 46, stock : -36, stock_price : 5, asset : -134\n",
      "id : 158, cash : 50, stock : -20, stock_price : 5, asset : -50\n",
      "id : 159, cash : 509, stock : -80, stock_price : 5, asset : 109\n",
      "id : 160, cash : -523, stock : 87, stock_price : 5, asset : -88\n",
      "id : 161, cash : 504, stock : -94, stock_price : 5, asset : 34\n",
      "id : 162, cash : -850, stock : 153, stock_price : 5, asset : -85\n",
      "id : 163, cash : 213, stock : -53, stock_price : 5, asset : -52\n",
      "id : 164, cash : -550, stock : 97, stock_price : 5, asset : -65\n",
      "id : 165, cash : -23, stock : -21, stock_price : 5, asset : -128\n",
      "id : 166, cash : 874, stock : -178, stock_price : 5, asset : -16\n",
      "id : 167, cash : 399, stock : -71, stock_price : 5, asset : 44\n",
      "id : 168, cash : -159, stock : 35, stock_price : 5, asset : 16\n",
      "id : 169, cash : 226, stock : -49, stock_price : 5, asset : -19\n",
      "id : 170, cash : -446, stock : 84, stock_price : 5, asset : -26\n",
      "id : 171, cash : 807, stock : -172, stock_price : 5, asset : -53\n",
      "id : 172, cash : -691, stock : 139, stock_price : 5, asset : 4\n",
      "id : 173, cash : 252, stock : -24, stock_price : 5, asset : 132\n",
      "id : 174, cash : 586, stock : -127, stock_price : 5, asset : -49\n",
      "id : 175, cash : 178, stock : -38, stock_price : 5, asset : -12\n",
      "id : 176, cash : 61, stock : -34, stock_price : 5, asset : -109\n",
      "id : 177, cash : 138, stock : -12, stock_price : 5, asset : 78\n",
      "id : 178, cash : 493, stock : -115, stock_price : 5, asset : -82\n",
      "id : 179, cash : 464, stock : -95, stock_price : 5, asset : -11\n",
      "id : 180, cash : 176, stock : -42, stock_price : 5, asset : -34\n",
      "id : 181, cash : 243, stock : -28, stock_price : 5, asset : 103\n",
      "id : 182, cash : -436, stock : 79, stock_price : 5, asset : -41\n",
      "id : 183, cash : 631, stock : -148, stock_price : 5, asset : -109\n",
      "id : 184, cash : 283, stock : -66, stock_price : 5, asset : -47\n",
      "id : 185, cash : -277, stock : 55, stock_price : 5, asset : -2\n",
      "id : 186, cash : 22, stock : -3, stock_price : 5, asset : 7\n",
      "id : 187, cash : 228, stock : -61, stock_price : 5, asset : -77\n",
      "id : 188, cash : 208, stock : -51, stock_price : 5, asset : -47\n",
      "id : 189, cash : 88, stock : -28, stock_price : 5, asset : -52\n",
      "id : 190, cash : 733, stock : -141, stock_price : 5, asset : 28\n",
      "id : 191, cash : 863, stock : -180, stock_price : 5, asset : -37\n",
      "id : 192, cash : -262, stock : 54, stock_price : 5, asset : 8\n",
      "id : 193, cash : -627, stock : 136, stock_price : 5, asset : 53\n",
      "id : 194, cash : -59, stock : 26, stock_price : 5, asset : 71\n",
      "id : 195, cash : 1086, stock : -223, stock_price : 5, asset : -29\n",
      "id : 196, cash : 163, stock : -41, stock_price : 5, asset : -42\n",
      "id : 197, cash : -741, stock : 139, stock_price : 5, asset : -46\n",
      "id : 198, cash : 62, stock : -12, stock_price : 5, asset : 2\n",
      "id : 199, cash : -625, stock : 136, stock_price : 5, asset : 55\n"
     ]
    }
   ],
   "source": [
    "for investor in investors:\n",
    "    investor.show"
   ]
  },
  {
   "cell_type": "code",
   "execution_count": 80,
   "metadata": {
    "collapsed": true
   },
   "outputs": [],
   "source": [
    "import time\n",
    "a = time.time()"
   ]
  }
 ],
 "metadata": {
  "anaconda-cloud": {},
  "kernelspec": {
   "display_name": "Python [conda root]",
   "language": "python",
   "name": "conda-root-py"
  },
  "language_info": {
   "codemirror_mode": {
    "name": "ipython",
    "version": 3
   },
   "file_extension": ".py",
   "mimetype": "text/x-python",
   "name": "python",
   "nbconvert_exporter": "python",
   "pygments_lexer": "ipython3",
   "version": "3.5.2"
  }
 },
 "nbformat": 4,
 "nbformat_minor": 1
}
