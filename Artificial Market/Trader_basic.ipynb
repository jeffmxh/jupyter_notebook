{
 "cells": [
  {
   "cell_type": "code",
   "execution_count": 1,
   "metadata": {
    "collapsed": true
   },
   "outputs": [],
   "source": [
    "import numpy as np\n",
    "import time\n",
    "\n",
    "from collections import namedtuple"
   ]
  },
  {
   "cell_type": "code",
   "execution_count": 2,
   "metadata": {
    "collapsed": true
   },
   "outputs": [],
   "source": [
    "'''\n",
    "struct to storage order price and volume to trade\n",
    "\n",
    "Usage:\n",
    "a = Order(price=1, volume=1)\n",
    "'''\n",
    "\n",
    "Order = namedtuple('order', 'id price volume')"
   ]
  },
  {
   "cell_type": "code",
   "execution_count": 3,
   "metadata": {
    "collapsed": false
   },
   "outputs": [],
   "source": [
    "class Dynamic_order:\n",
    "    '''\n",
    "    extension of Order, used in making deals\n",
    "    '''\n",
    "    def __init__(self, order):\n",
    "        assert isinstance(order, Order)\n",
    "        self.id = order.id\n",
    "        self.price = order.price\n",
    "        self.volume = order.volume\n",
    "    @property\n",
    "    def show(self):\n",
    "        print('id : %d' % self.id)\n",
    "        print('price : %d' % self.price)\n",
    "        print('volume : %d' % self.volume)"
   ]
  },
  {
   "cell_type": "code",
   "execution_count": 4,
   "metadata": {
    "collapsed": true
   },
   "outputs": [],
   "source": [
    "class Trader:\n",
    "    '''\n",
    "    A primary class to define an investor, including actions\n",
    "    like gennerate an order, and update it's own status with\n",
    "    the trading result\n",
    "    '''\n",
    "    def __init__(self, id):\n",
    "        self.id = id\n",
    "        self.cash = 0 # 现金\n",
    "        self.cash_history = []\n",
    "        self.asset = 0 # 总资产\n",
    "        self.asset_history = []\n",
    "        self.stock = 0 # 持股\n",
    "        self.stock_history = []\n",
    "        self.trade_history = [] # 交易记录\n",
    "        self.price = 0\n",
    "        self.order = Order(id=self.id,\n",
    "                           price=0,\n",
    "                           volume=0)\n",
    "        \n",
    "    def gen_order(self):\n",
    "        self.order = Order(id=self.id,\n",
    "                           price=np.random.randint(-10, 10), \n",
    "                           volume=np.random.randint(1, 5))\n",
    "        \n",
    "    def update(self, price, vol):\n",
    "        vol *= np.sign(self.order.price)\n",
    "        price = abs(price)\n",
    "        self.cash -= price * vol\n",
    "        self.cash_history.append(self.cash)\n",
    "        self.stock += vol\n",
    "        self.stock_history.append(self.stock)\n",
    "        self.trade_history.append((price, vol))\n",
    "        self.price = price\n",
    "        self.asset = self.cash + self.stock * self.price\n",
    "        self.asset_history.append(self.asset)\n",
    "        \n",
    "    @property\n",
    "    def show(self):\n",
    "        print('id : %d, cash : %d, stock : %d, stock_price : %d, asset : %d' % \n",
    "             (self.id, self.cash, self.stock, self.price, self.asset))\n",
    "        \n",
    "#         print('asset : %d' % self.asset)\n",
    "#         print('stock : %d' % self.stock)\n",
    "        "
   ]
  },
  {
   "cell_type": "code",
   "execution_count": 12,
   "metadata": {
    "collapsed": false
   },
   "outputs": [],
   "source": [
    "class Market:\n",
    "    '''\n",
    "    A class to define a market stucture, initialize with a \n",
    "    number of investors, have the ability to generate orders\n",
    "    and deal with the orders from traders, returns a deal_price \n",
    "    and volume for every trader and update their status\n",
    "    \n",
    "    The history of price and volume is also contained, as well\n",
    "    as indices like MA and so on\n",
    "    '''\n",
    "    def __init__(self, num_investors):\n",
    "        self.investors = [Trader(i) for i in range(num_investors)]\n",
    "        self.price = []\n",
    "        self.vol = []\n",
    "        self.MA_5 = []\n",
    "        self.MA_10 = []\n",
    "        self.MA_100 = []\n",
    "        self.MA_500 = []\n",
    "        \n",
    "    def make_deals(self, orders):\n",
    "        buy_list = [Dynamic_order(order) for order in orders if order.price>0]\n",
    "        sell_list = [Dynamic_order(order) for order in orders if order.price<0]\n",
    "\n",
    "        buy_list = sorted(buy_list, key=lambda x:(-x.price, x.id))\n",
    "        sell_list = sorted(sell_list, key=lambda x:(abs(x.price), x.id))\n",
    "        deal_result = np.zeros(len(orders), int)\n",
    "        price = 0\n",
    "        if len(buy_list)==0 or len(sell_list)==0:\n",
    "            return price, deal_result\n",
    "        while sell_list[0].price+buy_list[0].price>=0:\n",
    "            if sell_list[0].volume>=buy_list[0].volume:\n",
    "                sell_list[0].volume -= buy_list[0].volume\n",
    "                deal_result[buy_list[0].id] += buy_list[0].volume\n",
    "                deal_result[sell_list[0].id] += buy_list[0].volume\n",
    "                if sell_list[0].volume==buy_list[0].volume:\n",
    "                    price = (buy_list[0].price + abs(sell_list[0].price)) / 2\n",
    "                else:\n",
    "                    price = abs(sell_list[0].price)\n",
    "                _ = buy_list.pop(0)\n",
    "            else:\n",
    "                buy_list[0].volume -= sell_list[0].volume\n",
    "                deal_result[buy_list[0].id] += sell_list[0].volume\n",
    "                deal_result[sell_list[0].id] += sell_list[0].volume\n",
    "                price = buy_list[0].price\n",
    "                _ = sell_list.pop(0)           \n",
    "            price = abs(price)\n",
    "            if len(buy_list)==0 or len(sell_list)==0:\n",
    "                break\n",
    "        self.update(price, deal_result)\n",
    "        return price, deal_result \n",
    "    \n",
    "    def update(self, price, deal_result):\n",
    "        self.price.append(price)\n",
    "        self.vol.append(np.sum(deal_result))\n",
    "        duration = len(self.price)\n",
    "        self.MA_5.append(np.mean(self.price[-5:]) if duration>5 else 0)\n",
    "        self.MA_10.append(np.mean(self.price[-10:]) if duration>10 else 0)\n",
    "        self.MA_100.append(np.mean(self.price[-100:]) if duration>100 else 0)\n",
    "        self.MA_500.append(np.mean(self.price[-500:]) if duration>500 else 0)\n",
    "        \n",
    "    def step(self):\n",
    "        orders = []\n",
    "        for investor in self.investors:\n",
    "            investor.gen_order()\n",
    "            orders.append(investor.order)\n",
    "\n",
    "        price, deal_result = self.make_deals(orders)\n",
    "        for i,investor in enumerate(self.investors):\n",
    "            investor.update(price=price, vol=deal_result[i])\n",
    "                    "
   ]
  },
  {
   "cell_type": "code",
   "execution_count": 13,
   "metadata": {
    "collapsed": false
   },
   "outputs": [],
   "source": [
    "market = Market(30)"
   ]
  },
  {
   "cell_type": "code",
   "execution_count": 14,
   "metadata": {
    "collapsed": false
   },
   "outputs": [],
   "source": [
    "for i in range(30):\n",
    "    market.step()"
   ]
  },
  {
   "cell_type": "code",
   "execution_count": 18,
   "metadata": {
    "collapsed": false
   },
   "outputs": [
    {
     "name": "stdout",
     "output_type": "stream",
     "text": [
      "id : 0, cash : 89, stock : -12, stock_price : 6, asset : 17\n",
      "id : 1, cash : -85, stock : 12, stock_price : 6, asset : -13\n",
      "id : 2, cash : -64, stock : 9, stock_price : 6, asset : -10\n",
      "id : 3, cash : -20, stock : 4, stock_price : 6, asset : 4\n",
      "id : 4, cash : 26, stock : -1, stock_price : 6, asset : 20\n",
      "id : 5, cash : -48, stock : 10, stock_price : 6, asset : 12\n",
      "id : 6, cash : -24, stock : 3, stock_price : 6, asset : -6\n",
      "id : 7, cash : 11, stock : -1, stock_price : 6, asset : 5\n",
      "id : 8, cash : 7, stock : -2, stock_price : 6, asset : -5\n",
      "id : 9, cash : 14, stock : -7, stock_price : 6, asset : -28\n",
      "id : 10, cash : 15, stock : -2, stock_price : 6, asset : 3\n",
      "id : 11, cash : -46, stock : 14, stock_price : 6, asset : 38\n",
      "id : 12, cash : -30, stock : 1, stock_price : 6, asset : -24\n",
      "id : 13, cash : -69, stock : 11, stock_price : 6, asset : -3\n",
      "id : 14, cash : 60, stock : -16, stock_price : 6, asset : -36\n",
      "id : 15, cash : -29, stock : 6, stock_price : 6, asset : 7\n",
      "id : 16, cash : -81, stock : 11, stock_price : 6, asset : -15\n",
      "id : 17, cash : 16, stock : 0, stock_price : 6, asset : 16\n",
      "id : 18, cash : -90, stock : 12, stock_price : 6, asset : -18\n",
      "id : 19, cash : -40, stock : 7, stock_price : 6, asset : 2\n",
      "id : 20, cash : -2, stock : 2, stock_price : 6, asset : 10\n",
      "id : 21, cash : 23, stock : -4, stock_price : 6, asset : -1\n",
      "id : 22, cash : 56, stock : -7, stock_price : 6, asset : 14\n",
      "id : 23, cash : -20, stock : 6, stock_price : 6, asset : 16\n",
      "id : 24, cash : 54, stock : -11, stock_price : 6, asset : -12\n",
      "id : 25, cash : -20, stock : 0, stock_price : 6, asset : -20\n",
      "id : 26, cash : 91, stock : -13, stock_price : 6, asset : 13\n",
      "id : 27, cash : 7, stock : 0, stock_price : 6, asset : 7\n",
      "id : 28, cash : 47, stock : -11, stock_price : 6, asset : -19\n",
      "id : 29, cash : 152, stock : -21, stock_price : 6, asset : 26\n"
     ]
    }
   ],
   "source": [
    "for investor in market.investors:\n",
    "    investor.show"
   ]
  },
  {
   "cell_type": "code",
   "execution_count": 19,
   "metadata": {
    "collapsed": false
   },
   "outputs": [
    {
     "data": {
      "text/plain": [
       "[0,\n",
       " 0,\n",
       " 0,\n",
       " 0,\n",
       " 0,\n",
       " 0,\n",
       " 0,\n",
       " 0,\n",
       " 0,\n",
       " 0,\n",
       " 6.0999999999999996,\n",
       " 6.0,\n",
       " 6.5,\n",
       " 6.2999999999999998,\n",
       " 5.7999999999999998,\n",
       " 5.7000000000000002,\n",
       " 5.9000000000000004,\n",
       " 5.9000000000000004,\n",
       " 5.7999999999999998,\n",
       " 5.5999999999999996,\n",
       " 5.7000000000000002,\n",
       " 5.5999999999999996,\n",
       " 5.2999999999999998,\n",
       " 5.5,\n",
       " 5.9000000000000004,\n",
       " 5.7999999999999998,\n",
       " 5.9000000000000004,\n",
       " 5.4000000000000004,\n",
       " 5.5,\n",
       " 5.5]"
      ]
     },
     "execution_count": 19,
     "metadata": {},
     "output_type": "execute_result"
    }
   ],
   "source": [
    "market.MA_10"
   ]
  }
 ],
 "metadata": {
  "anaconda-cloud": {},
  "kernelspec": {
   "display_name": "Python [conda root]",
   "language": "python",
   "name": "conda-root-py"
  },
  "language_info": {
   "codemirror_mode": {
    "name": "ipython",
    "version": 3
   },
   "file_extension": ".py",
   "mimetype": "text/x-python",
   "name": "python",
   "nbconvert_exporter": "python",
   "pygments_lexer": "ipython3",
   "version": "3.5.2"
  }
 },
 "nbformat": 4,
 "nbformat_minor": 1
}
