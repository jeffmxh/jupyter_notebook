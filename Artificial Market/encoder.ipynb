{
 "cells": [
  {
   "cell_type": "code",
   "execution_count": 1,
   "metadata": {
    "collapsed": true
   },
   "outputs": [],
   "source": [
    "import numpy as np"
   ]
  },
  {
   "cell_type": "code",
   "execution_count": 2,
   "metadata": {
    "collapsed": false
   },
   "outputs": [],
   "source": [
    "def encoder(price, interest, dividend, MA_5, MA_10, MA_100, MA_500):\n",
    "    vec = np.zeros(10, dtype=int)\n",
    "    foo = price * interest / dividend\n",
    "    vec[0] = 1 if foo > 1/4 else 0\n",
    "    vec[1] = 1 if foo > 1/2 else 0\n",
    "    vec[2] = 1 if foo > 3/4 else 0\n",
    "    vec[3] = 1 if foo > 7/8 else 0\n",
    "    vec[4] = 1 if foo > 1 else 0\n",
    "    vec[5] = 1 if foo > 9/8 else 0\n",
    "    vec[6] = 1 if price > MA_5 else 0\n",
    "    vec[7] = 1 if price > MA_10 else 0\n",
    "    vec[8] = 1 if price > MA_100 else 0\n",
    "    vec[9] = 1 if price > MA_500 else 0\n",
    "    return vec"
   ]
  },
  {
   "cell_type": "code",
   "execution_count": 3,
   "metadata": {
    "collapsed": false
   },
   "outputs": [
    {
     "data": {
      "text/plain": [
       "array([1, 1, 1, 1, 0, 0, 1, 1, 0, 0])"
      ]
     },
     "execution_count": 3,
     "metadata": {},
     "output_type": "execute_result"
    }
   ],
   "source": [
    "encoder(price=10, interest=0.1, dividend=1, MA_5=3, MA_10=6, MA_100=11, MA_500=15)"
   ]
  }
 ],
 "metadata": {
  "anaconda-cloud": {},
  "kernelspec": {
   "display_name": "Python [conda root]",
   "language": "python",
   "name": "conda-root-py"
  },
  "language_info": {
   "codemirror_mode": {
    "name": "ipython",
    "version": 3
   },
   "file_extension": ".py",
   "mimetype": "text/x-python",
   "name": "python",
   "nbconvert_exporter": "python",
   "pygments_lexer": "ipython3",
   "version": "3.5.2"
  }
 },
 "nbformat": 4,
 "nbformat_minor": 1
}
