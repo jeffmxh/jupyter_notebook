{
 "cells": [
  {
   "cell_type": "code",
   "execution_count": 2,
   "metadata": {
    "collapsed": false
   },
   "outputs": [
    {
     "name": "stderr",
     "output_type": "stream",
     "text": [
      "Using TensorFlow backend.\n",
      "Building prefix dict from the default dictionary ...\n",
      "Loading model from cache /tmp/jieba.cache\n",
      "Dumping model to file cache /tmp/jieba.cache\n",
      "Dump cache file failed.\n",
      "Traceback (most recent call last):\n",
      "  File \"/home/da/miniconda3/envs/idp3/lib/python3.5/site-packages/jieba/__init__.py\", line 152, in initialize\n",
      "    _replace_file(fpath, cache_file)\n",
      "PermissionError: [Errno 1] Operation not permitted: '/tmp/tmp36au5a9f' -> '/tmp/jieba.cache'\n",
      "Loading model cost 3.190 seconds.\n",
      "Prefix dict has been built succesfully.\n"
     ]
    }
   ],
   "source": [
    "import csv\n",
    "import jieba\n",
    "import keras\n",
    "jieba.enable_parallel(32)\n",
    "import pandas as pd\n",
    "from keras.preprocessing import sequence\n",
    "from keras.utils import np_utils\n",
    "from keras.models import *\n",
    "from keras.optimizers import *\n",
    "from keras.layers.core import *\n",
    "from keras.layers import Input,merge, TimeDistributed\n",
    "from keras.layers.core import Dense, Dropout, Activation, Flatten\n",
    "from keras.layers.embeddings import Embedding\n",
    "from keras.regularizers import l2\n",
    "from keras import backend as K\n",
    "\n",
    "np.random.seed(1337)"
   ]
  },
  {
   "cell_type": "code",
   "execution_count": 4,
   "metadata": {
    "collapsed": true
   },
   "outputs": [],
   "source": [
    "# 参数设置\n",
    "maxlen = 81\n",
    "epochs = 5\n",
    "batch = 32\n",
    "emb = 300"
   ]
  },
  {
   "cell_type": "code",
   "execution_count": 22,
   "metadata": {
    "collapsed": true
   },
   "outputs": [],
   "source": [
    "import tensorflow as tf"
   ]
  },
  {
   "cell_type": "code",
   "execution_count": 8,
   "metadata": {
    "collapsed": true
   },
   "outputs": [],
   "source": [
    "def get_aspect(X):\n",
    "    ans = X[:, 0, :]\n",
    "    return ans\n",
    "\n",
    "def get_context(X):\n",
    "    ans = X[:, 1:, :]\n",
    "    return ans\n",
    "\n",
    "def get_R(X):\n",
    "    Y, alpha = X[0], X[1]\n",
    "#     ans = K.dot(Y, alpha)\n",
    "    ans = K.dot(Y, K.transpose(alpha))\n",
    "    return ans\n",
    "def naive_get_shape():\n",
    "    return (300, 1)\n",
    "def expend_shape(x):\n",
    "    return K.expand_dims(x, axis=-1)\n",
    "\n",
    "# alpha = Lambda(expend_shape, output_shape=(maxlen-1,1))(alpha)\n",
    "# r_ = Lambda(get_R, output_shape=naive_get_shape())([w_context_trans, alpha])"
   ]
  },
  {
   "cell_type": "code",
   "execution_count": 9,
   "metadata": {
    "collapsed": false
   },
   "outputs": [
    {
     "name": "stdout",
     "output_type": "stream",
     "text": [
      "Build model...\n",
      "____________________________________________________________________________________________________\n",
      "Layer (type)                     Output Shape          Param #     Connected to                     \n",
      "====================================================================================================\n",
      "main_input (InputLayer)          (None, 81)            0                                            \n",
      "____________________________________________________________________________________________________\n",
      "x (Embedding)                    (None, 81, 300)       6000000                                      \n",
      "____________________________________________________________________________________________________\n",
      "dropout (Dropout)                (None, 81, 300)       0                                            \n",
      "____________________________________________________________________________________________________\n",
      "w_aspect (Lambda)                (None, 300)           0                                            \n",
      "____________________________________________________________________________________________________\n",
      "w_aspect_1 (Dense)               (None, 300)           90300                                        \n",
      "____________________________________________________________________________________________________\n",
      "w_context (Lambda)               (None, 80, 300)       0                                            \n",
      "____________________________________________________________________________________________________\n",
      "w_aspects1 (RepeatVector)        (None, 80, 300)       0                                            \n",
      "____________________________________________________________________________________________________\n",
      "merged1 (Concatenate)            (None, 80, 600)       0                                            \n",
      "____________________________________________________________________________________________________\n",
      "distributed1 (TimeDistributed)   (None, 80, 1)         601                                          \n",
      "____________________________________________________________________________________________________\n",
      "flat_alpha1 (Flatten)            (None, 80)            0                                            \n",
      "____________________________________________________________________________________________________\n",
      "alpha1 (Dense)                   (None, 80)            6480                                         \n",
      "____________________________________________________________________________________________________\n",
      "w_context_trans1 (Permute)       (None, 300, 80)       0                                            \n",
      "____________________________________________________________________________________________________\n",
      "lambda_4 (Lambda)                (None, 80, 1)         0                                            \n",
      "____________________________________________________________________________________________________\n",
      "lambda_5 (Lambda)                (None, 300, 1)        0                                            \n",
      "____________________________________________________________________________________________________\n",
      "r1 (Reshape)                     (None, 300)           0                                            \n",
      "____________________________________________________________________________________________________\n",
      "dense_9 (Dense)                  (None, 300)           90300                                        \n",
      "____________________________________________________________________________________________________\n",
      "add_4 (Add)                      (None, 300)           0                                            \n",
      "____________________________________________________________________________________________________\n",
      "w_aspect_2 (Dense)               (None, 300)           90300                                        \n",
      "____________________________________________________________________________________________________\n",
      "w_aspects2 (RepeatVector)        (None, 80, 300)       0                                            \n",
      "____________________________________________________________________________________________________\n",
      "merged2 (Concatenate)            (None, 80, 600)       0                                            \n",
      "____________________________________________________________________________________________________\n",
      "distributed2 (TimeDistributed)   (None, 80, 1)         601                                          \n",
      "____________________________________________________________________________________________________\n",
      "flat_alpha2 (Flatten)            (None, 80)            0                                            \n",
      "____________________________________________________________________________________________________\n",
      "w_context_trans2 (Permute)       (None, 300, 80)       0                                            \n",
      "____________________________________________________________________________________________________\n",
      "alpha2 (Dense)                   (None, 80)            6480                                         \n",
      "____________________________________________________________________________________________________\n",
      "lambda_6 (Lambda)                (None, 300, 1)        0                                            \n",
      "____________________________________________________________________________________________________\n",
      "r2 (Reshape)                     (None, 300)           0                                            \n",
      "____________________________________________________________________________________________________\n",
      "dense_11 (Dense)                 (None, 300)           90300                                        \n",
      "____________________________________________________________________________________________________\n",
      "add_5 (Add)                      (None, 300)           0                                            \n",
      "____________________________________________________________________________________________________\n",
      "w_aspect_3 (Dense)               (None, 300)           90300                                        \n",
      "____________________________________________________________________________________________________\n",
      "w_aspects3 (RepeatVector)        (None, 80, 300)       0                                            \n",
      "____________________________________________________________________________________________________\n",
      "merged3 (Concatenate)            (None, 80, 600)       0                                            \n",
      "____________________________________________________________________________________________________\n",
      "distributed3 (TimeDistributed)   (None, 80, 1)         601                                          \n",
      "____________________________________________________________________________________________________\n",
      "flat_alpha3 (Flatten)            (None, 80)            0                                            \n",
      "____________________________________________________________________________________________________\n",
      "w_context_trans3 (Permute)       (None, 300, 80)       0                                            \n",
      "____________________________________________________________________________________________________\n",
      "alpha3 (Dense)                   (None, 80)            6480                                         \n",
      "____________________________________________________________________________________________________\n",
      "lambda_7 (Lambda)                (None, 300, 1)        0                                            \n",
      "____________________________________________________________________________________________________\n",
      "r3 (Reshape)                     (None, 300)           0                                            \n",
      "____________________________________________________________________________________________________\n",
      "dense_13 (Dense)                 (None, 300)           90300                                        \n",
      "____________________________________________________________________________________________________\n",
      "add_6 (Add)                      (None, 300)           0                                            \n",
      "____________________________________________________________________________________________________\n",
      "activation_2 (Activation)        (None, 300)           0                                            \n",
      "____________________________________________________________________________________________________\n",
      "dense_14 (Dense)                 (None, 3)             903                                          \n",
      "====================================================================================================\n",
      "Total params: 6,563,946.0\n",
      "Trainable params: 6,563,946.0\n",
      "Non-trainable params: 0.0\n",
      "____________________________________________________________________________________________________\n"
     ]
    }
   ],
   "source": [
    "print('Build model...')\n",
    "main_input = Input(shape=(maxlen,), dtype='int32', name='main_input')\n",
    "# x = Embedding(output_dim=emb, input_dim=len(dict)+1, input_length=maxlen, name='x')(main_input)\n",
    "x = Embedding(output_dim=emb, input_dim=20000, input_length=maxlen, name='x')(main_input)\n",
    "drop_out = Dropout(0.1, name='dropout')(x)\n",
    "w_aspect = Lambda(get_aspect, output_shape=(emb,), name=\"w_aspect\")(drop_out)\n",
    "w_context = Lambda(get_context, output_shape=(maxlen-1,emb), name=\"w_context\")(drop_out)\n",
    "w_aspect = Dense(emb, kernel_regularizer=l2(0.01), name=\"w_aspect_1\")(w_aspect)\n",
    "# hop 1\n",
    "w_aspects = RepeatVector(maxlen-1, name=\"w_aspects1\")(w_aspect)\n",
    "merged = keras.layers.concatenate([w_context, w_aspects], name='merged1')\n",
    "distributed = TimeDistributed(Dense(1, kernel_regularizer=l2(0.01), activation='tanh'), name=\"distributed1\")(merged)\n",
    "flat_alpha = Flatten(name=\"flat_alpha1\")(distributed)\n",
    "alpha = Dense(maxlen-1, activation='softmax', name=\"alpha1\")(flat_alpha)\n",
    "\n",
    "alpha = Lambda(expend_shape, output_shape=(maxlen-1,1))(alpha)\n",
    "\n",
    "w_context_trans = Permute((2, 1), name=\"w_context_trans1\")(w_context)\n",
    "# r_ = keras.layers.merge([w_context_trans, alpha], output_shape=(emb, 1), name=\"r_1\", mode=get_R)\n",
    "r_ = Lambda(get_R, output_shape=(emb, 1))([w_context_trans, alpha])\n",
    "r = Reshape((emb,), name=\"r1\")(r_)\n",
    "w_aspect_linear = Dense(emb, kernel_regularizer=l2(0.01), activation='linear')(w_aspect)\n",
    "merged = keras.layers.add([r, w_aspect_linear])\n",
    "w_aspect = Dense(emb, kernel_regularizer=l2(0.01), name=\"w_aspect_2\")(merged)\n",
    "# hop 2\n",
    "w_aspects = RepeatVector(maxlen-1, name=\"w_aspects2\")(w_aspect)\n",
    "merged = keras.layers.concatenate([w_context, w_aspects], name='merged2')\n",
    "distributed = TimeDistributed(Dense(1, kernel_regularizer=l2(0.01), activation='tanh'), name=\"distributed2\")(merged)\n",
    "flat_alpha = Flatten(name=\"flat_alpha2\")(distributed)\n",
    "alpha = Dense(maxlen-1, activation='softmax', name=\"alpha2\")(flat_alpha)\n",
    "w_context_trans = Permute((2, 1), name=\"w_context_trans2\")(w_context)\n",
    "# r_ = keras.layers.merge([w_context_trans, alpha], output_shape=(emb, 1), name=\"r_2\", mode=get_R)\n",
    "r_ = Lambda(get_R, output_shape=(emb, 1))([w_context_trans, alpha])\n",
    "r = Reshape((emb,), name=\"r2\")(r_)\n",
    "w_aspect_linear = Dense(emb, kernel_regularizer=l2(0.01), activation='linear')(w_aspect)\n",
    "merged = keras.layers.add([r, w_aspect_linear])\n",
    "w_aspect = Dense(emb, kernel_regularizer=l2(0.01), name=\"w_aspect_3\")(merged)\n",
    "# hop 3\n",
    "w_aspects = RepeatVector(maxlen-1, name=\"w_aspects3\")(w_aspect)\n",
    "merged = keras.layers.concatenate([w_context, w_aspects], name='merged3')\n",
    "distributed = TimeDistributed(Dense(1, kernel_regularizer=l2(0.01), activation='tanh'), name=\"distributed3\")(merged)\n",
    "flat_alpha = Flatten(name=\"flat_alpha3\")(distributed)\n",
    "alpha = Dense(maxlen-1, activation='softmax', name=\"alpha3\")(flat_alpha)\n",
    "w_context_trans = Permute((2, 1), name=\"w_context_trans3\")(w_context)\n",
    "# r_ = keras.layers.merge([w_context_trans, alpha], output_shape=(emb, 1), name=\"r_3\", mode=get_R)\n",
    "r_ = Lambda(get_R, output_shape=(emb, 1))([w_context_trans, alpha])\n",
    "r = Reshape((emb,), name=\"r3\")(r_)\n",
    "w_aspect_linear = Dense(emb, kernel_regularizer=l2(0.01), activation='linear')(w_aspect)\n",
    "merged = keras.layers.add([r, w_aspect_linear])\n",
    "h_ = Activation('tanh')(merged)\n",
    "out = Dense(3, activation='softmax')(h_)\n",
    "output = out\n",
    "model = Model(inputs=[main_input], outputs=output)\n",
    "model.summary()"
   ]
  },
  {
   "cell_type": "code",
   "execution_count": 33,
   "metadata": {
    "collapsed": false
   },
   "outputs": [
    {
     "ename": "ImportError",
     "evalue": "No module named 'keras.utils.visualize_util'",
     "output_type": "error",
     "traceback": [
      "\u001b[1;31m---------------------------------------------------------------------------\u001b[0m",
      "\u001b[1;31mImportError\u001b[0m                               Traceback (most recent call last)",
      "\u001b[1;32m<ipython-input-33-02585adb0547>\u001b[0m in \u001b[0;36m<module>\u001b[1;34m()\u001b[0m\n\u001b[0;32m      1\u001b[0m \u001b[1;32mfrom\u001b[0m \u001b[0mIPython\u001b[0m\u001b[1;33m.\u001b[0m\u001b[0mdisplay\u001b[0m \u001b[1;32mimport\u001b[0m \u001b[0mSVG\u001b[0m\u001b[1;33m\u001b[0m\u001b[0m\n\u001b[1;32m----> 2\u001b[1;33m \u001b[1;32mfrom\u001b[0m \u001b[0mkeras\u001b[0m\u001b[1;33m.\u001b[0m\u001b[0mutils\u001b[0m\u001b[1;33m.\u001b[0m\u001b[0mvisualize_util\u001b[0m \u001b[1;32mimport\u001b[0m \u001b[0mmodel_to_dot\u001b[0m\u001b[1;33m\u001b[0m\u001b[0m\n\u001b[0m\u001b[0;32m      3\u001b[0m \u001b[1;33m\u001b[0m\u001b[0m\n\u001b[0;32m      4\u001b[0m \u001b[0mSVG\u001b[0m\u001b[1;33m(\u001b[0m\u001b[0mmodel_to_dot\u001b[0m\u001b[1;33m(\u001b[0m\u001b[0mmodel\u001b[0m\u001b[1;33m)\u001b[0m\u001b[1;33m.\u001b[0m\u001b[0mcreate\u001b[0m\u001b[1;33m(\u001b[0m\u001b[0mprog\u001b[0m\u001b[1;33m=\u001b[0m\u001b[1;34m'dot'\u001b[0m\u001b[1;33m,\u001b[0m \u001b[0mformat\u001b[0m\u001b[1;33m=\u001b[0m\u001b[1;34m'svg'\u001b[0m\u001b[1;33m)\u001b[0m\u001b[1;33m)\u001b[0m\u001b[1;33m\u001b[0m\u001b[0m\n",
      "\u001b[1;31mImportError\u001b[0m: No module named 'keras.utils.visualize_util'"
     ]
    }
   ],
   "source": [
    "from IPython.display import SVG\n",
    "from keras.utils.visualize_util import model_to_dot\n",
    "\n",
    "SVG(model_to_dot(model).create(prog='dot', format='svg'))"
   ]
  }
 ],
 "metadata": {
  "kernelspec": {
   "display_name": "Python 3",
   "language": "python",
   "name": "python3"
  },
  "language_info": {
   "codemirror_mode": {
    "name": "ipython",
    "version": 3
   },
   "file_extension": ".py",
   "mimetype": "text/x-python",
   "name": "python",
   "nbconvert_exporter": "python",
   "pygments_lexer": "ipython3",
   "version": "3.5.2"
  }
 },
 "nbformat": 4,
 "nbformat_minor": 1
}
