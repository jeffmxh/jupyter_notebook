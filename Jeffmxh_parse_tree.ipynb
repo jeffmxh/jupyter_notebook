{
 "cells": [
  {
   "cell_type": "code",
   "execution_count": 8,
   "metadata": {
    "collapsed": false
   },
   "outputs": [],
   "source": [
    "from collections import defaultdict, namedtuple\n",
    "\n",
    "class Node:\n",
    "    def __init__(self, index, word):\n",
    "        self.is_root = True\n",
    "        self.has_child = False\n",
    "        self.index = index\n",
    "        self.word = word\n",
    "        self.parent = 0\n",
    "        self.children = []\n",
    "        \n",
    "    def set_parent(self, parent):\n",
    "        assert isinstance(parent, Node)\n",
    "        self.parent = parent\n",
    "        self.is_root = False\n",
    "        \n",
    "    def add_children(self, children):\n",
    "        assert isinstance(children, Node)\n",
    "        children.set_parent(self)\n",
    "        self.children.append(children)\n",
    "        self.has_child = True\n",
    "     \n",
    "    @property\n",
    "    def show_parent(self):\n",
    "        if self.is_root:\n",
    "            print('This is the root node!')\n",
    "        else:\n",
    "            print('Parent of Node %s : %s' % (self.word, str(self.parent.word)))\n",
    "            \n",
    "    @property\n",
    "    def show_children(self):\n",
    "        if self.has_child:\n",
    "            for node in self.children:\n",
    "                print('Children of Node %s : %s' %(self.word, str(node.word)))\n",
    "        else:\n",
    "            print('This node have no children')\n",
    "    \n",
    "    @property\n",
    "    def show(self):\n",
    "        print('------------------------------------------')\n",
    "        self.show_parent\n",
    "        print('------------------------------------------')\n",
    "        print('Current Word : ', self.word)\n",
    "        print('------------------------------------------')\n",
    "        self.show_children\n",
    "        print('------------------------------------------')\n",
    "\n",
    "    def get_parent(self):\n",
    "        assert isinstance(parent, Node)\n",
    "        return self.parent\n",
    "    \n",
    "    def get_children(self):\n",
    "        return self.children"
   ]
  },
  {
   "cell_type": "code",
   "execution_count": 9,
   "metadata": {
    "collapsed": true
   },
   "outputs": [],
   "source": [
    "IndexWord = namedtuple('IndexWord', 'index word')\n",
    "\n",
    "class ParseTree:\n",
    "    def __init__(self):\n",
    "        self.num_layer = 1\n",
    "        self.root_node = None\n",
    "        self.node_list = []\n",
    "        self.rela_dict = {}\n",
    "        \n",
    "    def zip_dict(self, index_list, word_list):\n",
    "        word_list = zip(range(len(word_list)), word_list)\n",
    "        word_list = [IndexWord._make(x) for x in word_list]\n",
    "        word_dict = defaultdict(list)\n",
    "        for index,word in zip(index_list, word_list):\n",
    "            word_dict[index].append(word)\n",
    "        return word_dict\n",
    "    def szip_dict(self, word_list, index_list):\n",
    "        word_dict = defaultdict(list)\n",
    "        for index,word in zip(index_list, word_list):\n",
    "            word_dict[index].append(word)\n",
    "        return word_dict\n",
    "    \n",
    "    def trans_index(self, index_list):\n",
    "        return [x-1 for x in index_list]\n",
    "\n",
    "    def parse(self, index_list, word_list):\n",
    "        self.node_list = [Node(i, word_list[i]) for i in range(len(word_list))]\n",
    "        index_list = self.trans_index(index_list) \n",
    "        self.rela_dict = self.szip_dict(range(len(index_list)), index_list)\n",
    "        for i in self.rela_dict.keys():\n",
    "            if i!=-1:\n",
    "                children_index = self.rela_dict[i]\n",
    "                for children in children_index:\n",
    "                    self.node_list[i].add_children(self.node_list[children])\n",
    "        self.root_node = [x for x in self.node_list if x.is_root][0]"
   ]
  },
  {
   "cell_type": "code",
   "execution_count": 10,
   "metadata": {
    "collapsed": false
   },
   "outputs": [
    {
     "name": "stdout",
     "output_type": "stream",
     "text": [
      "------------------------------------------\n",
      "This is the root node!\n",
      "------------------------------------------\n",
      "Current Word :  我们\n",
      "------------------------------------------\n",
      "Children of Node 我们 : 你们\n",
      "Children of Node 我们 : 他们\n",
      "------------------------------------------\n"
     ]
    }
   ],
   "source": [
    "a = Node(1, \"我们\")\n",
    "b = Node(2, '你们')\n",
    "c = Node(3, '他们')\n",
    "d = Node(4, '出去玩')\n",
    "\n",
    "a.add_children(b)\n",
    "a.add_children(c)\n",
    "b.add_children(d)\n",
    "a.show"
   ]
  },
  {
   "cell_type": "code",
   "execution_count": 11,
   "metadata": {
    "collapsed": false
   },
   "outputs": [
    {
     "name": "stdout",
     "output_type": "stream",
     "text": [
      "------------------------------------------\n",
      "Parent of Node 出去玩 : 你们\n",
      "------------------------------------------\n",
      "Current Word :  出去玩\n",
      "------------------------------------------\n",
      "This node have no children\n",
      "------------------------------------------\n"
     ]
    }
   ],
   "source": [
    "def show_children_tree(node):\n",
    "    assert isinstance(node, Node)\n",
    "    for child in node.children:\n",
    "        if child.has_child:\n",
    "            return show_children_tree(child)\n",
    "        else:\n",
    "            child.show\n",
    "            \n",
    "show_children_tree(a)"
   ]
  },
  {
   "cell_type": "code",
   "execution_count": 12,
   "metadata": {
    "collapsed": false
   },
   "outputs": [],
   "source": [
    "word_list = ['蛮', '好', '一直', '信赖', '宝宝', '很', '喜欢']\n",
    "index_list = [4, 4, 4, 0, 4, 7, 5]\n",
    "\n",
    "a = ParseTree()\n",
    "a.parse(index_list, word_list)"
   ]
  },
  {
   "cell_type": "code",
   "execution_count": 13,
   "metadata": {
    "collapsed": false
   },
   "outputs": [
    {
     "data": {
      "text/plain": [
       "defaultdict(list, {-1: [3], 3: [0, 1, 2, 4], 4: [6], 6: [5]})"
      ]
     },
     "execution_count": 13,
     "metadata": {},
     "output_type": "execute_result"
    }
   ],
   "source": [
    "a.rela_dict"
   ]
  },
  {
   "cell_type": "code",
   "execution_count": 14,
   "metadata": {
    "collapsed": false
   },
   "outputs": [
    {
     "name": "stdout",
     "output_type": "stream",
     "text": [
      "------------------------------------------\n",
      "This is the root node!\n",
      "------------------------------------------\n",
      "Current Word :  信赖\n",
      "------------------------------------------\n",
      "Children of Node 信赖 : 蛮\n",
      "Children of Node 信赖 : 好\n",
      "Children of Node 信赖 : 一直\n",
      "Children of Node 信赖 : 宝宝\n",
      "------------------------------------------\n"
     ]
    }
   ],
   "source": [
    "a.root_node.show"
   ]
  },
  {
   "cell_type": "code",
   "execution_count": 15,
   "metadata": {
    "collapsed": false
   },
   "outputs": [
    {
     "name": "stdout",
     "output_type": "stream",
     "text": [
      "------------------------------------------\n",
      "Parent of Node 蛮 : 信赖\n",
      "------------------------------------------\n",
      "Current Word :  蛮\n",
      "------------------------------------------\n",
      "This node have no children\n",
      "------------------------------------------\n",
      "------------------------------------------\n",
      "Parent of Node 好 : 信赖\n",
      "------------------------------------------\n",
      "Current Word :  好\n",
      "------------------------------------------\n",
      "This node have no children\n",
      "------------------------------------------\n",
      "------------------------------------------\n",
      "Parent of Node 一直 : 信赖\n",
      "------------------------------------------\n",
      "Current Word :  一直\n",
      "------------------------------------------\n",
      "This node have no children\n",
      "------------------------------------------\n",
      "------------------------------------------\n",
      "This is the root node!\n",
      "------------------------------------------\n",
      "Current Word :  信赖\n",
      "------------------------------------------\n",
      "Children of Node 信赖 : 蛮\n",
      "Children of Node 信赖 : 好\n",
      "Children of Node 信赖 : 一直\n",
      "Children of Node 信赖 : 宝宝\n",
      "------------------------------------------\n",
      "------------------------------------------\n",
      "Parent of Node 宝宝 : 信赖\n",
      "------------------------------------------\n",
      "Current Word :  宝宝\n",
      "------------------------------------------\n",
      "Children of Node 宝宝 : 喜欢\n",
      "------------------------------------------\n",
      "------------------------------------------\n",
      "Parent of Node 很 : 喜欢\n",
      "------------------------------------------\n",
      "Current Word :  很\n",
      "------------------------------------------\n",
      "This node have no children\n",
      "------------------------------------------\n",
      "------------------------------------------\n",
      "Parent of Node 喜欢 : 宝宝\n",
      "------------------------------------------\n",
      "Current Word :  喜欢\n",
      "------------------------------------------\n",
      "Children of Node 喜欢 : 很\n",
      "------------------------------------------\n"
     ]
    }
   ],
   "source": [
    "for node in a.node_list:\n",
    "    node.show"
   ]
  },
  {
   "cell_type": "code",
   "execution_count": 9,
   "metadata": {
    "collapsed": false
   },
   "outputs": [
    {
     "name": "stdout",
     "output_type": "stream",
     "text": [
      "Parent of Node 喜欢 : 宝宝\n",
      "Word :  喜欢\n",
      "children of Node 喜欢 : 很\n"
     ]
    }
   ],
   "source": [
    "isinstance(a.node_list[6].children[0], Node)\n",
    "# a.root_node.children[0].show_children()\n",
    "a.root_node.children[3].children[0].show()"
   ]
  },
  {
   "cell_type": "code",
   "execution_count": 183,
   "metadata": {
    "collapsed": false
   },
   "outputs": [],
   "source": [
    "import pandas as pd\n",
    "\n",
    "data = pd.read_table('/home/jeffmxh/models/syntaxnet/parse_output.conll', header = None)"
   ]
  },
  {
   "cell_type": "code",
   "execution_count": 189,
   "metadata": {
    "collapsed": false
   },
   "outputs": [
    {
     "data": {
      "text/html": [
       "<div>\n",
       "<table border=\"1\" class=\"dataframe\">\n",
       "  <thead>\n",
       "    <tr style=\"text-align: right;\">\n",
       "      <th></th>\n",
       "      <th>0</th>\n",
       "      <th>1</th>\n",
       "      <th>3</th>\n",
       "      <th>4</th>\n",
       "      <th>5</th>\n",
       "      <th>6</th>\n",
       "      <th>7</th>\n",
       "    </tr>\n",
       "  </thead>\n",
       "  <tbody>\n",
       "    <tr>\n",
       "      <th>0</th>\n",
       "      <td>1</td>\n",
       "      <td>蛮</td>\n",
       "      <td>PROPN</td>\n",
       "      <td>NNP</td>\n",
       "      <td>fPOS=PROPN++NNP</td>\n",
       "      <td>4</td>\n",
       "      <td>nsubj</td>\n",
       "    </tr>\n",
       "    <tr>\n",
       "      <th>1</th>\n",
       "      <td>2</td>\n",
       "      <td>好</td>\n",
       "      <td>ADV</td>\n",
       "      <td>RB</td>\n",
       "      <td>fPOS=ADV++RB</td>\n",
       "      <td>4</td>\n",
       "      <td>advmod</td>\n",
       "    </tr>\n",
       "    <tr>\n",
       "      <th>2</th>\n",
       "      <td>3</td>\n",
       "      <td>一直</td>\n",
       "      <td>ADV</td>\n",
       "      <td>RB</td>\n",
       "      <td>fPOS=ADV++RB</td>\n",
       "      <td>4</td>\n",
       "      <td>advmod</td>\n",
       "    </tr>\n",
       "    <tr>\n",
       "      <th>3</th>\n",
       "      <td>4</td>\n",
       "      <td>信赖</td>\n",
       "      <td>VERB</td>\n",
       "      <td>VV</td>\n",
       "      <td>fPOS=VERB++VV</td>\n",
       "      <td>0</td>\n",
       "      <td>ROOT</td>\n",
       "    </tr>\n",
       "    <tr>\n",
       "      <th>4</th>\n",
       "      <td>5</td>\n",
       "      <td>宝宝</td>\n",
       "      <td>VERB</td>\n",
       "      <td>VV</td>\n",
       "      <td>fPOS=VERB++VV</td>\n",
       "      <td>4</td>\n",
       "      <td>xcomp</td>\n",
       "    </tr>\n",
       "    <tr>\n",
       "      <th>5</th>\n",
       "      <td>6</td>\n",
       "      <td>很</td>\n",
       "      <td>ADV</td>\n",
       "      <td>RB</td>\n",
       "      <td>fPOS=ADV++RB</td>\n",
       "      <td>7</td>\n",
       "      <td>advmod</td>\n",
       "    </tr>\n",
       "    <tr>\n",
       "      <th>6</th>\n",
       "      <td>7</td>\n",
       "      <td>喜欢</td>\n",
       "      <td>VERB</td>\n",
       "      <td>VV</td>\n",
       "      <td>fPOS=ADJ++JJ</td>\n",
       "      <td>5</td>\n",
       "      <td>xcomp</td>\n",
       "    </tr>\n",
       "    <tr>\n",
       "      <th>7</th>\n",
       "      <td>1</td>\n",
       "      <td>最初</td>\n",
       "      <td>NOUN</td>\n",
       "      <td>NN</td>\n",
       "      <td>fPOS=NOUN++NN</td>\n",
       "      <td>2</td>\n",
       "      <td>nmod:tmod</td>\n",
       "    </tr>\n",
       "    <tr>\n",
       "      <th>8</th>\n",
       "      <td>2</td>\n",
       "      <td>是</td>\n",
       "      <td>VERB</td>\n",
       "      <td>VC</td>\n",
       "      <td>fPOS=VERB++VC</td>\n",
       "      <td>0</td>\n",
       "      <td>ROOT</td>\n",
       "    </tr>\n",
       "    <tr>\n",
       "      <th>9</th>\n",
       "      <td>3</td>\n",
       "      <td>用</td>\n",
       "      <td>VERB</td>\n",
       "      <td>VV</td>\n",
       "      <td>fPOS=VERB++VV</td>\n",
       "      <td>7</td>\n",
       "      <td>acl</td>\n",
       "    </tr>\n",
       "  </tbody>\n",
       "</table>\n",
       "</div>"
      ],
      "text/plain": [
       "   0   1      3    4                5  6          7\n",
       "0  1   蛮  PROPN  NNP  fPOS=PROPN++NNP  4      nsubj\n",
       "1  2   好    ADV   RB     fPOS=ADV++RB  4     advmod\n",
       "2  3  一直    ADV   RB     fPOS=ADV++RB  4     advmod\n",
       "3  4  信赖   VERB   VV    fPOS=VERB++VV  0       ROOT\n",
       "4  5  宝宝   VERB   VV    fPOS=VERB++VV  4      xcomp\n",
       "5  6   很    ADV   RB     fPOS=ADV++RB  7     advmod\n",
       "6  7  喜欢   VERB   VV     fPOS=ADJ++JJ  5      xcomp\n",
       "7  1  最初   NOUN   NN    fPOS=NOUN++NN  2  nmod:tmod\n",
       "8  2   是   VERB   VC    fPOS=VERB++VC  0       ROOT\n",
       "9  3   用   VERB   VV    fPOS=VERB++VV  7        acl"
      ]
     },
     "execution_count": 189,
     "metadata": {},
     "output_type": "execute_result"
    }
   ],
   "source": [
    "data = data.iloc[:,[0,1,3,4,5,6,7]]\n",
    "# data.columns = ['index', 'word', 'pos', '']\n",
    "data.head(10)"
   ]
  },
  {
   "cell_type": "code",
   "execution_count": 191,
   "metadata": {
    "collapsed": false
   },
   "outputs": [
    {
     "data": {
      "text/plain": [
       "{'ROOT',\n",
       " 'acl',\n",
       " 'acl:relcl',\n",
       " 'advcl',\n",
       " 'advmod',\n",
       " 'amod',\n",
       " 'appos',\n",
       " 'aux',\n",
       " 'aux:caus',\n",
       " 'auxpass',\n",
       " 'case',\n",
       " 'case:aspect',\n",
       " 'case:dec',\n",
       " 'case:pref',\n",
       " 'case:suff',\n",
       " 'cc',\n",
       " 'ccomp',\n",
       " 'conj',\n",
       " 'cop',\n",
       " 'csubj',\n",
       " 'dep',\n",
       " 'det',\n",
       " 'discourse',\n",
       " 'dislocated',\n",
       " 'dobj',\n",
       " 'foreign',\n",
       " 'iobj',\n",
       " 'mark',\n",
       " 'neg',\n",
       " 'nmod',\n",
       " 'nmod:tmod',\n",
       " 'nsubj',\n",
       " 'nsubjpass',\n",
       " 'nummod',\n",
       " 'punct',\n",
       " 'root',\n",
       " 'vocative',\n",
       " 'xcomp'}"
      ]
     },
     "execution_count": 191,
     "metadata": {},
     "output_type": "execute_result"
    }
   ],
   "source": [
    "a = list(data.loc[:,7])\n",
    "set(a)"
   ]
  }
 ],
 "metadata": {
  "kernelspec": {
   "display_name": "Python 3",
   "language": "python",
   "name": "python3"
  },
  "language_info": {
   "codemirror_mode": {
    "name": "ipython",
    "version": 3
   },
   "file_extension": ".py",
   "mimetype": "text/x-python",
   "name": "python",
   "nbconvert_exporter": "python",
   "pygments_lexer": "ipython3",
   "version": "3.5.2"
  }
 },
 "nbformat": 4,
 "nbformat_minor": 1
}
