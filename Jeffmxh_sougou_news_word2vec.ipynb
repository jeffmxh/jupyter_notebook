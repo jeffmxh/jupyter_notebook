{
 "cells": [
  {
   "cell_type": "code",
   "execution_count": null,
   "metadata": {
    "collapsed": true
   },
   "outputs": [],
   "source": [
    "# -*- coding: utf-8 -*-\n",
    "\n",
    "import sys\n",
    "sys.path.append('path to normal python')\n",
    "import logging\n",
    "import os.path\n",
    "import multiprocessing\n",
    "\n",
    "from gensim.models import Word2Vec\n",
    "from gensim.models import word2vec\n",
    "#from gensim import models\n",
    "\n",
    "if __name__ == '__main__':\n",
    "    program = os.path.basename(sys.argv[0])\n",
    "    logger = logging.getLogger(program)\n",
    "\n",
    "    logging.basicConfig(format='%(asctime)s: %(levelname)s: %(message)s')\n",
    "    logging.root.setLevel(level=logging.INFO)\n",
    "    logger.info(\"running %s\" % ' '.join(sys.argv))\n",
    "\n",
    "    inp = '/home/jeffmxh/word2vec/news_seg_all.txt'\n",
    "    outp1 = 'sougou_news.model'\n",
    "    outp2 = 'sougou_news.vector'\n",
    "    sentences = word2vec.Text8Corpus(inp)\n",
    "    model = Word2Vec(sentences, size=300, window=5, min_count=5, workers=multiprocessing.cpu_count())\n",
    "\n",
    "    # trim unneeded model memory = use(much) less RAM\n",
    "    #model.init_sims(replace=True)\n",
    "    model.save(outp1)\n",
    "    model.save_word2vec_format(outp2, binary=False)"
   ]
  }
 ],
 "metadata": {
  "kernelspec": {
   "display_name": "Python 3",
   "language": "python",
   "name": "python3"
  },
  "language_info": {
   "codemirror_mode": {
    "name": "ipython",
    "version": 3
   },
   "file_extension": ".py",
   "mimetype": "text/x-python",
   "name": "python",
   "nbconvert_exporter": "python",
   "pygments_lexer": "ipython3",
   "version": "3.5.2"
  }
 },
 "nbformat": 4,
 "nbformat_minor": 1
}
