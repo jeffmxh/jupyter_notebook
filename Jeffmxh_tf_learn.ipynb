{
 "cells": [
  {
   "cell_type": "code",
   "execution_count": 6,
   "metadata": {
    "collapsed": true
   },
   "outputs": [],
   "source": [
    "import tensorflow as tf\n",
    "import numpy as np"
   ]
  },
  {
   "cell_type": "code",
   "execution_count": 2,
   "metadata": {
    "collapsed": false
   },
   "outputs": [
    {
     "data": {
      "text/plain": [
       "'0601'"
      ]
     },
     "execution_count": 2,
     "metadata": {},
     "output_type": "execute_result"
    }
   ],
   "source": [
    "import time\n",
    "time.strftime('%m%d',time.localtime(time.time()))"
   ]
  },
  {
   "cell_type": "code",
   "execution_count": 18,
   "metadata": {
    "collapsed": false,
    "scrolled": true
   },
   "outputs": [
    {
     "data": {
      "text/plain": [
       "0"
      ]
     },
     "execution_count": 18,
     "metadata": {},
     "output_type": "execute_result"
    }
   ],
   "source": [
    "import pandas as pd\n",
    "\n",
    "data = pd.read_excel('/home/jeffmxh/IMG_Inception/mid_end_incp.xlsx')\n",
    "dict(data.groupby('prediction').size())\n",
    "\n",
    "import os\n",
    "os.system('ls -hl')"
   ]
  },
  {
   "cell_type": "code",
   "execution_count": 23,
   "metadata": {
    "collapsed": false
   },
   "outputs": [],
   "source": [
    "import re\n",
    "data = pd.read_excel('/home/jeffmxh/IMG_Inception/mid_end_incp.xlsx')\n",
    "def re_blank(x):\n",
    "    x = re.sub(', ', ',', x)\n",
    "    x = re.sub(' ', '_', x)\n",
    "    return x\n",
    "data['prediction'] = data['prediction'].apply(re_blank)\n",
    "result = list(data.prediction)"
   ]
  },
  {
   "cell_type": "code",
   "execution_count": 31,
   "metadata": {
    "collapsed": true
   },
   "outputs": [],
   "source": [
    "from pickle import load\n",
    "import re"
   ]
  },
  {
   "cell_type": "code",
   "execution_count": 32,
   "metadata": {
    "collapsed": false
   },
   "outputs": [],
   "source": [
    "data = load(open(\"/home/da/nlp/ltp_test/seq2seq_inputs.pkl\", 'rb'))"
   ]
  },
  {
   "cell_type": "code",
   "execution_count": 37,
   "metadata": {
    "collapsed": false
   },
   "outputs": [
    {
     "data": {
      "text/plain": [
       "14133.69140625"
      ]
     },
     "execution_count": 37,
     "metadata": {},
     "output_type": "execute_result"
    }
   ],
   "source": [
    "data.shape[0]/1024*50"
   ]
  },
  {
   "cell_type": "code",
   "execution_count": 18,
   "metadata": {
    "collapsed": false
   },
   "outputs": [],
   "source": [
    "content = data.data\n",
    "label = data.label"
   ]
  },
  {
   "cell_type": "code",
   "execution_count": 33,
   "metadata": {
    "collapsed": false
   },
   "outputs": [],
   "source": [
    "content_str = [' '.join(a) + '\\n' for a in content]\n",
    "label_str = [' '.join(a) + '\\n' for a in content]\n",
    "\n",
    "content_train = content_str[0:250000]\n",
    "content_dev = content_str[250000:]\n",
    "label_train = label_str[0:250000]\n",
    "label_dev = label_str[250000:]"
   ]
  },
  {
   "cell_type": "code",
   "execution_count": 34,
   "metadata": {
    "collapsed": false
   },
   "outputs": [
    {
     "data": {
      "text/plain": [
       "'人 们 常 说 生 活 是 一 部 教 科 书\\n'"
      ]
     },
     "execution_count": 34,
     "metadata": {},
     "output_type": "execute_result"
    }
   ],
   "source": [
    "content_train[0]"
   ]
  },
  {
   "cell_type": "code",
   "execution_count": 35,
   "metadata": {
    "collapsed": false
   },
   "outputs": [],
   "source": [
    "with open('Jeffmxh/content_train.txt', 'w') as f:\n",
    "    f.writelines(content_train)\n",
    "with open('Jeffmxh/content_dev.txt', 'w') as f:\n",
    "    f.writelines(content_dev)\n",
    "with open('Jeffmxh/label_train.txt', 'w') as f:\n",
    "    f.writelines(label_train)\n",
    "with open('Jeffmxh/label_dev.txt', 'w') as f:\n",
    "    f.writelines(label_dev)"
   ]
  },
  {
   "cell_type": "code",
   "execution_count": 4,
   "metadata": {
    "collapsed": false
   },
   "outputs": [
    {
     "data": {
      "text/plain": [
       "'asdfasfwafwf'"
      ]
     },
     "execution_count": 4,
     "metadata": {},
     "output_type": "execute_result"
    }
   ],
   "source": [
    "s = 'asdfa\\000sfwafwf'\n",
    "\n",
    "import re\n",
    "ILLEGAL_CHARACTERS_RE = re.compile(r'[\\000-\\010]|[\\013-\\014]|[\\016-\\037]')\n",
    "m = ILLEGAL_CHARACTERS_RE.sub('', s)\n",
    "m"
   ]
  },
  {
   "cell_type": "code",
   "execution_count": 2,
   "metadata": {
    "collapsed": false
   },
   "outputs": [
    {
     "data": {
      "text/plain": [
       "['猫.jpg', '人物1.jpg']"
      ]
     },
     "execution_count": 2,
     "metadata": {},
     "output_type": "execute_result"
    }
   ],
   "source": [
    "import os\n",
    "import re\n",
    "a = os.listdir('/home/jeffmxh/shiny_shape/',)\n",
    "pattern = re.compile('.+?.jpg$')\n",
    "pattern.match(a[0])\n",
    "list(filter(pattern.match,a))"
   ]
  },
  {
   "cell_type": "code",
   "execution_count": 4,
   "metadata": {
    "collapsed": false
   },
   "outputs": [],
   "source": [
    "class info():\n",
    "    def __init__(self, name):\n",
    "        self.name = name\n",
    "    @property\n",
    "    def show_name(self):\n",
    "        return 'Name : ' + str(self.name)\n",
    "    @staticmethod\n",
    "    def show_params():\n",
    "        print('This is staticmethod')"
   ]
  },
  {
   "cell_type": "code",
   "execution_count": 5,
   "metadata": {
    "collapsed": false
   },
   "outputs": [
    {
     "name": "stdout",
     "output_type": "stream",
     "text": [
      "Name : Jeff\n",
      "This is staticmethod\n",
      "True\n"
     ]
    }
   ],
   "source": [
    "a = info('Jeff')\n",
    "print(a.show_name)\n",
    "info.show_params()\n",
    "print(isinstance(a, info))\n"
   ]
  },
  {
   "cell_type": "code",
   "execution_count": null,
   "metadata": {
    "collapsed": true
   },
   "outputs": [],
   "source": [
    "def log(func):\n",
    "    def _log(a, b):\n",
    "        print(\"before myfunc() called.\")\n",
    "        ret = func(a, b)\n",
    "        print(\"  after myfunc() called. result: %s\" % ret)\n",
    "        return ret\n",
    "    return _log\n",
    "\n",
    "@log\n",
    "de"
   ]
  },
  {
   "cell_type": "code",
   "execution_count": 33,
   "metadata": {
    "collapsed": false
   },
   "outputs": [
    {
     "name": "stdout",
     "output_type": "stream",
     "text": [
      "[ 3  8 15 24 35 48]\n"
     ]
    },
    {
     "data": {
      "text/plain": [
       "(array([2, 3, 4, 5, 6, 7]), array([1, 2, 3, 4, 5, 6]))"
      ]
     },
     "execution_count": 33,
     "metadata": {},
     "output_type": "execute_result"
    }
   ],
   "source": [
    "elems = np.array([1, 2, 3, 4, 5, 6])\n",
    "initializer = np.array(0)\n",
    "sum_one = tf.scan(\n",
    "    lambda a, x: x[0] + x[1] + a, (elems + 1, elems), initializer)\n",
    "with tf.Session() as sess:\n",
    "    result = sess.run(sum_one)\n",
    "    print(result)\n",
    "\n",
    "# f = lambda a, x: x[0] - x[1] + a\n",
    "(elems + 1, elems)"
   ]
  },
  {
   "cell_type": "code",
   "execution_count": 48,
   "metadata": {
    "collapsed": false
   },
   "outputs": [
    {
     "name": "stdout",
     "output_type": "stream",
     "text": [
      "Mon May  8 17:49:40 2017\n"
     ]
    }
   ],
   "source": [
    "import time\n",
    "print(time.asctime( time.localtime(time.time()) ))"
   ]
  },
  {
   "cell_type": "code",
   "execution_count": 46,
   "metadata": {
    "collapsed": false
   },
   "outputs": [
    {
     "name": "stdout",
     "output_type": "stream",
     "text": [
      "(array([ 2,  3,  5,  8, 13, 21]), array([ 3,  5,  8, 13, 21, 34]))\n"
     ]
    },
    {
     "data": {
      "text/plain": [
       "(array(1), array(2))"
      ]
     },
     "execution_count": 46,
     "metadata": {},
     "output_type": "execute_result"
    }
   ],
   "source": [
    "elems = np.array([0, 0, 0, 0, 0, 0])\n",
    "initializer = (np.array(1), np.array(2))\n",
    "fibonaccis = tf.scan(lambda a, _: (a[1], a[0] + a[1]), elems, initializer)\n",
    "with tf.Session() as sess:\n",
    "    result = sess.run(fibonaccis)\n",
    "    print(result)\n",
    "initializer"
   ]
  },
  {
   "cell_type": "code",
   "execution_count": 2,
   "metadata": {
    "collapsed": true
   },
   "outputs": [],
   "source": [
    "matrix1 = tf.constant([[3.,3.]])\n",
    "matrix2 = tf.constant([[2.], [2.]])\n",
    "product = tf.matmul(matrix1, matrix2)"
   ]
  },
  {
   "cell_type": "code",
   "execution_count": 6,
   "metadata": {
    "collapsed": false
   },
   "outputs": [
    {
     "name": "stdout",
     "output_type": "stream",
     "text": [
      "[[ 12.]]\n"
     ]
    }
   ],
   "source": [
    "with tf.Session() as sess:\n",
    "    result = sess.run(product)\n",
    "    print(result)"
   ]
  },
  {
   "cell_type": "code",
   "execution_count": 10,
   "metadata": {
    "collapsed": false
   },
   "outputs": [
    {
     "name": "stdout",
     "output_type": "stream",
     "text": [
      "aaa\n"
     ]
    }
   ],
   "source": [
    "ckpt = tf.train.get_checkpoint_state('/home/jeffmxh/deepnlp/deepnlp/textsum/ckpt/')\n",
    "if not ckpt:\n",
    "    print(\"aaa\")"
   ]
  },
  {
   "cell_type": "code",
   "execution_count": 11,
   "metadata": {
    "collapsed": false
   },
   "outputs": [],
   "source": [
    "x_data = np.random.rand(100).astype('float32')\n",
    "y_data = x_data*0.1+0.3"
   ]
  },
  {
   "cell_type": "code",
   "execution_count": 12,
   "metadata": {
    "collapsed": false
   },
   "outputs": [],
   "source": [
    "W = tf.Variable(tf.random_uniform([1], -1.0, 1.0))\n",
    "b = tf.Variable(tf.zeros([1]))\n",
    "y = W * x_data + b\n",
    "\n",
    "\n",
    "init = tf.global_variables_initializer()"
   ]
  },
  {
   "cell_type": "code",
   "execution_count": 13,
   "metadata": {
    "collapsed": false
   },
   "outputs": [],
   "source": [
    "# 最小化均方误差\n",
    "loss = tf.reduce_mean(tf.square(y - y_data))\n",
    "optimizer = tf.train.GradientDescentOptimizer(0.5)\n",
    "train = optimizer.minimize(loss)"
   ]
  },
  {
   "cell_type": "code",
   "execution_count": 14,
   "metadata": {
    "collapsed": false
   },
   "outputs": [
    {
     "name": "stdout",
     "output_type": "stream",
     "text": [
      "0 [-0.11474532] [ 0.56045181]\n",
      "20 [ 0.03648885] [ 0.333269]\n",
      "40 [ 0.08536214] [ 0.30766776]\n",
      "60 [ 0.09662631] [ 0.30176726]\n",
      "80 [ 0.09922244] [ 0.30040732]\n",
      "100 [ 0.09982079] [ 0.30009389]\n",
      "120 [ 0.0999587] [ 0.30002165]\n",
      "140 [ 0.09999049] [ 0.30000499]\n",
      "160 [ 0.09999783] [ 0.30000114]\n",
      "180 [ 0.09999949] [ 0.30000028]\n"
     ]
    }
   ],
   "source": [
    "with tf.Session() as sess:\n",
    "    sess.run(init)\n",
    "    for step in range(200):\n",
    "        sess.run(train)\n",
    "        if step % 20 == 0:\n",
    "            print(step, sess.run(W), sess.run(b))"
   ]
  },
  {
   "cell_type": "code",
   "execution_count": 15,
   "metadata": {
    "collapsed": true
   },
   "outputs": [],
   "source": [
    "# 使用 NumPy 生成假数据(phony data), 总共 100 个点.\n",
    "x_data = np.float32(np.random.rand(2, 100)) # 随机输入\n",
    "y_data = np.dot([0.100, 0.200], x_data) + 0.300"
   ]
  },
  {
   "cell_type": "code",
   "execution_count": 16,
   "metadata": {
    "collapsed": false
   },
   "outputs": [
    {
     "data": {
      "text/plain": [
       "array([ 0.48396323,  0.55351732,  0.33899472,  0.45908227,  0.53261669,\n",
       "        0.44104615,  0.45141883,  0.37340933,  0.58868018,  0.41954356,\n",
       "        0.3833061 ,  0.40072405,  0.36961595,  0.53800362,  0.43245118,\n",
       "        0.53928325,  0.51903484,  0.45086404,  0.44299852,  0.47614282,\n",
       "        0.43604107,  0.33730391,  0.33557073,  0.51708171,  0.38661739,\n",
       "        0.34836774,  0.45860716,  0.42262529,  0.38884495,  0.31223386,\n",
       "        0.49021673,  0.37656849,  0.40752567,  0.4524235 ,  0.44582348,\n",
       "        0.36427148,  0.47381006,  0.38229752,  0.44348624,  0.31816132,\n",
       "        0.45509555,  0.55592707,  0.42488478,  0.46627399,  0.49724117,\n",
       "        0.51874799,  0.4561199 ,  0.44105923,  0.40547986,  0.49176467,\n",
       "        0.42549955,  0.43657945,  0.49743639,  0.41057366,  0.48216227,\n",
       "        0.48234096,  0.31174661,  0.51014954,  0.47386357,  0.37280035,\n",
       "        0.35407241,  0.42714241,  0.44660879,  0.53342243,  0.35874878,\n",
       "        0.55587199,  0.50195839,  0.46093298,  0.37758727,  0.51676001,\n",
       "        0.4721247 ,  0.47539759,  0.53514807,  0.32375701,  0.3555939 ,\n",
       "        0.53358845,  0.51354306,  0.32650626,  0.45100409,  0.47823924,\n",
       "        0.41189586,  0.42173919,  0.449178  ,  0.38744913,  0.39603219,\n",
       "        0.5598326 ,  0.49919308,  0.36473311,  0.4776157 ,  0.46165802,\n",
       "        0.52579618,  0.36022347,  0.48049191,  0.44674552,  0.41635737,\n",
       "        0.41467239,  0.39587797,  0.43973714,  0.3859603 ,  0.38144966])"
      ]
     },
     "execution_count": 16,
     "metadata": {},
     "output_type": "execute_result"
    }
   ],
   "source": [
    "y_data"
   ]
  },
  {
   "cell_type": "code",
   "execution_count": 17,
   "metadata": {
    "collapsed": true
   },
   "outputs": [],
   "source": [
    "# 构造一个线性模型\n",
    "# \n",
    "b = tf.Variable(tf.zeros([1]))\n",
    "W = tf.Variable(tf.random_uniform([1, 2], -1.0, 1.0))\n",
    "y = tf.matmul(W, x_data) + b"
   ]
  },
  {
   "cell_type": "code",
   "execution_count": 18,
   "metadata": {
    "collapsed": true
   },
   "outputs": [],
   "source": [
    "# 最小化方差\n",
    "loss = tf.reduce_mean(tf.square(y - y_data))\n",
    "optimizer = tf.train.GradientDescentOptimizer(0.5)\n",
    "train = optimizer.minimize(loss)"
   ]
  },
  {
   "cell_type": "code",
   "execution_count": 19,
   "metadata": {
    "collapsed": false
   },
   "outputs": [
    {
     "name": "stdout",
     "output_type": "stream",
     "text": [
      "0 [[ 0.12357616  0.57576615]] [ 0.17833456]\n",
      "20 [[ 0.12670037  0.28080222]] [ 0.24634533]\n",
      "40 [[ 0.11285964  0.22072469]] [ 0.28331554]\n",
      "60 [[ 0.10477415  0.20576234]] [ 0.29477823]\n",
      "80 [[ 0.10162169  0.20169124]] [ 0.29836023]\n",
      "100 [[ 0.10053009  0.20051278]] [ 0.29948413]\n",
      "120 [[ 0.10017014  0.20015833]] [ 0.29983759]\n",
      "140 [[ 0.10005412  0.20004936]] [ 0.29994884]\n",
      "160 [[ 0.10001714  0.20001547]] [ 0.29998389]\n",
      "180 [[ 0.10000542  0.20000488]] [ 0.29999492]\n"
     ]
    }
   ],
   "source": [
    "# 初始化变量\n",
    "init = tf.global_variables_initializer()\n",
    "\n",
    "# 启动图 (graph)\n",
    "with tf.Session() as sess:\n",
    "    sess.run(init)\n",
    "    for step in range(200):\n",
    "        sess.run(train)\n",
    "        if step % 20==0:\n",
    "            print(step, sess.run(W), sess.run(b))"
   ]
  }
 ],
 "metadata": {
  "kernelspec": {
   "display_name": "Python 3",
   "language": "python",
   "name": "python3"
  },
  "language_info": {
   "codemirror_mode": {
    "name": "ipython",
    "version": 3
   },
   "file_extension": ".py",
   "mimetype": "text/x-python",
   "name": "python",
   "nbconvert_exporter": "python",
   "pygments_lexer": "ipython3",
   "version": "3.5.2"
  }
 },
 "nbformat": 4,
 "nbformat_minor": 1
}
