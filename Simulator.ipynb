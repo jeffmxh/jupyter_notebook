{
 "cells": [
  {
   "cell_type": "code",
   "execution_count": 2,
   "metadata": {
    "collapsed": false
   },
   "outputs": [
    {
     "name": "stdout",
     "output_type": "stream",
     "text": [
      "处于状态1的概率：0.199400\n",
      "处于状态2的概率：0.139000\n",
      "处于状态3的概率：0.123200\n",
      "处于状态4的概率：0.070200\n",
      "处于状态5的概率：0.070900\n",
      "处于状态6的概率：0.080500\n",
      "处于状态7的概率：0.031700\n",
      "处于状态8的概率：0.064800\n",
      "处于状态9的概率：0.220300\n"
     ]
    }
   ],
   "source": [
    "import random\n",
    "import numpy as np\n",
    "\n",
    "'''\n",
    "获取当前所处状态\n",
    "'''\n",
    "def get_i(x):\n",
    "    for i in range(len(x)):\n",
    "      if x[i]==1:\n",
    "          return i\n",
    "\n",
    "'''\n",
    "获取下一个状态值\n",
    "'''\n",
    "def get_next(prob_list):\n",
    "    cum_list = np.cumsum(prob_list)\n",
    "    seed = random.random()\n",
    "    for i in range(len(prob_list)):\n",
    "        if seed<cum_list[i]:\n",
    "            return i\n",
    "\n",
    "'''\n",
    "生成新的状态\n",
    "'''\n",
    "def gen_i(i, n):\n",
    "    return [0 if a!=i else 1 for a in range(n)]\n",
    "\n",
    "'''\n",
    "输入一个状态，产生新的状态\n",
    "'''\n",
    "def trans(x):\n",
    "    w = [\n",
    "        [3/11, 3/11, 2/11, 1/11, 1/11, 0, 0, 0, 1/11],\n",
    "        [2/8, 0, 1/8, 0, 1/8, 1/8, 0, 0, 3/8],\n",
    "        [0, 1/7, 1/7, 1/7, 0, 0, 1/7, 1/7, 2/7],\n",
    "        [0, 1/4, 1/4, 1/4, 0, 1/4, 0, 0, 0],\n",
    "        [2/4, 0, 0, 0, 0, 1/4, 0, 0, 1/4],\n",
    "        [0, 0, 0, 0, 2/5, 0, 0, 1/5, 2/5],\n",
    "        [1/2, 0, 1/2, 0, 0, 0, 0, 0, 0],\n",
    "        [2/5, 1/5, 0, 0, 0, 1/5, 1/5, 0, 0],\n",
    "        [2/13, 2/13, 1/13, 1/13, 0, 1/13, 0, 2/13, 4/13]\n",
    "        ]\n",
    "    start = get_i(x)\n",
    "    prob_list = w[start]\n",
    "    n = len(w)\n",
    "    x = gen_i(get_next(w[start]), n)\n",
    "    return x\n",
    "\n",
    "'''\n",
    "模拟过程主函数\n",
    "'''\n",
    "def train():\n",
    "    '''\n",
    "    定义初始状态\n",
    "    '''\n",
    "    x = [1, 0, 0, 0, 0, 0, 0, 0, 0]\n",
    "    listx = []\n",
    "    for i in range(10000):\n",
    "        x = trans(x)\n",
    "        listx.append(x)\n",
    "    for i in range(9):\n",
    "        result = [a[i] for a in listx]\n",
    "        result = sum(result)/10000\n",
    "        print('处于状态%d的概率：%f' % (i+1, result))\n",
    "\n",
    "train()"
   ]
  }
 ],
 "metadata": {
  "anaconda-cloud": {},
  "kernelspec": {
   "display_name": "Python [conda root]",
   "language": "python",
   "name": "conda-root-py"
  },
  "language_info": {
   "codemirror_mode": {
    "name": "ipython",
    "version": 3
   },
   "file_extension": ".py",
   "mimetype": "text/x-python",
   "name": "python",
   "nbconvert_exporter": "python",
   "pygments_lexer": "ipython3",
   "version": "3.5.2"
  }
 },
 "nbformat": 4,
 "nbformat_minor": 1
}
