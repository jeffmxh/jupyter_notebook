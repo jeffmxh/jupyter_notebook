{
 "cells": [
  {
   "cell_type": "code",
   "execution_count": 129,
   "metadata": {
    "collapsed": true
   },
   "outputs": [],
   "source": [
    "import re\n",
    "import requests\n",
    "import pandas as pd \n",
    "import time"
   ]
  },
  {
   "cell_type": "code",
   "execution_count": 56,
   "metadata": {
    "collapsed": false
   },
   "outputs": [
    {
     "data": {
      "text/plain": [
       "['wbsxyph',\n",
       " 'vitanova',\n",
       " 'phoenixlwei',\n",
       " 'honney',\n",
       " 'cosly',\n",
       " 'EthelC',\n",
       " 'huanchen',\n",
       " 'Davenport',\n",
       " 'wenweihu']"
      ]
     },
     "execution_count": 56,
     "metadata": {},
     "output_type": "execute_result"
    }
   ],
   "source": [
    "def filter_userid(text):\n",
    "    pattern = re.compile(u'<a href=blogdoc\\?userid=.+?>')\n",
    "    id_list = pattern.findall(text)\n",
    "    return id_list\n",
    "\n",
    "def trim_id(long_id):\n",
    "    temp_id = re.sub('<a href=blogdoc\\?userid=', '', long_id)\n",
    "    result_id = re.sub('>$', '', temp_id)\n",
    "    return result_id\n",
    "\n",
    "def get_users(title):\n",
    "    url = 'http://bbs.nju.edu.cn/blogfind?type=1'\n",
    "    info_list=[]\n",
    "    headers={\n",
    "        \"Host\":\"bbs.nju.edu.cn\",\n",
    "        \"User-Agent\":\"Mozilla/5.0 (Windows; U; Windows NT 6.1; en-us) AppleWebKit/534.50 (KHTML, like Gecko) Version/5.1 Safari/534.50\",\n",
    "        \"Accept\":\"text/html,application/xhtml+xml,application/xml;q=0.9,*/*;q=0.8\",\n",
    "        \"Accept-Language\":\"en-US,en;q=0.5\",\n",
    "        \"Accept-Encoding\":\"gzip, deflate\",\n",
    "        \"Content-Type\":\"application/x-www-form-urlencoded\",\n",
    "        \"Content-Length\":\"28\",\n",
    "        \"Referer\":\"http://bbs.nju.edu.cn/blogfind\",\n",
    "        \"Cookie\":\"FOOTKEY=453552640\",\n",
    "        \"DNT\":\"1\",\n",
    "        \"Connection\":\"keep-alive\",\n",
    "        \"Upgrade-Insecure-Requests\":\"1\"\n",
    "    }\n",
    "    data={\n",
    "        \"userid\":\"\",\n",
    "        \"bname\":\"\",\n",
    "        \"btitle\":title\n",
    "    }\n",
    "    try:\n",
    "        content = requests.post(url, data=data, headers=headers).text\n",
    "    except Exception as e:\n",
    "        print(e)\n",
    "    id_set = set(filter_userid(content))\n",
    "    id_list = list(map(trim_id, id_set))\n",
    "    return id_list\n",
    "\n",
    "a = get_users('math') \n",
    "a"
   ]
  },
  {
   "cell_type": "code",
   "execution_count": 128,
   "metadata": {
    "collapsed": false,
    "scrolled": false
   },
   "outputs": [
    {
     "data": {
      "text/html": [
       "<div>\n",
       "<table border=\"1\" class=\"dataframe\">\n",
       "  <thead>\n",
       "    <tr style=\"text-align: right;\">\n",
       "      <th></th>\n",
       "      <th>user_id</th>\n",
       "      <th>title</th>\n",
       "      <th>file_index</th>\n",
       "    </tr>\n",
       "  </thead>\n",
       "  <tbody>\n",
       "    <tr>\n",
       "      <th>0</th>\n",
       "      <td>levlandau</td>\n",
       "      <td>转载南大和园朝南卧室出租</td>\n",
       "      <td>1426070997</td>\n",
       "    </tr>\n",
       "    <tr>\n",
       "      <th>1</th>\n",
       "      <td>levlandau</td>\n",
       "      <td>转载出租仙林和园朝南朝北房间各一间</td>\n",
       "      <td>1426071361</td>\n",
       "    </tr>\n",
       "    <tr>\n",
       "      <th>2</th>\n",
       "      <td>levlandau</td>\n",
       "      <td>转载和园好房出租一天起租</td>\n",
       "      <td>1426758181</td>\n",
       "    </tr>\n",
       "    <tr>\n",
       "      <th>3</th>\n",
       "      <td>levlandau</td>\n",
       "      <td>转载和园精装房出租一天起租</td>\n",
       "      <td>1426940366</td>\n",
       "    </tr>\n",
       "    <tr>\n",
       "      <th>4</th>\n",
       "      <td>levlandau</td>\n",
       "      <td>转载主卧出租精装修南大和园</td>\n",
       "      <td>1426940578</td>\n",
       "    </tr>\n",
       "    <tr>\n",
       "      <th>5</th>\n",
       "      <td>levlandau</td>\n",
       "      <td>转载出租仙林南大和园单间400元</td>\n",
       "      <td>1426940665</td>\n",
       "    </tr>\n",
       "    <tr>\n",
       "      <th>6</th>\n",
       "      <td>levlandau</td>\n",
       "      <td>转载出租仙林南大和园单间400元</td>\n",
       "      <td>1426940739</td>\n",
       "    </tr>\n",
       "  </tbody>\n",
       "</table>\n",
       "</div>"
      ],
      "text/plain": [
       "     user_id              title  file_index\n",
       "0  levlandau       转载南大和园朝南卧室出租  1426070997\n",
       "1  levlandau  转载出租仙林和园朝南朝北房间各一间  1426071361\n",
       "2  levlandau       转载和园好房出租一天起租  1426758181\n",
       "3  levlandau      转载和园精装房出租一天起租  1426940366\n",
       "4  levlandau      转载主卧出租精装修南大和园  1426940578\n",
       "5  levlandau   转载出租仙林南大和园单间400元  1426940665\n",
       "6  levlandau   转载出租仙林南大和园单间400元  1426940739"
      ]
     },
     "execution_count": 128,
     "metadata": {},
     "output_type": "execute_result"
    }
   ],
   "source": [
    "# test_id = '7866321'\n",
    "test_id = 'levlandau'\n",
    "\n",
    "def get_data_by_id(userID):\n",
    "    # 构建URL\n",
    "    url = ('http://bbs.nju.edu.cn/blogdoc?userid={}').format(\n",
    "        userID\n",
    "    )\n",
    "    r = requests.get(url, verify=False)\n",
    "    return r.text\n",
    "test = get_data_by_id(test_id)\n",
    "\n",
    "'''\n",
    "用于解析标题，链接，用户\n",
    "'''\n",
    "\n",
    "def parse_title(text):\n",
    "    title = re.sub('<td><a href=blogcon\\?userid=.+?&file=[0-9]+?>|</a>|\\W', '', text)\n",
    "    return title\n",
    "\n",
    "def parse_fileIndex(text):\n",
    "    file_index = re.findall('&file=[0-9]+?>', text)[0]\n",
    "    file_index = re.findall('[0-9]+', file_index)[0]\n",
    "    return file_index\n",
    "\n",
    "def get_content(user_id, file_index):\n",
    "    url = ('http://bbs.nju.edu.cn/blogcon?userid={}&file={}').format(user_id, file_index)\n",
    "    response = requests.get(url, verify=False)\n",
    "    result = response.text\n",
    "    return result\n",
    "\n",
    "def extract_user_data(user_id):\n",
    "    raw_text = get_data_by_id(user_id)\n",
    "    pattern = re.compile(('<td><a href=blogcon\\?userid={}&file=[0-9]+?>.+?</a>').format(user_id))\n",
    "    text_list = pattern.findall(raw_text)\n",
    "    title_list = list(map(parse_title, text_list))    \n",
    "    fileIndex_list = list(map(parse_fileIndex, text_list))\n",
    "#     content_list = [get_content(title, fileIndex) for (title, fileIndex) in zip(title_list, fileIndex_list)]\n",
    "    \n",
    "    result = pd.DataFrame({\n",
    "            'user_id':user_id,\n",
    "            'title':title_list, \n",
    "            'file_index':fileIndex_list},\n",
    "#                            'content':content_list}, \n",
    "                          columns = ['user_id', 'title', 'file_index'])\n",
    "#     print(content_list)\n",
    "    return result\n",
    "    \n",
    "result_table = extract_user_data(test_id)\n",
    "result_table"
   ]
  },
  {
   "cell_type": "code",
   "execution_count": 133,
   "metadata": {
    "collapsed": false
   },
   "outputs": [
    {
     "name": "stdout",
     "output_type": "stream",
     "text": [
      "0\n",
      "1\n",
      "2\n",
      "3\n",
      "4\n",
      "5\n",
      "6\n"
     ]
    },
    {
     "data": {
      "text/html": [
       "<div>\n",
       "<table border=\"1\" class=\"dataframe\">\n",
       "  <thead>\n",
       "    <tr style=\"text-align: right;\">\n",
       "      <th></th>\n",
       "      <th>user_id</th>\n",
       "      <th>title</th>\n",
       "      <th>file_index</th>\n",
       "      <th>content</th>\n",
       "    </tr>\n",
       "  </thead>\n",
       "  <tbody>\n",
       "    <tr>\n",
       "      <th>0</th>\n",
       "      <td>levlandau</td>\n",
       "      <td>转载南大和园朝南卧室出租</td>\n",
       "      <td>1426070997</td>\n",
       "      <td>&lt;html&gt;&lt;head&gt;\\n&lt;meta HTTP-EQUIV=\"Content-Type\" ...</td>\n",
       "    </tr>\n",
       "    <tr>\n",
       "      <th>1</th>\n",
       "      <td>levlandau</td>\n",
       "      <td>转载出租仙林和园朝南朝北房间各一间</td>\n",
       "      <td>1426071361</td>\n",
       "      <td>&lt;html&gt;&lt;head&gt;\\n&lt;meta HTTP-EQUIV=\"Content-Type\" ...</td>\n",
       "    </tr>\n",
       "    <tr>\n",
       "      <th>2</th>\n",
       "      <td>levlandau</td>\n",
       "      <td>转载和园好房出租一天起租</td>\n",
       "      <td>1426758181</td>\n",
       "      <td>&lt;html&gt;&lt;head&gt;\\n&lt;meta HTTP-EQUIV=\"Content-Type\" ...</td>\n",
       "    </tr>\n",
       "    <tr>\n",
       "      <th>3</th>\n",
       "      <td>levlandau</td>\n",
       "      <td>转载和园精装房出租一天起租</td>\n",
       "      <td>1426940366</td>\n",
       "      <td>&lt;html&gt;&lt;head&gt;\\n&lt;meta HTTP-EQUIV=\"Content-Type\" ...</td>\n",
       "    </tr>\n",
       "    <tr>\n",
       "      <th>4</th>\n",
       "      <td>levlandau</td>\n",
       "      <td>转载主卧出租精装修南大和园</td>\n",
       "      <td>1426940578</td>\n",
       "      <td>&lt;html&gt;&lt;head&gt;\\n&lt;meta HTTP-EQUIV=\"Content-Type\" ...</td>\n",
       "    </tr>\n",
       "    <tr>\n",
       "      <th>5</th>\n",
       "      <td>levlandau</td>\n",
       "      <td>转载出租仙林南大和园单间400元</td>\n",
       "      <td>1426940665</td>\n",
       "      <td>&lt;html&gt;&lt;head&gt;\\n&lt;meta HTTP-EQUIV=\"Content-Type\" ...</td>\n",
       "    </tr>\n",
       "    <tr>\n",
       "      <th>6</th>\n",
       "      <td>levlandau</td>\n",
       "      <td>转载出租仙林南大和园单间400元</td>\n",
       "      <td>1426940739</td>\n",
       "      <td>&lt;html&gt;&lt;head&gt;\\n&lt;meta HTTP-EQUIV=\"Content-Type\" ...</td>\n",
       "    </tr>\n",
       "  </tbody>\n",
       "</table>\n",
       "</div>"
      ],
      "text/plain": [
       "     user_id              title  file_index  \\\n",
       "0  levlandau       转载南大和园朝南卧室出租  1426070997   \n",
       "1  levlandau  转载出租仙林和园朝南朝北房间各一间  1426071361   \n",
       "2  levlandau       转载和园好房出租一天起租  1426758181   \n",
       "3  levlandau      转载和园精装房出租一天起租  1426940366   \n",
       "4  levlandau      转载主卧出租精装修南大和园  1426940578   \n",
       "5  levlandau   转载出租仙林南大和园单间400元  1426940665   \n",
       "6  levlandau   转载出租仙林南大和园单间400元  1426940739   \n",
       "\n",
       "                                             content  \n",
       "0  <html><head>\\n<meta HTTP-EQUIV=\"Content-Type\" ...  \n",
       "1  <html><head>\\n<meta HTTP-EQUIV=\"Content-Type\" ...  \n",
       "2  <html><head>\\n<meta HTTP-EQUIV=\"Content-Type\" ...  \n",
       "3  <html><head>\\n<meta HTTP-EQUIV=\"Content-Type\" ...  \n",
       "4  <html><head>\\n<meta HTTP-EQUIV=\"Content-Type\" ...  \n",
       "5  <html><head>\\n<meta HTTP-EQUIV=\"Content-Type\" ...  \n",
       "6  <html><head>\\n<meta HTTP-EQUIV=\"Content-Type\" ...  "
      ]
     },
     "execution_count": 133,
     "metadata": {},
     "output_type": "execute_result"
    }
   ],
   "source": [
    "# get_content(result_table.user_id[0], result_table.file_index[0])\n",
    "result_list = []\n",
    "for i in range(result_table.shape[0]):\n",
    "    content = get_content(result_table.user_id[i], result_table.file_index[i])\n",
    "    result_list.append(content)\n",
    "    print(i)\n",
    "    time.sleep(1)\n",
    "    \n",
    "result_list\n",
    "result_table['content'] = result_list\n",
    "result_table"
   ]
  },
  {
   "cell_type": "code",
   "execution_count": 139,
   "metadata": {
    "collapsed": false
   },
   "outputs": [
    {
     "data": {
      "text/plain": [
       "'<html><head>\\n<meta HTTP-EQUIV=\"Content-Type\" CONTENT=\"text/html; charset=gb2312\">\\n<link rel=stylesheet type=text/css href=\"/images/bbs.css?Net_3\">\\n</head><script src=\"/js/bbs.js?Net_9\"></script>\\n<center><br>\\n<font color=red style=\\'font-size:18px\\'><b><a href=bbsqry?userid=levlandau>levlandau</a>的blog阅读</b></font><br><br>\\n\\n[<a href=blogdoc?userid=levlandau>levlandau的blog目录</a>]\\n[<a href=bbspstmail?userid=levlandau&title=\"没主题\" >给作者写信</a>]\\n[<a href=blogcomment?userid=levlandau&file=1426070997>发表评论</a>]\\n(<a href=blogcocon?userid=levlandau&file=1426070997>现有评论0条</a>)\\n<br><br>\\n<script>Net.User.init({WHEEL:0,FACE:1})</script><table width=610 class=main><tr><td id=NET_1 width=600><textarea id=NET-1>作  者: [uid]levlandau[/uid]\\n标  题: [转载] 南大和园朝南卧室出租\\n时  间: Wed Mar 11 18:49:57 2015\\n点  击: 66\\n\\n\\x1b[37;1m【 以下文字转载自 \\x1b[32mNJ_HOUSE \\x1b[37m讨论区 】\\n\\x1b[37;1m【 原文由 \\x1b[32mxlstoneage \\x1b[37m所发表 】\\x1b[m\\n\\n\\n\\r\\n4月5日起可以入住，房租550，是朝南的一间小卧室，带小阳台，可以晒到满满的阳光哦。\\r\\n房子里有洗衣机、热水器、空调一应俱全。卫生间是蹲坑很卫生哦。目前房子里租客很少\\r\\n且都是学生党，只有三个房间有人住。大家都很爱干净而且修养很好很安静。欢迎来看房\\r\\n，联系13851668873即可。\\r\\n\\r\\n我本来是租到5月4日的，因为突然有事，4月初就要走了，所以这一个月希望有人可以租掉\\r\\n它哦，然后如果要续租我可以直接帮你跟房东联系，当然你也可以系自己联系啦。\\r\\n\\r\\n房东人超好的，我超级推荐租他的房子哦，房东老婆很可爱，当初我一个人睡在房子里的\\r\\n时候很害怕，房东老婆还来陪我睡了一阵子直到有人来住，这样的房东还有话说吗，绝对\\r\\n不是打广告，你看见我就知道我是不会说谎的人！\\r\\n\\r\\n\\n--\\n\\n\\x1b[1;37m※ 来源:．南京大学小百合站 http://bbs.nju.edu.cn [FROM: 114.212.118.116]\\x1b[m\\n\\n--\\n\\n\\x1b[1;31m※ 来源:．南京大学小百合站 http://bbs.nju.edu.cn [FROM: 172.26.67.248]\\x1b[m\\n </textarea></table><script>Net.Html.make(1)</script><br><br>\\n[<a href=blogcon?userid=levlandau&file=1426071361>下一篇</a>]\\n[<a href=blogdoc?userid=levlandau>levlandau的blog目录</a>]\\n<br>[<a href=bbspstmail?userid=levlandau&title=问候>给作者写信</a>]\\n[<a href=blogcomment?userid=levlandau&file=1426070997>发表评论</a>]\\n(现有评论0条)\\n[<a href=blog2b?userid=levlandau&file=1426070997>转载</a>]\\n[<a href=blog2m?userid=levlandau&file=1426070997>转寄</a>]\\n'"
      ]
     },
     "execution_count": 139,
     "metadata": {},
     "output_type": "execute_result"
    }
   ],
   "source": [
    "result_table.content[0]"
   ]
  },
  {
   "cell_type": "code",
   "execution_count": 138,
   "metadata": {
    "collapsed": false
   },
   "outputs": [
    {
     "data": {
      "text/plain": [
       "'<html><head>\\n<meta HTTP-EQUIV=\"Content-Type\" CONTENT=\"text/html; charset=gb2312\">\\n<link rel=stylesheet type=text/css href=\"/images/bbs.css?Net_3\">\\n</head><script src=\"/js/bbs.js?Net_9\"></script>\\n<center><br>\\n<font color=red style=\\'font-size:18px\\'><b><a href=bbsqry?userid=levlandau>levlandau</a>的blog阅读</b></font><br><br>\\n\\n[<a href=blogdoc?userid=levlandau>levlandau的blog目录</a>]\\n[<a href=bbspstmail?userid=levlandau&title=\"没主题\" >给作者写信</a>]\\n[<a href=blogcomment?userid=levlandau&file=1426071361>发表评论</a>]\\n(<a href=blogcocon?userid=levlandau&file=1426071361>现有评论0条</a>)\\n<br><br>\\n<script>Net.User.init({WHEEL:0,FACE:1})</script><table width=610 class=main><tr><td id=NET_1 width=600><textarea id=NET-1>作  者: [uid]levlandau[/uid]\\n标  题: [转载] 出租仙林和园朝南，朝北房间各一间\\n时  间: Wed Mar 11 18:56:01 2015\\n点  击: 55\\n\\n\\x1b[37;1m【 以下文字转载自 \\x1b[32mNJ_HOUSE \\x1b[37m讨论区 】\\n\\x1b[37;1m【 原文由 \\x1b[32m528528 \\x1b[37m所发表 】\\x1b[m\\n\\n\\n\\r\\n该房离地铁口近，安静采光好，房间大，基本设施全，热水器，洗衣机，网络。房内其他\\r\\n租客素质很好。\\r\\n\\r\\n要求：考研学生最佳\\r\\n\\r\\n租金：朝南  550元/月\\r\\n\\r\\n      朝北  400元/月\\r\\n\\r\\n      押1付3\\r\\n\\r\\n入住时间：随时\\r\\n\\r\\n联系方式：梁老师  1385 158 1558\\n--\\n\\n\\x1b[1;37m※ 来源:．南京大学小百合站 http://bbs.nju.edu.cn [FROM: 60.12.76.108]\\x1b[m\\n\\n--\\n\\n\\x1b[1;33m※ 来源:．南京大学小百合站 http://bbs.nju.edu.cn [FROM: 172.26.67.248]\\x1b[m\\n </textarea></table><script>Net.Html.make(1)</script><br><br>\\n[<a href=blogcon?userid=levlandau&file=1426070997>上一篇</a>]\\n[<a href=blogcon?userid=levlandau&file=1426758181>下一篇</a>]\\n[<a href=blogdoc?userid=levlandau>levlandau的blog目录</a>]\\n<br>[<a href=bbspstmail?userid=levlandau&title=问候>给作者写信</a>]\\n[<a href=blogcomment?userid=levlandau&file=1426071361>发表评论</a>]\\n(现有评论0条)\\n[<a href=blog2b?userid=levlandau&file=1426071361>转载</a>]\\n[<a href=blog2m?userid=levlandau&file=1426071361>转寄</a>]\\n'"
      ]
     },
     "execution_count": 138,
     "metadata": {},
     "output_type": "execute_result"
    }
   ],
   "source": [
    "result_table.content[1]"
   ]
  },
  {
   "cell_type": "code",
   "execution_count": 136,
   "metadata": {
    "collapsed": false
   },
   "outputs": [
    {
     "name": "stdout",
     "output_type": "stream",
     "text": [
      "save result to excel...\n",
      "task done.\n"
     ]
    }
   ],
   "source": [
    "print('save result to excel...')\n",
    "writer = pd.ExcelWriter('/home/da/spyder_result.xlsx')\n",
    "result_table.to_excel(writer, sheet_name='bbs', encoding = 'utf-8', index = False)\n",
    "writer.save()\n",
    "print('task done.')"
   ]
  }
 ],
 "metadata": {
  "anaconda-cloud": {},
  "kernelspec": {
   "display_name": "Python [conda root]",
   "language": "python",
   "name": "conda-root-py"
  },
  "language_info": {
   "codemirror_mode": {
    "name": "ipython",
    "version": 3
   },
   "file_extension": ".py",
   "mimetype": "text/x-python",
   "name": "python",
   "nbconvert_exporter": "python",
   "pygments_lexer": "ipython3",
   "version": "3.5.2"
  }
 },
 "nbformat": 4,
 "nbformat_minor": 1
}
