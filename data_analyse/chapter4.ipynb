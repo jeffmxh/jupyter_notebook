{
 "cells": [
  {
   "cell_type": "code",
   "execution_count": 1,
   "metadata": {
    "collapsed": true
   },
   "outputs": [],
   "source": [
    "# 主要内容：\n",
    "# 1、对缺失值进行差值补全(依赖scipy)\n",
    "# 2、数据规范化处理(简单的向量运算)\n",
    "# 3、对数据进行离散化处理，并可视化结果\n",
    "# 4、通过主成分分析对数据进行降维(sk-learn)"
   ]
  },
  {
   "cell_type": "code",
   "execution_count": 2,
   "metadata": {
    "collapsed": false
   },
   "outputs": [
    {
     "name": "stderr",
     "output_type": "stream",
     "text": [
      "/home/jeff/anaconda3/lib/python3.5/site-packages/ipykernel/__main__.py:8: SettingWithCopyWarning: \n",
      "A value is trying to be set on a copy of a slice from a DataFrame\n",
      "\n",
      "See the caveats in the documentation: http://pandas.pydata.org/pandas-docs/stable/indexing.html#indexing-view-versus-copy\n",
      "/home/jeff/anaconda3/lib/python3.5/site-packages/ipykernel/__main__.py:21: SettingWithCopyWarning: \n",
      "A value is trying to be set on a copy of a slice from a DataFrame\n",
      "\n",
      "See the caveats in the documentation: http://pandas.pydata.org/pandas-docs/stable/indexing.html#indexing-view-versus-copy\n"
     ]
    },
    {
     "data": {
      "text/html": [
       "<div>\n",
       "<table border=\"1\" class=\"dataframe\">\n",
       "  <thead>\n",
       "    <tr style=\"text-align: right;\">\n",
       "      <th></th>\n",
       "      <th>销量</th>\n",
       "    </tr>\n",
       "  </thead>\n",
       "  <tbody>\n",
       "    <tr>\n",
       "      <th>count</th>\n",
       "      <td>201.000000</td>\n",
       "    </tr>\n",
       "    <tr>\n",
       "      <th>mean</th>\n",
       "      <td>2360.242862</td>\n",
       "    </tr>\n",
       "    <tr>\n",
       "      <th>std</th>\n",
       "      <td>5568.724439</td>\n",
       "    </tr>\n",
       "    <tr>\n",
       "      <th>min</th>\n",
       "      <td>-75744.000000</td>\n",
       "    </tr>\n",
       "    <tr>\n",
       "      <th>25%</th>\n",
       "      <td>2452.600000</td>\n",
       "    </tr>\n",
       "    <tr>\n",
       "      <th>50%</th>\n",
       "      <td>2655.900000</td>\n",
       "    </tr>\n",
       "    <tr>\n",
       "      <th>75%</th>\n",
       "      <td>3033.100000</td>\n",
       "    </tr>\n",
       "    <tr>\n",
       "      <th>max</th>\n",
       "      <td>6720.000000</td>\n",
       "    </tr>\n",
       "  </tbody>\n",
       "</table>\n",
       "</div>"
      ],
      "text/plain": [
       "                 销量\n",
       "count    201.000000\n",
       "mean    2360.242862\n",
       "std     5568.724439\n",
       "min   -75744.000000\n",
       "25%     2452.600000\n",
       "50%     2655.900000\n",
       "75%     3033.100000\n",
       "max     6720.000000"
      ]
     },
     "execution_count": 2,
     "metadata": {},
     "output_type": "execute_result"
    }
   ],
   "source": [
    "# 对数据进行拉格朗日差值，补全缺失值\n",
    "\n",
    "import pandas as pd\n",
    "import numpy as np\n",
    "from scipy.interpolate import lagrange\n",
    "\n",
    "data = pd.read_excel('/home/jeff/python_data/chapter4/chapter4/demo/data/catering_sale.xls')\n",
    "data['销量'][(data['销量'] < 400) | (data['销量'] > 5000)] = np.nan\n",
    "\n",
    "# 定义插值函数, 默认区前后5项进行差值\n",
    "\n",
    "def ployinterp_column(s, n, k = 5):\n",
    "    y = s[list(range(n - k, n)) + list(range(n + 1, n + 1 + k))]\n",
    "    y = y[y.notnull()]\n",
    "    return lagrange(y.index, list(y))(n)\n",
    "\n",
    "for i in data.columns:\n",
    "    for j in range(len(data)):\n",
    "        #if(data[i].isnull())[j]:  #竟然还可以这样写？？\n",
    "        if(data[i].isnull()[j]): \n",
    "            data[i][j] = ployinterp_column(data[i], j)\n",
    "\n",
    "data.describe()"
   ]
  },
  {
   "cell_type": "code",
   "execution_count": 3,
   "metadata": {
    "collapsed": false
   },
   "outputs": [
    {
     "data": {
      "text/html": [
       "<div>\n",
       "<table border=\"1\" class=\"dataframe\">\n",
       "  <thead>\n",
       "    <tr style=\"text-align: right;\">\n",
       "      <th></th>\n",
       "      <th>78</th>\n",
       "      <th>521</th>\n",
       "      <th>602</th>\n",
       "      <th>2863</th>\n",
       "    </tr>\n",
       "  </thead>\n",
       "  <tbody>\n",
       "    <tr>\n",
       "      <th>0</th>\n",
       "      <td>0.144</td>\n",
       "      <td>-0.600</td>\n",
       "      <td>-0.521</td>\n",
       "      <td>0.2245</td>\n",
       "    </tr>\n",
       "    <tr>\n",
       "      <th>1</th>\n",
       "      <td>0.095</td>\n",
       "      <td>-0.457</td>\n",
       "      <td>0.468</td>\n",
       "      <td>-0.1283</td>\n",
       "    </tr>\n",
       "    <tr>\n",
       "      <th>2</th>\n",
       "      <td>0.069</td>\n",
       "      <td>0.596</td>\n",
       "      <td>0.695</td>\n",
       "      <td>0.1054</td>\n",
       "    </tr>\n",
       "    <tr>\n",
       "      <th>3</th>\n",
       "      <td>0.190</td>\n",
       "      <td>0.527</td>\n",
       "      <td>0.691</td>\n",
       "      <td>0.2051</td>\n",
       "    </tr>\n",
       "    <tr>\n",
       "      <th>4</th>\n",
       "      <td>0.101</td>\n",
       "      <td>0.403</td>\n",
       "      <td>0.470</td>\n",
       "      <td>0.2487</td>\n",
       "    </tr>\n",
       "    <tr>\n",
       "      <th>5</th>\n",
       "      <td>0.146</td>\n",
       "      <td>0.413</td>\n",
       "      <td>0.435</td>\n",
       "      <td>0.2571</td>\n",
       "    </tr>\n",
       "  </tbody>\n",
       "</table>\n",
       "</div>"
      ],
      "text/plain": [
       "    78     521    602     2863\n",
       "0  0.144 -0.600 -0.521  0.2245\n",
       "1  0.095 -0.457  0.468 -0.1283\n",
       "2  0.069  0.596  0.695  0.1054\n",
       "3  0.190  0.527  0.691  0.2051\n",
       "4  0.101  0.403  0.470  0.2487\n",
       "5  0.146  0.413  0.435  0.2571"
      ]
     },
     "execution_count": 3,
     "metadata": {},
     "output_type": "execute_result"
    }
   ],
   "source": [
    "import numpy as np\n",
    "\n",
    "# 数据规范化\n",
    "data = pd.read_excel('/home/jeff/python_data/chapter4/chapter4/demo/data/normalization_data.xls')\n",
    "\n",
    "# 最大-最小规范化\n",
    "(data - data.min()) / (data.max() - data.min())\n",
    "\n",
    "# 正则化\n",
    "(data - data.mean()) / data.std()\n",
    "\n",
    "# 小数定标规范化(不明觉厉)\n",
    "data / 10**np.ceil(np.log10(data.abs().max()))"
   ]
  },
  {
   "cell_type": "code",
   "execution_count": 4,
   "metadata": {
    "collapsed": false
   },
   "outputs": [],
   "source": [
    "# 连续属性离散化\n",
    "\n",
    "import pandas as pd\n",
    "\n",
    "data = pd.read_excel('/home/jeff/python_data/chapter4/chapter4/demo/data/discretization_data.xls')\n",
    "data = data['肝气郁结证型系数'].copy()\n",
    "\n",
    "# 等宽离散化\n",
    "d1 = pd.cut(data, 4, labels=range(4))\n",
    "\n",
    "# 等频率离散化\n",
    "k = 4\n",
    "w = [1.0*i/k for i in range(k+1)]\n",
    "w = data.describe(percentiles = w)[4:4+k+1]\n",
    "d2 = pd.cut(data, w, labels = range(4))"
   ]
  },
  {
   "cell_type": "code",
   "execution_count": 5,
   "metadata": {
    "collapsed": false
   },
   "outputs": [],
   "source": [
    "# 通过k-means聚类进行分类\n",
    "\n",
    "from sklearn.cluster import KMeans\n",
    "\n",
    "kmodel = KMeans(n_clusters = 4, n_jobs = 4) # 建立模型, n_jobs为并行数\n",
    "kmodel.fit(data.reshape((len(data), 1))) # 训练模型\n",
    "c = pd.DataFrame(kmodel.cluster_centers_).sort_values(0) # 输出聚类中心并排序\n",
    "w = c.rolling(window = 2, center = False).mean().iloc[1:] # 把相邻两项中点作为分界点\n",
    "w = [0] + list(w[0]) + [data.max()] # 加上首末节点\n",
    "d3 = pd.cut(data, w, labels = range(4))"
   ]
  },
  {
   "cell_type": "code",
   "execution_count": 6,
   "metadata": {
    "collapsed": false
   },
   "outputs": [
    {
     "name": "stderr",
     "output_type": "stream",
     "text": [
      "/home/jeff/anaconda3/lib/python3.5/site-packages/matplotlib/font_manager.py:1288: UserWarning: findfont: Font family ['sans-serif'] not found. Falling back to Bitstream Vera Sans\n",
      "  (prop.get_family(), self.defaultFamily[fontext]))\n"
     ]
    },
    {
     "data": {
      "image/png": "[encoded data removed]",
      "text/plain": [
       "<matplotlib.figure.Figure at 0x7f2132ad7a58>"
      ]
     },
     "metadata": {},
     "output_type": "display_data"
    },
    {
     "data": {
      "image/png": "[encoded data removed]",
      "text/plain": [
       "<matplotlib.figure.Figure at 0x7f2132ad70f0>"
      ]
     },
     "metadata": {},
     "output_type": "display_data"
    },
    {
     "data": {
      "image/png": "[encoded data removed]",
      "text/plain": [
       "<matplotlib.figure.Figure at 0x7f21234c56d8>"
      ]
     },
     "metadata": {},
     "output_type": "display_data"
    }
   ],
   "source": [
    "# 可视化离散效果\n",
    "\n",
    "def cluster_plot(d, k):\n",
    "    import matplotlib.pyplot as plt\n",
    "    plt.rcParams['font.sans-serif'] = ['SimHei']\n",
    "    plt.rcParams['axes.unicode_minus'] = False\n",
    "    \n",
    "    plt.figure(figsize = (8, 3))\n",
    "    for j in range(k):\n",
    "        plt.plot(data[d==j], [j for i in d[d==j]], 'o')\n",
    "    plt.ylim(-0.5, k-0.5)\n",
    "    return plt\n",
    "\n",
    "cluster_plot(d1, k).show()\n",
    "cluster_plot(d2, k).show()\n",
    "cluster_plot(d3, k).show()"
   ]
  },
  {
   "cell_type": "code",
   "execution_count": 7,
   "metadata": {
    "collapsed": false
   },
   "outputs": [
    {
     "data": {
      "text/html": [
       "<div>\n",
       "<table border=\"1\" class=\"dataframe\">\n",
       "  <thead>\n",
       "    <tr style=\"text-align: right;\">\n",
       "      <th></th>\n",
       "      <th>0</th>\n",
       "      <th>1</th>\n",
       "      <th>2</th>\n",
       "    </tr>\n",
       "  </thead>\n",
       "  <tbody>\n",
       "    <tr>\n",
       "      <th>0</th>\n",
       "      <td>1.050012</td>\n",
       "      <td>-5.517485</td>\n",
       "      <td>-5.914412</td>\n",
       "    </tr>\n",
       "    <tr>\n",
       "      <th>1</th>\n",
       "      <td>-22.997229</td>\n",
       "      <td>-1.975124</td>\n",
       "      <td>-0.209006</td>\n",
       "    </tr>\n",
       "    <tr>\n",
       "      <th>2</th>\n",
       "      <td>-13.897677</td>\n",
       "      <td>3.372639</td>\n",
       "      <td>-0.799927</td>\n",
       "    </tr>\n",
       "    <tr>\n",
       "      <th>3</th>\n",
       "      <td>5.677104</td>\n",
       "      <td>10.923606</td>\n",
       "      <td>11.640817</td>\n",
       "    </tr>\n",
       "    <tr>\n",
       "      <th>4</th>\n",
       "      <td>25.053489</td>\n",
       "      <td>-6.973499</td>\n",
       "      <td>0.857758</td>\n",
       "    </tr>\n",
       "    <tr>\n",
       "      <th>5</th>\n",
       "      <td>-2.812806</td>\n",
       "      <td>-6.078801</td>\n",
       "      <td>-2.652072</td>\n",
       "    </tr>\n",
       "    <tr>\n",
       "      <th>6</th>\n",
       "      <td>14.148987</td>\n",
       "      <td>16.433028</td>\n",
       "      <td>-4.117091</td>\n",
       "    </tr>\n",
       "    <tr>\n",
       "      <th>7</th>\n",
       "      <td>41.831847</td>\n",
       "      <td>-11.329605</td>\n",
       "      <td>3.202778</td>\n",
       "    </tr>\n",
       "    <tr>\n",
       "      <th>8</th>\n",
       "      <td>-1.006256</td>\n",
       "      <td>-2.657807</td>\n",
       "      <td>-0.274015</td>\n",
       "    </tr>\n",
       "    <tr>\n",
       "      <th>9</th>\n",
       "      <td>-21.334646</td>\n",
       "      <td>-2.825551</td>\n",
       "      <td>0.170441</td>\n",
       "    </tr>\n",
       "    <tr>\n",
       "      <th>10</th>\n",
       "      <td>-35.913965</td>\n",
       "      <td>-5.991210</td>\n",
       "      <td>3.786294</td>\n",
       "    </tr>\n",
       "    <tr>\n",
       "      <th>11</th>\n",
       "      <td>3.684030</td>\n",
       "      <td>5.683312</td>\n",
       "      <td>1.426253</td>\n",
       "    </tr>\n",
       "    <tr>\n",
       "      <th>12</th>\n",
       "      <td>6.517108</td>\n",
       "      <td>6.936497</td>\n",
       "      <td>-7.117820</td>\n",
       "    </tr>\n",
       "  </tbody>\n",
       "</table>\n",
       "</div>"
      ],
      "text/plain": [
       "            0          1          2\n",
       "0    1.050012  -5.517485  -5.914412\n",
       "1  -22.997229  -1.975124  -0.209006\n",
       "2  -13.897677   3.372639  -0.799927\n",
       "3    5.677104  10.923606  11.640817\n",
       "4   25.053489  -6.973499   0.857758\n",
       "5   -2.812806  -6.078801  -2.652072\n",
       "6   14.148987  16.433028  -4.117091\n",
       "7   41.831847 -11.329605   3.202778\n",
       "8   -1.006256  -2.657807  -0.274015\n",
       "9  -21.334646  -2.825551   0.170441\n",
       "10 -35.913965  -5.991210   3.786294\n",
       "11   3.684030   5.683312   1.426253\n",
       "12   6.517108   6.936497  -7.117820"
      ]
     },
     "execution_count": 7,
     "metadata": {},
     "output_type": "execute_result"
    }
   ],
   "source": [
    "# 主成分分析\n",
    "\n",
    "#sklearn.decomposition.PCA(n_components = None, copy = True, whiten = False)\n",
    "# 参数： \n",
    "# n_components: 主成分个数\n",
    "# copy: 默认True, False时会在原始数据上操作\n",
    "# whiten: 白化，使每个特征有相同方差\n",
    "\n",
    "import pandas as pd\n",
    "from sklearn.decomposition import PCA\n",
    "\n",
    "data = pd.read_excel('/home/jeff/python_data/chapter4/chapter4/demo/data/principal_component.xls')\n",
    "pca = PCA()\n",
    "pca.fit(data)\n",
    "pca.components_ # 各个特征向量\n",
    "pca.explained_variance_ratio_.cumsum() # 确定使用三个主成分\n",
    "\n",
    "pca = PCA(3)\n",
    "pca.fit(data)\n",
    "low_d = pca.transform(data) # 对数据进行降维\n",
    "pd.DataFrame(low_d) # 得到三个主成分\n",
    "#pca.inverse_transform(low_d) # pca降维的逆运算"
   ]
  }
 ],
 "metadata": {
  "anaconda-cloud": {},
  "kernelspec": {
   "display_name": "Python [default]",
   "language": "python",
   "name": "python3"
  },
  "language_info": {
   "codemirror_mode": {
    "name": "ipython",
    "version": 3
   },
   "file_extension": ".py",
   "mimetype": "text/x-python",
   "name": "python",
   "nbconvert_exporter": "python",
   "pygments_lexer": "ipython3",
   "version": "3.5.2"
  }
 },
 "nbformat": 4,
 "nbformat_minor": 1
}
