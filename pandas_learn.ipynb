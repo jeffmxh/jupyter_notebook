{
 "cells": [
  {
   "cell_type": "code",
   "execution_count": 2,
   "metadata": {
    "collapsed": false
   },
   "outputs": [
    {
     "name": "stdout",
     "output_type": "stream",
     "text": [
      "0    1\n",
      "1    2\n",
      "2    3\n",
      "3    4\n",
      "dtype: int64\n",
      "0    1\n",
      "1    2\n",
      "dtype: int64\n",
      "0    1\n",
      "1    2\n",
      "2    3\n",
      "dtype: int64\n"
     ]
    }
   ],
   "source": [
    "import pandas as pd\n",
    "import numpy as np\n",
    "from pandas import Series, DataFrame\n",
    "\n",
    "ser1 = Series([1,2,3,4])\n",
    "print(ser1)\n",
    "print(ser1[0:2])\n",
    "print(ser1[[0,1,2]])"
   ]
  },
  {
   "cell_type": "code",
   "execution_count": 3,
   "metadata": {
    "collapsed": false
   },
   "outputs": [
    {
     "name": "stdout",
     "output_type": "stream",
     "text": [
      "matplotlib    3\n",
      "numpy         4\n",
      "pandas        2\n",
      "python        1\n",
      "scipy         5\n",
      "dtype: int64\n",
      "dict_keys(['numpy', 'pandas', 'matplotlib', 'python', 'scipy'])\n",
      "dict_items([('numpy', 4), ('pandas', 2), ('matplotlib', 3), ('python', 1), ('scipy', 5)])\n",
      "dict_values([4, 2, 3, 1, 5])\n"
     ]
    },
    {
     "data": {
      "text/plain": [
       "True"
      ]
     },
     "execution_count": 3,
     "metadata": {},
     "output_type": "execute_result"
    }
   ],
   "source": [
    "sdata = {'python' : 1,  'pandas' : 2,  'matplotlib' : 3,  'numpy' : 4,  'scipy' : 5}\n",
    "ser2 = Series(sdata)\n",
    "print(ser2)\n",
    "print(sdata.keys())\n",
    "print(sdata.items())\n",
    "print(sdata.values())\n",
    "'python' in sdata.keys()"
   ]
  },
  {
   "cell_type": "code",
   "execution_count": 4,
   "metadata": {
    "collapsed": false
   },
   "outputs": [
    {
     "name": "stdout",
     "output_type": "stream",
     "text": [
      "apple      NaN\n",
      "python     1.0\n",
      "numpy      4.0\n",
      "jupyter    NaN\n",
      "scipy      5.0\n",
      "dtype: float64\n",
      "index: Index(['apple', 'python', 'numpy', 'jupyter', 'scipy'], dtype='object')\n",
      "value: [ nan   1.   4.  nan   5.]\n",
      "apple     NaN\n",
      "python    1.0\n",
      "dtype: float64\n",
      "apple     NaN\n",
      "python    1.0\n",
      "numpy     4.0\n",
      "dtype: float64\n",
      "apple    NaN\n",
      "numpy    4.0\n",
      "dtype: float64\n",
      "apple      NaN\n",
      "python     1.0\n",
      "numpy      4.0\n",
      "jupyter    NaN\n",
      "scipy      5.0\n",
      "Name: try, dtype: float64\n"
     ]
    }
   ],
   "source": [
    "ser3 = Series(sdata, index = ['apple', 'python', 'numpy', 'jupyter', 'scipy'])\n",
    "print(ser3)\n",
    "print('index:', ser3.index)\n",
    "print('value:', ser3.values)\n",
    "print(ser3[0:2])\n",
    "print(ser3['apple':'numpy'])\n",
    "print(ser3[['apple', 'numpy']])\n",
    "ser3.name = 'try'\n",
    "print(ser3)"
   ]
  },
  {
   "cell_type": "code",
   "execution_count": 9,
   "metadata": {
    "collapsed": false
   },
   "outputs": [
    {
     "data": {
      "text/plain": [
       "<bound method NDFrame.describe of    id  num    packages\n",
       "0   1  1.2      pandas\n",
       "1   2  3.4       numpy\n",
       "2   3  4.0  matplotlib\n",
       "3   4  5.6      pandas\n",
       "4   5  7.0      pandas>"
      ]
     },
     "execution_count": 9,
     "metadata": {},
     "output_type": "execute_result"
    }
   ],
   "source": [
    "data = {'packages':['pandas', 'numpy', 'matplotlib', 'pandas', 'pandas'],\n",
    "        'id':[1, 2, 3, 4, 5],\n",
    "        'num':[1.2, 3.4, 4, 5.6, 7.0]}\n",
    "frame = DataFrame(data)\n",
    "#DataFrame(data, columns=['id', 'num', 'packages'], index = ['A', 'B', 'C', 'D', 'E'])\n",
    "#frame.sort_values('num', ascending = False)\n",
    "#print(frame)\n",
    "#print(frame[['id','num']])\n",
    "#print(frame.loc[0:3,:])\n",
    "#print(frame.loc[frame.id<4,:])\n",
    "#print(type(frame.id))\n",
    "#print(type(frame.loc[:,'id']))\n",
    "frame.describe"
   ]
  },
  {
   "cell_type": "code",
   "execution_count": 22,
   "metadata": {
    "collapsed": false
   },
   "outputs": [
    {
     "name": "stdout",
     "output_type": "stream",
     "text": [
      "      0   1     2   3\n",
      "0   0.0   1   NaN   3\n",
      "1   4.0   5   6.0   7\n",
      "2   NaN   9  10.0  11\n",
      "3  12.0  13   NaN  15\n",
      "     0  1    2  3\n",
      "1  4.0  5  6.0  7\n",
      "      0   1     2   3\n",
      "0   0.0   1   NaN   3\n",
      "1   4.0   5   6.0   7\n",
      "2   NaN   9  10.0  11\n",
      "3  12.0  13   NaN  15\n",
      "    1   3\n",
      "0   1   3\n",
      "1   5   7\n",
      "2   9  11\n",
      "3  13  15\n",
      "      0   1     2   3\n",
      "0   0.0   1   0.0   3\n",
      "1   4.0   5   6.0   7\n",
      "2   0.0   9  10.0  11\n",
      "3  12.0  13   0.0  15\n",
      "      0   1     2   3\n",
      "0   0.0   1  10.0   3\n",
      "1   4.0   5   6.0   7\n",
      "2   1.0   9  10.0  11\n",
      "3  12.0  13  10.0  15\n",
      "      0   1     2   3\n",
      "0   0.0   1   6.0   3\n",
      "1   4.0   5   6.0   7\n",
      "2  12.0   9  10.0  11\n",
      "3  12.0  13   NaN  15\n",
      "      0   1     2   3\n",
      "0   0.0   1   NaN   3\n",
      "1   4.0   5   6.0   7\n",
      "2   4.0   9  10.0  11\n",
      "3  12.0  13  10.0  15\n"
     ]
    }
   ],
   "source": [
    "data = DataFrame(np.arange(16).reshape(4,4))\n",
    "data[(data/2-1)%3==0] = np.nan\n",
    "print(data)\n",
    "\n",
    "#丢弃na\n",
    "print(data.dropna())\n",
    "print(data.dropna(how = 'all'))\n",
    "print(data.dropna(axis = 1))\n",
    "\n",
    "#填充na\n",
    "print(data.fillna(0))\n",
    "print(data.fillna({0:1, 2:10}))\n",
    "print(data.fillna(method = 'bfill', limit = 1))\n",
    "print(data.fillna(method = 'ffill', limit = 1))"
   ]
  },
  {
   "cell_type": "code",
   "execution_count": 51,
   "metadata": {
    "collapsed": false
   },
   "outputs": [
    {
     "name": "stdout",
     "output_type": "stream",
     "text": [
      "    pandas           numpy      \n",
      "    Series DataFrame array array\n",
      "a 1      0         1     2     3\n",
      "  2      4         5     6     7\n",
      "b 1      8         9    10    11\n",
      "  2     12        13    14    15\n",
      "     array  array\n",
      "a 1      2      3\n",
      "  2      6      7\n",
      "b 1     10     11\n",
      "  2     14     15\n",
      "     array  array\n",
      "a 1      2      3\n",
      "  2      6      7\n",
      "b 1     10     11\n",
      "  2     14     15\n",
      "  pandas                   numpy            \n",
      "  Series     DataFrame     array            \n",
      "       1   2         1   2     1   2   1   2\n",
      "a      0   4         1   5     2   6   3   7\n",
      "b      8  12         9  13    10  14  11  15\n"
     ]
    }
   ],
   "source": [
    "frame = DataFrame(np.arange(16).reshape(4,4), \n",
    "                 index = [['a', 'a', 'b', 'b'], [1, 2, 1, 2]],\n",
    "                 columns = [['pandas', 'pandas', 'numpy', 'numpy'],\n",
    "                           ['Series', 'DataFrame', 'array', 'array']])\n",
    "print(frame)\n",
    "print(frame['numpy'])\n",
    "print(frame.loc[:,'numpy'].loc[:,'array'])\n",
    "print(frame.unstack()) #关于索引展开"
   ]
  },
  {
   "cell_type": "code",
   "execution_count": 11,
   "metadata": {
    "collapsed": false
   },
   "outputs": [
    {
     "name": "stdout",
     "output_type": "stream",
     "text": [
      "  name  (0, 3]  (3, 6]  (6, 10]\n",
      "0    a     0.0     0.0      0.0\n",
      "1    b     1.0     0.0      0.0\n",
      "2    c     1.0     0.0      0.0\n",
      "3    d     1.0     0.0      0.0\n",
      "4    e     0.0     1.0      0.0\n",
      "5    f     0.0     1.0      0.0\n",
      "6    g     0.0     1.0      0.0\n",
      "7    h     0.0     0.0      1.0\n",
      "8    i     0.0     0.0      1.0\n",
      "9    j     0.0     0.0      1.0\n"
     ]
    }
   ],
   "source": [
    "df = DataFrame({'key':['b', 'b', 'a', 'c', 'a', 'b'], 'data1':range(6)})\n",
    "dummies = pd.get_dummies(df['key'], prefix = 'key')\n",
    "df_with_dummy = df[['data1']].join(dummies)\n",
    "#print(df_with_dummy)\n",
    "\n",
    "# 结合使用dummy和cut\n",
    "df = DataFrame({'name':['a', 'b', 'c', 'd', 'e', 'f', 'g', 'h', 'i', 'j'], 'score':np.arange(10)})\n",
    "#print(df)\n",
    "dummies = pd.get_dummies(pd.cut(df['score'], [0, 3, 6, 10]))\n",
    "df_with_dummy = df[['name']].join(dummies)\n",
    "print(df_with_dummy)"
   ]
  }
 ],
 "metadata": {
  "anaconda-cloud": {},
  "kernelspec": {
   "display_name": "Python [default]",
   "language": "python",
   "name": "python3"
  },
  "language_info": {
   "codemirror_mode": {
    "name": "ipython",
    "version": 3
   },
   "file_extension": ".py",
   "mimetype": "text/x-python",
   "name": "python",
   "nbconvert_exporter": "python",
   "pygments_lexer": "ipython3",
   "version": "3.5.2"
  }
 },
 "nbformat": 4,
 "nbformat_minor": 1
}
