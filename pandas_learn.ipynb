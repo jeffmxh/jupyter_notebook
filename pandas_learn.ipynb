{
 "cells": [
  {
   "cell_type": "code",
   "execution_count": 1,
   "metadata": {
    "collapsed": false
   },
   "outputs": [
    {
     "name": "stdout",
     "output_type": "stream",
     "text": [
      "0    1\n",
      "1    2\n",
      "2    3\n",
      "3    4\n",
      "dtype: int64\n",
      "0    1\n",
      "1    2\n",
      "dtype: int64\n",
      "0    1\n",
      "1    2\n",
      "2    3\n",
      "dtype: int64\n"
     ]
    }
   ],
   "source": [
    "import pandas as pd\n",
    "import numpy as np\n",
    "from pandas import Series, DataFrame\n",
    "\n",
    "ser1 = Series([1,2,3,4])\n",
    "print(ser1)\n",
    "print(ser1[0:2])\n",
    "print(ser1[[0,1,2]])"
   ]
  },
  {
   "cell_type": "code",
   "execution_count": 2,
   "metadata": {
    "collapsed": false
   },
   "outputs": [
    {
     "name": "stdout",
     "output_type": "stream",
     "text": [
      "matplotlib    3\n",
      "numpy         4\n",
      "pandas        2\n",
      "python        1\n",
      "scipy         5\n",
      "dtype: int64\n",
      "dict_keys(['scipy', 'pandas', 'matplotlib', 'python', 'numpy'])\n",
      "dict_items([('scipy', 5), ('pandas', 2), ('matplotlib', 3), ('python', 1), ('numpy', 4)])\n",
      "dict_values([5, 2, 3, 1, 4])\n"
     ]
    },
    {
     "data": {
      "text/plain": [
       "True"
      ]
     },
     "execution_count": 2,
     "metadata": {},
     "output_type": "execute_result"
    }
   ],
   "source": [
    "sdata = {'python' : 1,  'pandas' : 2,  'matplotlib' : 3,  'numpy' : 4,  'scipy' : 5}\n",
    "ser2 = Series(sdata)\n",
    "print(ser2)\n",
    "print(sdata.keys())\n",
    "print(sdata.items())\n",
    "print(sdata.values())\n",
    "'python' in sdata.keys()"
   ]
  },
  {
   "cell_type": "code",
   "execution_count": 3,
   "metadata": {
    "collapsed": false
   },
   "outputs": [
    {
     "name": "stdout",
     "output_type": "stream",
     "text": [
      "apple      NaN\n",
      "python     1.0\n",
      "numpy      4.0\n",
      "jupyter    NaN\n",
      "scipy      5.0\n",
      "dtype: float64\n",
      "index: Index(['apple', 'python', 'numpy', 'jupyter', 'scipy'], dtype='object')\n",
      "value: [ nan   1.   4.  nan   5.]\n",
      "apple     NaN\n",
      "python    1.0\n",
      "dtype: float64\n",
      "apple     NaN\n",
      "python    1.0\n",
      "numpy     4.0\n",
      "dtype: float64\n",
      "apple    NaN\n",
      "numpy    4.0\n",
      "dtype: float64\n",
      "apple      NaN\n",
      "python     1.0\n",
      "numpy      4.0\n",
      "jupyter    NaN\n",
      "scipy      5.0\n",
      "Name: try, dtype: float64\n"
     ]
    }
   ],
   "source": [
    "ser3 = Series(sdata, index = ['apple', 'python', 'numpy', 'jupyter', 'scipy'])\n",
    "print(ser3)\n",
    "print('index:', ser3.index)\n",
    "print('value:', ser3.values)\n",
    "print(ser3[0:2])\n",
    "print(ser3['apple':'numpy'])\n",
    "print(ser3[['apple', 'numpy']])\n",
    "ser3.name = 'try'\n",
    "print(ser3)"
   ]
  },
  {
   "cell_type": "code",
   "execution_count": 4,
   "metadata": {
    "collapsed": false
   },
   "outputs": [
    {
     "data": {
      "text/plain": [
       "<bound method NDFrame.describe of    id  num    packages\n",
       "0   1  1.2      pandas\n",
       "1   2  3.4       numpy\n",
       "2   3  4.0  matplotlib\n",
       "3   4  5.6      pandas\n",
       "4   5  7.0      pandas>"
      ]
     },
     "execution_count": 4,
     "metadata": {},
     "output_type": "execute_result"
    }
   ],
   "source": [
    "data = {'packages':['pandas', 'numpy', 'matplotlib', 'pandas', 'pandas'],\n",
    "        'id':[1, 2, 3, 4, 5],\n",
    "        'num':[1.2, 3.4, 4, 5.6, 7.0]}\n",
    "frame = DataFrame(data)\n",
    "#DataFrame(data, columns=['id', 'num', 'packages'], index = ['A', 'B', 'C', 'D', 'E'])\n",
    "#frame.sort_values('num', ascending = False)\n",
    "#print(frame)\n",
    "#print(frame[['id','num']])\n",
    "#print(frame.loc[0:3,:])\n",
    "#print(frame.loc[frame.id<4,:])\n",
    "#print(type(frame.id))\n",
    "#print(type(frame.loc[:,'id']))\n",
    "frame.describe"
   ]
  },
  {
   "cell_type": "code",
   "execution_count": 5,
   "metadata": {
    "collapsed": false
   },
   "outputs": [
    {
     "name": "stdout",
     "output_type": "stream",
     "text": [
      "      0   1     2   3\n",
      "0   0.0   1   NaN   3\n",
      "1   4.0   5   6.0   7\n",
      "2   NaN   9  10.0  11\n",
      "3  12.0  13   NaN  15\n",
      "     0  1    2  3\n",
      "1  4.0  5  6.0  7\n",
      "      0   1     2   3\n",
      "0   0.0   1   NaN   3\n",
      "1   4.0   5   6.0   7\n",
      "2   NaN   9  10.0  11\n",
      "3  12.0  13   NaN  15\n",
      "    1   3\n",
      "0   1   3\n",
      "1   5   7\n",
      "2   9  11\n",
      "3  13  15\n",
      "      0   1     2   3\n",
      "0   0.0   1   0.0   3\n",
      "1   4.0   5   6.0   7\n",
      "2   0.0   9  10.0  11\n",
      "3  12.0  13   0.0  15\n",
      "      0   1     2   3\n",
      "0   0.0   1  10.0   3\n",
      "1   4.0   5   6.0   7\n",
      "2   1.0   9  10.0  11\n",
      "3  12.0  13  10.0  15\n",
      "      0   1     2   3\n",
      "0   0.0   1   6.0   3\n",
      "1   4.0   5   6.0   7\n",
      "2  12.0   9  10.0  11\n",
      "3  12.0  13   NaN  15\n",
      "      0   1     2   3\n",
      "0   0.0   1   NaN   3\n",
      "1   4.0   5   6.0   7\n",
      "2   4.0   9  10.0  11\n",
      "3  12.0  13  10.0  15\n"
     ]
    }
   ],
   "source": [
    "data = DataFrame(np.arange(16).reshape(4,4))\n",
    "data[(data/2-1)%3==0] = np.nan\n",
    "print(data)\n",
    "\n",
    "#丢弃na\n",
    "print(data.dropna())\n",
    "print(data.dropna(how = 'all'))\n",
    "print(data.dropna(axis = 1))\n",
    "\n",
    "#填充na\n",
    "print(data.fillna(0))\n",
    "print(data.fillna({0:1, 2:10}))\n",
    "print(data.fillna(method = 'bfill', limit = 1))\n",
    "print(data.fillna(method = 'ffill', limit = 1))"
   ]
  },
  {
   "cell_type": "code",
   "execution_count": 6,
   "metadata": {
    "collapsed": false
   },
   "outputs": [
    {
     "name": "stdout",
     "output_type": "stream",
     "text": [
      "    pandas           numpy      \n",
      "    Series DataFrame array array\n",
      "a 1      0         1     2     3\n",
      "  2      4         5     6     7\n",
      "b 1      8         9    10    11\n",
      "  2     12        13    14    15\n",
      "     array  array\n",
      "a 1      2      3\n",
      "  2      6      7\n",
      "b 1     10     11\n",
      "  2     14     15\n",
      "     array  array\n",
      "a 1      2      3\n",
      "  2      6      7\n",
      "b 1     10     11\n",
      "  2     14     15\n",
      "  pandas                   numpy            \n",
      "  Series     DataFrame     array            \n",
      "       1   2         1   2     1   2   1   2\n",
      "a      0   4         1   5     2   6   3   7\n",
      "b      8  12         9  13    10  14  11  15\n"
     ]
    }
   ],
   "source": [
    "frame = DataFrame(np.arange(16).reshape(4,4), \n",
    "                 index = [['a', 'a', 'b', 'b'], [1, 2, 1, 2]],\n",
    "                 columns = [['pandas', 'pandas', 'numpy', 'numpy'],\n",
    "                           ['Series', 'DataFrame', 'array', 'array']])\n",
    "print(frame)\n",
    "print(frame['numpy'])\n",
    "print(frame.loc[:,'numpy'].loc[:,'array'])\n",
    "print(frame.unstack()) #关于索引展开"
   ]
  },
  {
   "cell_type": "code",
   "execution_count": 7,
   "metadata": {
    "collapsed": false
   },
   "outputs": [
    {
     "name": "stdout",
     "output_type": "stream",
     "text": [
      "  name  (0, 3]  (3, 6]  (6, 10]\n",
      "0    a     0.0     0.0      0.0\n",
      "1    b     1.0     0.0      0.0\n",
      "2    c     1.0     0.0      0.0\n",
      "3    d     1.0     0.0      0.0\n",
      "4    e     0.0     1.0      0.0\n",
      "5    f     0.0     1.0      0.0\n",
      "6    g     0.0     1.0      0.0\n",
      "7    h     0.0     0.0      1.0\n",
      "8    i     0.0     0.0      1.0\n",
      "9    j     0.0     0.0      1.0\n"
     ]
    }
   ],
   "source": [
    "df = DataFrame({'key':['b', 'b', 'a', 'c', 'a', 'b'], 'data1':range(6)})\n",
    "dummies = pd.get_dummies(df['key'], prefix = 'key')\n",
    "df_with_dummy = df[['data1']].join(dummies)\n",
    "#print(df_with_dummy)\n",
    "\n",
    "# 结合使用dummy和cut\n",
    "df = DataFrame({'name':['a', 'b', 'c', 'd', 'e', 'f', 'g', 'h', 'i', 'j'], 'score':np.arange(10)})\n",
    "#print(df)\n",
    "dummies = pd.get_dummies(pd.cut(df['score'], [0, 3, 6, 10]))\n",
    "df_with_dummy = df[['name']].join(dummies)\n",
    "print(df_with_dummy)"
   ]
  },
  {
   "cell_type": "code",
   "execution_count": 8,
   "metadata": {
    "collapsed": false
   },
   "outputs": [
    {
     "name": "stdout",
     "output_type": "stream",
     "text": [
      "      data1     data2    key1 key2\n",
      "0  0.521389 -0.864494  [a, b]  one\n",
      "1  1.916792 -0.498713       a  two\n",
      "2 -3.459858  0.361176       b  one\n",
      "3  0.251471  2.285635       b  two\n",
      "4 -2.003386 -0.072662       a  one\n"
     ]
    }
   ],
   "source": [
    "# 数据框一个单元格放置列表\n",
    "\n",
    "df = DataFrame({'key1':['a','a','b','b','a'],\n",
    "                'key2':['one','two','one','two','one'],\n",
    "                'data1':np.random.randn(5),\n",
    "                'data2':np.random.randn(5)})\n",
    "df.set_value(0, 'key1', ['a', 'b'])\n",
    "print(df)"
   ]
  },
  {
   "cell_type": "code",
   "execution_count": 19,
   "metadata": {
    "collapsed": false
   },
   "outputs": [
    {
     "data": {
      "text/html": [
       "<div>\n",
       "<table border=\"1\" class=\"dataframe\">\n",
       "  <thead>\n",
       "    <tr style=\"text-align: right;\">\n",
       "      <th></th>\n",
       "      <th></th>\n",
       "      <th>data1</th>\n",
       "    </tr>\n",
       "    <tr>\n",
       "      <th>key1</th>\n",
       "      <th>key2</th>\n",
       "      <th></th>\n",
       "    </tr>\n",
       "  </thead>\n",
       "  <tbody>\n",
       "    <tr>\n",
       "      <th rowspan=\"2\" valign=\"top\">a</th>\n",
       "      <th>one</th>\n",
       "      <td>2</td>\n",
       "    </tr>\n",
       "    <tr>\n",
       "      <th>two</th>\n",
       "      <td>1</td>\n",
       "    </tr>\n",
       "    <tr>\n",
       "      <th rowspan=\"2\" valign=\"top\">b</th>\n",
       "      <th>one</th>\n",
       "      <td>1</td>\n",
       "    </tr>\n",
       "    <tr>\n",
       "      <th>two</th>\n",
       "      <td>1</td>\n",
       "    </tr>\n",
       "  </tbody>\n",
       "</table>\n",
       "</div>"
      ],
      "text/plain": [
       "           data1\n",
       "key1 key2       \n",
       "a    one       2\n",
       "     two       1\n",
       "b    one       1\n",
       "     two       1"
      ]
     },
     "execution_count": 19,
     "metadata": {},
     "output_type": "execute_result"
    }
   ],
   "source": [
    "# groupby对数据进行分组\n",
    "\n",
    "df = DataFrame({'key1':['a','a','b','b','a'],\n",
    "                'key2':['one','two','one','two','one'],\n",
    "                'data1':np.random.randn(5),\n",
    "                'data2':np.random.randn(5)})\n",
    "\n",
    "df['data1'].groupby(df['key1']).mean()\n",
    "df['data1'].groupby([df['key1'], df['key2']]).min()\n",
    "\n",
    "# 语法糖\n",
    "\n",
    "df.groupby('key1')[['data1']].max()\n",
    "df.groupby(['key1', 'key2'])[['data1']].count()\n",
    "\n",
    "# 函数： min, max, sum, mean, count, size"
   ]
  },
  {
   "cell_type": "code",
   "execution_count": 24,
   "metadata": {
    "collapsed": false
   },
   "outputs": [
    {
     "name": "stdout",
     "output_type": "stream",
     "text": [
      "a\n",
      "      data1     data2 key1 key2\n",
      "0  0.016053 -0.176317    a  one\n",
      "1 -1.449315 -1.251556    a  two\n",
      "4  0.698527 -1.089998    a  one\n",
      "b\n",
      "      data1     data2 key1 key2\n",
      "2 -0.268941 -1.029171    b  one\n",
      "3 -0.131843 -0.574211    b  two\n",
      "a one\n",
      "      data1     data2 key1 key2\n",
      "0  0.016053 -0.176317    a  one\n",
      "4  0.698527 -1.089998    a  one\n",
      "a two\n",
      "      data1     data2 key1 key2\n",
      "1 -1.449315 -1.251556    a  two\n",
      "b one\n",
      "      data1     data2 key1 key2\n",
      "2 -0.268941 -1.029171    b  one\n",
      "b two\n",
      "      data1     data2 key1 key2\n",
      "3 -0.131843 -0.574211    b  two\n"
     ]
    }
   ],
   "source": [
    "df = DataFrame({'key1':['a','a','b','b','a'],\n",
    "                'key2':['one','two','one','two','one'],\n",
    "                'data1':np.random.randn(5),\n",
    "                'data2':np.random.randn(5)})\n",
    "\n",
    "for name,group in df.groupby('key1'):\n",
    "    print(name)\n",
    "    print(group)\n",
    "    \n",
    "for (key1, key2),group in df.groupby(['key1', 'key2']):\n",
    "    print(key1, key2)\n",
    "    print(group)"
   ]
  },
  {
   "cell_type": "code",
   "execution_count": 31,
   "metadata": {
    "collapsed": false
   },
   "outputs": [
    {
     "data": {
      "text/html": [
       "<div>\n",
       "<table border=\"1\" class=\"dataframe\">\n",
       "  <thead>\n",
       "    <tr style=\"text-align: right;\">\n",
       "      <th></th>\n",
       "      <th></th>\n",
       "      <th>a</th>\n",
       "      <th>b</th>\n",
       "      <th>c</th>\n",
       "      <th>d</th>\n",
       "      <th>e</th>\n",
       "    </tr>\n",
       "  </thead>\n",
       "  <tbody>\n",
       "    <tr>\n",
       "      <th rowspan=\"2\" valign=\"top\">3</th>\n",
       "      <th>one</th>\n",
       "      <td>-0.097631</td>\n",
       "      <td>-0.003656</td>\n",
       "      <td>-0.217957</td>\n",
       "      <td>2.411208</td>\n",
       "      <td>-2.155178</td>\n",
       "    </tr>\n",
       "    <tr>\n",
       "      <th>two</th>\n",
       "      <td>-1.295646</td>\n",
       "      <td>-0.462536</td>\n",
       "      <td>-1.603021</td>\n",
       "      <td>1.041556</td>\n",
       "      <td>0.256788</td>\n",
       "    </tr>\n",
       "    <tr>\n",
       "      <th>5</th>\n",
       "      <th>one</th>\n",
       "      <td>-0.748078</td>\n",
       "      <td>1.125218</td>\n",
       "      <td>-1.040618</td>\n",
       "      <td>-0.818159</td>\n",
       "      <td>-1.483245</td>\n",
       "    </tr>\n",
       "    <tr>\n",
       "      <th>6</th>\n",
       "      <th>two</th>\n",
       "      <td>-1.179993</td>\n",
       "      <td>1.292286</td>\n",
       "      <td>-0.648594</td>\n",
       "      <td>0.468255</td>\n",
       "      <td>0.010092</td>\n",
       "    </tr>\n",
       "  </tbody>\n",
       "</table>\n",
       "</div>"
      ],
      "text/plain": [
       "              a         b         c         d         e\n",
       "3 one -0.097631 -0.003656 -0.217957  2.411208 -2.155178\n",
       "  two -1.295646 -0.462536 -1.603021  1.041556  0.256788\n",
       "5 one -0.748078  1.125218 -1.040618 -0.818159 -1.483245\n",
       "6 two -1.179993  1.292286 -0.648594  0.468255  0.010092"
      ]
     },
     "execution_count": 31,
     "metadata": {},
     "output_type": "execute_result"
    }
   ],
   "source": [
    "# 对列进行分组\n",
    "\n",
    "people = DataFrame(np.random.randn(5,5),\n",
    "                   columns = ['a','b','c','d','e'],\n",
    "                   index = ['Joe','Steve','Wes','Jim','Travis'])\n",
    "\n",
    "people.loc[2:3,['b','c']] = np.nan\n",
    "#print(people)\n",
    "mapping = {'a':'red','b':'red','c':'blue',\n",
    "           'd':'blue','e':'red','f':'orange'}\n",
    "people.groupby(mapping, axis=1).sum()\n",
    "people.groupby(len).sum()\n",
    "\n",
    "key_list = ['one','one','one','two','two']\n",
    "people.groupby([len, key_list]).sum()"
   ]
  },
  {
   "cell_type": "code",
   "execution_count": 43,
   "metadata": {
    "collapsed": false
   },
   "outputs": [
    {
     "name": "stdout",
     "output_type": "stream",
     "text": [
      "city         US                            CN          \n",
      "tenor         1         3         5         1         3\n",
      "0     -0.369872  0.353585 -1.461543  1.389780 -0.350232\n",
      "1     -2.174253 -1.505016  0.552344 -1.752237 -0.179568\n",
      "2      1.080943 -0.275503 -0.375357  0.727896 -0.027099\n",
      "3      0.453007  0.530872 -0.638098  0.680160  0.870310\n"
     ]
    },
    {
     "data": {
      "text/html": [
       "<div>\n",
       "<table border=\"1\" class=\"dataframe\">\n",
       "  <thead>\n",
       "    <tr style=\"text-align: right;\">\n",
       "      <th>city</th>\n",
       "      <th>CN</th>\n",
       "      <th>US</th>\n",
       "    </tr>\n",
       "  </thead>\n",
       "  <tbody>\n",
       "    <tr>\n",
       "      <th>0</th>\n",
       "      <td>2</td>\n",
       "      <td>3</td>\n",
       "    </tr>\n",
       "    <tr>\n",
       "      <th>1</th>\n",
       "      <td>2</td>\n",
       "      <td>3</td>\n",
       "    </tr>\n",
       "    <tr>\n",
       "      <th>2</th>\n",
       "      <td>2</td>\n",
       "      <td>3</td>\n",
       "    </tr>\n",
       "    <tr>\n",
       "      <th>3</th>\n",
       "      <td>2</td>\n",
       "      <td>3</td>\n",
       "    </tr>\n",
       "  </tbody>\n",
       "</table>\n",
       "</div>"
      ],
      "text/plain": [
       "city  CN  US\n",
       "0      2   3\n",
       "1      2   3\n",
       "2      2   3\n",
       "3      2   3"
      ]
     },
     "execution_count": 43,
     "metadata": {},
     "output_type": "execute_result"
    }
   ],
   "source": [
    "# 分层索引的聚合\n",
    "\n",
    "# 方法1：\n",
    "\n",
    "columns = pd.MultiIndex.from_arrays([['US', 'US', 'US', 'CN', 'CN'],[1,3,5,1,3]],names=['cty','tenor'])\n",
    "hier_df = DataFrame(np.random.randn(4,5), columns = columns)\n",
    "\n",
    "# 方法2：\n",
    "\n",
    "hier_df = DataFrame(np.random.randn(4,5), columns = [['US','US','US','CN','CN'],[1,3,5,1,3]])\n",
    "hier_df.columns.names = ['city', 'tenor']\n",
    "#hier_df.index.names = ['name1', 'name2]\n",
    "print(hier_df)\n",
    "\n",
    "hier_df.groupby(level='city',axis=1).count()"
   ]
  }
 ],
 "metadata": {
  "anaconda-cloud": {},
  "kernelspec": {
   "display_name": "Python [default]",
   "language": "python",
   "name": "python3"
  },
  "language_info": {
   "codemirror_mode": {
    "name": "ipython",
    "version": 3
   },
   "file_extension": ".py",
   "mimetype": "text/x-python",
   "name": "python",
   "nbconvert_exporter": "python",
   "pygments_lexer": "ipython3",
   "version": "3.5.2"
  }
 },
 "nbformat": 4,
 "nbformat_minor": 1
}
