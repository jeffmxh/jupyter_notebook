{
 "cells": [
  {
   "cell_type": "code",
   "execution_count": 2,
   "metadata": {
    "collapsed": true
   },
   "outputs": [],
   "source": [
    "# -*- coding: utf-8 -*-\n",
    "\n",
    "import threading\n",
    "import requests\n",
    "import re\n",
    "import os\n",
    "import time\n",
    "\n",
    "from bs4 import BeautifulSoup\n",
    "from selenium import webdriver\n",
    "\n",
    "'''\n",
    "获取html原网页文本\n",
    "参数：url，即要打开的网页链接\n",
    "返回值：为html网页文本\n",
    "'''\n",
    "class spider:\n",
    "    def __init__(self):\n",
    "        self.browser = webdriver.PhantomJS()\n",
    "        self.headers = {'user-agent': 'Mozilla/5.0 (X11; Ubuntu; Linux x86_64; rv:54.0) Gecko/20100101 Firefox/54.0'}\n",
    "        \n",
    "    def get_phantom_soup(self, url):\n",
    "        self.browser.get(url)\n",
    "        soup = BeautifulSoup(browser.page_source, 'html.parser')\n",
    "        return soup\n",
    "\n",
    "    def get_url_soup(self, url, encoding='gbk'):\n",
    "        response = requests.get(url, headers=self.headers)\n",
    "        response.raise_for_status()\n",
    "    #         r.encoding = 'utf-8'\n",
    "        response.encoding = encoding\n",
    "        soup = BeautifulSoup(response.text, 'lxml')\n",
    "        return soup\n",
    "    \n",
    "    def get_html_text(self, url, encoding='gbk'):\n",
    "        try:\n",
    "            r = requests.get(url, timeout = 30)\n",
    "            r.raise_for_status()\n",
    "    #         r.encoding = 'utf-8'\n",
    "            return r.text\n",
    "        except:\n",
    "            return \"\" \n",
    "\n",
    "    def parse_table(self, text):\n",
    "        data = []\n",
    "        table = text.find('table')\n",
    "        table_body = table.find('tbody')\n",
    "\n",
    "        rows = table_body.find_all('tr')\n",
    "        for row in rows:\n",
    "            cols = row.find_all('td')\n",
    "            cols = [ele.text.strip() for ele in cols]\n",
    "            data.append([ele for ele in cols if ele])\n",
    "        return data\n",
    "\n",
    "    def text_trim(self, text):\n",
    "        pattern = re.compile('，|<.+?>|\\\\u3000')\n",
    "        text = pattern.sub(',', str(text))\n",
    "        text = re.sub('，+|,+', ',', text)\n",
    "        text = re.sub('^,|,$', '', text)\n",
    "        return text"
   ]
  }
 ],
 "metadata": {
  "anaconda-cloud": {},
  "kernelspec": {
   "display_name": "Python [conda root]",
   "language": "python",
   "name": "conda-root-py"
  },
  "language_info": {
   "codemirror_mode": {
    "name": "ipython",
    "version": 3
   },
   "file_extension": ".py",
   "mimetype": "text/x-python",
   "name": "python",
   "nbconvert_exporter": "python",
   "pygments_lexer": "ipython3",
   "version": "3.5.2"
  }
 },
 "nbformat": 4,
 "nbformat_minor": 1
}
