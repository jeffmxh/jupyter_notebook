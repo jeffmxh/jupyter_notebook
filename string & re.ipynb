{
 "cells": [
  {
   "cell_type": "code",
   "execution_count": 1,
   "metadata": {
    "collapsed": false
   },
   "outputs": [
    {
     "name": "stdout",
     "output_type": "stream",
     "text": [
      "['a', 'b', 'gutto']\n",
      "a::b::gutto\n",
      "True\n",
      "1\n"
     ]
    },
    {
     "data": {
      "text/plain": [
       "'A,B, GUTTO'"
      ]
     },
     "execution_count": 1,
     "metadata": {},
     "output_type": "execute_result"
    }
   ],
   "source": [
    "# 字符串处理\n",
    "\n",
    "val = 'a,b, gutto'\n",
    "pieces = [x.strip() for x in val.split(',')]\n",
    "print(pieces)\n",
    "\n",
    "# 插入分隔符\n",
    "print('::'.join(pieces))\n",
    "\n",
    "# 字串匹配\n",
    "print('gutto' in val)\n",
    "\n",
    "# 定位\n",
    "print(val.index(','))\n",
    "val.find(':') # -1表示没有\n",
    "\n",
    "val.count(',')\n",
    "val.replace(',', '::')\n",
    "val.upper()"
   ]
  },
  {
   "cell_type": "code",
   "execution_count": 6,
   "metadata": {
    "collapsed": false
   },
   "outputs": [
    {
     "data": {
      "text/plain": [
       "[' ', '\\t ', ' \\t']"
      ]
     },
     "execution_count": 6,
     "metadata": {},
     "output_type": "execute_result"
    }
   ],
   "source": [
    "# 正则表达式\n",
    "\n",
    "import re\n",
    "text = 'foo bar\\t baz \\tqux'\n",
    "#print(text)\n",
    "\n",
    "regex = re.compile('\\s+')\n",
    "regex.split(text)\n",
    "regex.findall(text)"
   ]
  }
 ],
 "metadata": {
  "kernelspec": {
   "display_name": "Python [default]",
   "language": "python",
   "name": "python3"
  },
  "language_info": {
   "codemirror_mode": {
    "name": "ipython",
    "version": 3
   },
   "file_extension": ".py",
   "mimetype": "text/x-python",
   "name": "python",
   "nbconvert_exporter": "python",
   "pygments_lexer": "ipython3",
   "version": "3.5.2"
  }
 },
 "nbformat": 4,
 "nbformat_minor": 1
}
