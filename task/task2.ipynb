{
 "cells": [
  {
   "cell_type": "code",
   "execution_count": 1,
   "metadata": {
    "collapsed": true
   },
   "outputs": [],
   "source": [
    "import os\n",
    "import pandas as pd"
   ]
  },
  {
   "cell_type": "code",
   "execution_count": 2,
   "metadata": {
    "collapsed": true
   },
   "outputs": [],
   "source": [
    "class polar_classifier:\n",
    "    def __init__(self, path_to_dict = '/home/da/emotion_dict.xlsx'):\n",
    "        try:\n",
    "            self.emotion_dict = pd.read_excel('/home/da/emotion_dict.xlsx')\n",
    "        except FileNotFoundError as e:\n",
    "            print('当前词典路径错误:%s' % (e))\n",
    "        self.polar_dict = self.emotion_dict.loc[:, ['词语', '极性']]\n",
    "        self.polar_dict.rename(columns={'词语':'word', '极性':'polar'}, inplace = True)\n",
    "        self.polar_dict = self.polar_dict.drop_duplicates('word')\n",
    "        self.pos_dict = set(self.polar_dict.loc[self.polar_dict.polar==1, 'word'])\n",
    "        self.neg_dict = set(self.polar_dict.loc[self.polar_dict.polar==2, 'word'])\n",
    "        \n",
    "    def classify(self, word):\n",
    "        if word in self.pos_dict:\n",
    "            return 1\n",
    "        elif word in self.neg_dict:\n",
    "            return-1\n",
    "        else:\n",
    "            return 0\n",
    "        \n",
    "    @property\n",
    "    def show_pos(self):\n",
    "        print(self.pos_dict)\n",
    "        \n",
    "    @property\n",
    "    def show_neg(self):\n",
    "        print(self.neg_dict)"
   ]
  },
  {
   "cell_type": "code",
   "execution_count": 3,
   "metadata": {
    "collapsed": false
   },
   "outputs": [
    {
     "data": {
      "text/plain": [
       "1"
      ]
     },
     "execution_count": 3,
     "metadata": {},
     "output_type": "execute_result"
    }
   ],
   "source": [
    "a = polar_classifier()\n",
    "a.classify('开心')"
   ]
  }
 ],
 "metadata": {
  "anaconda-cloud": {},
  "kernelspec": {
   "display_name": "Python [conda root]",
   "language": "python",
   "name": "conda-root-py"
  },
  "language_info": {
   "codemirror_mode": {
    "name": "ipython",
    "version": 3
   },
   "file_extension": ".py",
   "mimetype": "text/x-python",
   "name": "python",
   "nbconvert_exporter": "python",
   "pygments_lexer": "ipython3",
   "version": "3.5.2"
  }
 },
 "nbformat": 4,
 "nbformat_minor": 1
}
