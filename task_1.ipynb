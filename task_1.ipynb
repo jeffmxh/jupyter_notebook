{
 "cells": [
  {
   "cell_type": "code",
   "execution_count": 1,
   "metadata": {
    "collapsed": true
   },
   "outputs": [],
   "source": [
    "# -*- coding: utf-8 -*-\n",
    "# chenchen19951110@sina.com\n",
    "\n",
    "import threading\n",
    "import requests\n",
    "from bs4 import BeautifulSoup\n",
    "from selenium import webdriver\n",
    "import os\n",
    "from datetime import *\n",
    "import time\n",
    "import datetime\n",
    "\n",
    "'''\n",
    "获取html原网页文本\n",
    "参数：url，即要打开的网页链接\n",
    "返回值：为html网页文本\n",
    "'''\n",
    "def getHTMLText(url):\n",
    "    try:\n",
    "        r = requests.get(url, timeout = 30)\n",
    "        r.raise_for_status()\n",
    "        r.encoding = 'utf-8'\n",
    "        return r.text\n",
    "    except:\n",
    "        return \"\" "
   ]
  },
  {
   "cell_type": "code",
   "execution_count": 58,
   "metadata": {
    "collapsed": true
   },
   "outputs": [],
   "source": [
    "def parse_table(text):\n",
    "    data = []\n",
    "    table = text.find('table')\n",
    "    table_body = table.find('tbody')\n",
    "\n",
    "    rows = table_body.find_all('tr')\n",
    "    for row in rows:\n",
    "        cols = row.find_all('td')\n",
    "        cols = [ele.text.strip() for ele in cols]\n",
    "        data.append([ele for ele in cols if ele])\n",
    "    return data"
   ]
  },
  {
   "cell_type": "code",
   "execution_count": 189,
   "metadata": {
    "collapsed": true
   },
   "outputs": [],
   "source": [
    "def getPhantomSoup(url):\n",
    "    browser = webdriver.PhantomJS()\n",
    "    browser.get(url)\n",
    "    soup = BeautifulSoup(browser.page_source, 'html.parser')\n",
    "    return soup"
   ]
  },
  {
   "cell_type": "code",
   "execution_count": 2,
   "metadata": {
    "collapsed": true
   },
   "outputs": [],
   "source": [
    "# url = 'http://news.sina.com.cn/society/moodrank/20150401.shtml?qq-pf-to=pcqq.c2c'\n",
    "url = 'http://www.jjwxc.net/onebook.php?novelid=2368172'\n",
    "\n",
    "browser = webdriver.PhantomJS()\n",
    "browser.get(url)\n",
    "soup = BeautifulSoup(browser.page_source, 'html.parser')"
   ]
  },
  {
   "cell_type": "code",
   "execution_count": 11,
   "metadata": {
    "collapsed": false
   },
   "outputs": [
    {
     "data": {
      "text/plain": [
       "'晋江独家全文新修版，前世的魏无羡万人唾骂，声名狼藉。，被情同手足的师弟带人端了老巢，纵横一世，死无全尸。，曾掀起腥风血雨的一代魔道祖师，重生成了一个……，脑残。，还特么是个人人喊打的断袖脑残！，我见诸君多有病，料诸君见我应如是。，但修鬼道不修仙，任你千军万马，十方恶霸，九州奇侠，高岭之花，但凡化为一抔黄土，统统收归旗下，为我所用，供我驱策！，蓝忘机（攻）×魏无羡（受），高贵冷艳闷骚攻×邪魅狂狷风骚受，调戏不成反被【哔——】，PS：①1V1主角受HE。，②令人发指的低魔仙侠。，③前世今生双线剧情，夫夫解谜打怪打孩子。，评论区是小说的评论区，只讨论小说本身的内容，为了和谐，请不要发散其他争议内容。，如遇不和谐的评论，先举报，再无视，不要回复，不要回复，不要回复！不要盖成话题楼。，感谢补分的妹子们，但是评论有感而发就好，不用发“撒花”、“补分”啦。晋江有规定评论不能相同，不能只有一两个字，也不能复制粘贴非原创文字，这些属于违规评论，会被清理掉的。，评论区的和谐离开不了各位书友的共同努力，谢谢大家，拜托了！，新文《天官赐福》连载中，作者专栏：墨香铜臭，完本穿书文《人渣反派自救系统》，作者微博@墨香铜臭MXTX，·，一个很严肃的公告，·，① 重申+强调：，请不要把我的文和其他作者的文进行比较。，这是两个作者都很尴尬讨厌的事，给双方读者的感观也极差，会造成很多不必要的误会和摩擦冲突。我的心愿是世界和平，请控制冲动，不要贪一时嘴爽。拒绝比较，拒绝拉踩。，② ，不要在无关的地方刷我和我的文。比如其他作者的文下、群、微博等等。也请一定不要在无关画手微博底下刷我的作品或是乱猜人物。，爱是克制。过度安利往往适得其反，不分场合到处刷只会很尴尬，甚至招来反感，实在不希望这种事情发生。，③ 最重要的一点——我不知道是不是真的有读者会去给不认识的人发私信提我或我的文，但我还是强调一下：，请不要打着安利的旗号去给不认识的人发私信说我。拒绝强塞安利。拒绝以任何形式在不相关的地方带我本人或我的文强行出镜！，不管是推荐也好怎么也好，通通不需要。我极度排斥这种行为，我和我认识的人都绝对不会干这种事，拒绝背锅。，毕竟世界上并不存在POI里的MACHINE，我也不掌控它。我只是一个业余爱好写点文的普通人，也要为三次元自己的生活奔波，这些已经占据了我全部时间和精力，实在分身乏术去监控他人的行为。说实话我也没能力约束，只能口头请求。而这次已经是我第三次表态了。公告一次写的比一次长，每次写都要绞尽脑汁左右为难，但愿我今后不用再写这种东西，只用写文就行了。除此之外，我就只能寄希望于大家相互转告，相互监督了。我相信大多数读者都是理智的，所以，拜托大家如果遇到了以下的情况，请相互提醒一下吧。谢谢！，这段文字我在第一章、文案、专栏都会放一份，挂到什么时候看心情，应该讲得非常清楚了。如果真的是喜欢我的文的读者，是一定会看到的 ^_^ ，感谢看到这里，感谢理解，感谢配合。爱你们。                                          ——20160412， ，晋江2016年元宵赛诗大会，感谢各位朋友为魔道写诗，大家真油菜花 ●ｖ● ~'"
      ]
     },
     "execution_count": 11,
     "metadata": {},
     "output_type": "execute_result"
    }
   ],
   "source": [
    "# 需求一文案\n",
    "\n",
    "import re\n",
    "pattern = re.compile('<.+?>|\\\\u3000')\n",
    "text = pattern.sub('，', str(soup.find_all('div', attrs={'id':\"novelintro\", 'itemprop':\"description\"})[0]))\n",
    "text = re.sub('，+', '，', text)\n",
    "text = re.sub('^，|，$', '', text)"
   ]
  },
  {
   "cell_type": "code",
   "execution_count": 30,
   "metadata": {
    "collapsed": false
   },
   "outputs": [
    {
     "data": {
      "text/plain": [
       "['灵异神怪', '情有独钟', '天作之合', '仙侠修真']"
      ]
     },
     "execution_count": 30,
     "metadata": {},
     "output_type": "execute_result"
    }
   ],
   "source": [
    "# 需求一标签\n",
    "\n",
    "# soup.find_all('div', attrs={\"class\":\"smallreadbody\"})[1]\n",
    "[x.get_text() for x in soup.find_all('font', attrs={\"color\":\"#FF0000\"})]"
   ]
  },
  {
   "cell_type": "code",
   "execution_count": 26,
   "metadata": {
    "collapsed": false
   },
   "outputs": [
    {
     "data": {
      "text/plain": [
       "'搜索关键字：主角：魏无羡（魏婴），蓝忘机（蓝湛） ┃ 配角：好多人，都很帅 ┃ 其它：忘羡，主CPonly，双向暗恋，胡来的左手'"
      ]
     },
     "execution_count": 26,
     "metadata": {},
     "output_type": "execute_result"
    }
   ],
   "source": [
    "# 需求一关键字\n",
    "\n",
    "soup.find_all('span', attrs={\"class\":\"bluetext\"})[0].get_text()"
   ]
  },
  {
   "cell_type": "code",
   "execution_count": 130,
   "metadata": {
    "collapsed": false
   },
   "outputs": [
    {
     "name": "stdout",
     "output_type": "stream",
     "text": [
      "0 原创-纯爱-架空历史-爱情\n",
      "1 主受\n",
      "2 正剧\n",
      "3 无从属系列\n",
      "4 已完成\n",
      "5 639675字\n",
      "6 尚未出版（联系出版）\n",
      "7 已签约\n",
      "8 身为开宗立派的一代魔道祖师，魏无羡纵横一世，掀腥风血雨，遭万人唾骂，最终被最亲近的师弟捅刀，受各大家族围剿而死。重生到了一名遭家族抛弃的疯子身上，被前世与自己水火不容的仙门名士蓝忘机强行抓走后，两人一起开始了打怪解谜带孩子、惊险抓人又逗趣的仙侠之旅。在一路调戏与反调戏之中，魏无羡逐渐发现，看似高傲、冷若冰霜的蓝忘机，似乎并不是真的那么讨厌自己。作者笔下的仙侠世界有着不同于一般修仙文的独特世界观与细节风俗设定，虽是重生文却不走逆袭复仇的老套路。一个个惊心动魄的小故事串起一个贯穿全文的大悬念，情节紧凑，跌宕起伏。笔力到位，人物各有各的精彩，各有各的传奇。萌点十足，互动有爱，由单向暗恋转为双向暗恋的过程温馨甜蜜，又爆笑无比。\n"
     ]
    }
   ],
   "source": [
    "# 需求一基本信息\n",
    "\n",
    "def extract_info(text):\n",
    "    filter_pattern = re.compile('<.+?>|\\s')\n",
    "    text = filter_pattern.sub(',', str(text))\n",
    "    text = re.sub('^,+|,+$', '', text)\n",
    "    text = re.sub(',+', ',', text)\n",
    "    text = re.split(',', text)\n",
    "    result = ''.join(text[1:])\n",
    "    return result\n",
    "\n",
    "info = soup.find_all('ul', attrs={\"class\":\"rightul\", \"name\":\"printright\"})[0].find_all('li')\n",
    "for i,x in enumerate(info):\n",
    "    print(i, extract_info(x))"
   ]
  },
  {
   "cell_type": "code",
   "execution_count": 145,
   "metadata": {
    "collapsed": false,
    "scrolled": true
   },
   "outputs": [
    {
     "data": {
      "text/plain": [
       "[['1.', '夜雨声烦', '无敌霸主'],\n",
       " ['2.', 'CAS', '无敌霸主'],\n",
       " ['3.', '前尘不记', '无敌霸主'],\n",
       " ['4.', '霸道仙君俏老', '无敌霸主'],\n",
       " ['5.', '云梦双杰后援', '无敌霸主'],\n",
       " ['6.', '平芜', '霸主'],\n",
       " ['7.', '摩卡', '小霸主'],\n",
       " ['8.', '腌笃鲜', '小霸主'],\n",
       " ['9.', '胃你所向披靡', '小霸主'],\n",
       " ['10.', '哈拉希', '小霸主']]"
      ]
     },
     "execution_count": 145,
     "metadata": {},
     "output_type": "execute_result"
    }
   ],
   "source": [
    "# 需求一地雷\n",
    "text = soup.find_all(\"div\", attrs={\"id\":\"ticketsrank_box\"})[0]\n",
    "parse_table(text)\n",
    "# pattern = re.compile('<.+?>')\n",
    "# text = pattern.sub(',', str(text))\n",
    "# re.findall(\"\\w+\", text)"
   ]
  },
  {
   "cell_type": "code",
   "execution_count": 185,
   "metadata": {
    "collapsed": false,
    "scrolled": true
   },
   "outputs": [],
   "source": [
    "# 需求二章节信息\n",
    "\n",
    "raw_table = soup.find_all(\"meta\", attrs={\"itemprop\":\"dateModified\"})[0]\n",
    "chapter_table = parse_table(raw_table)[3:]\n",
    "# chapter_table"
   ]
  },
  {
   "cell_type": "code",
   "execution_count": 129,
   "metadata": {
    "collapsed": false
   },
   "outputs": [
    {
     "data": {
      "text/plain": [
       "['总下载数：2658',\n",
       " '非V章节总点击数：14657196',\n",
       " '总书评数：188424',\n",
       " '当前被收藏数：271030',\n",
       " '文章积分：5,066,807,296']"
      ]
     },
     "execution_count": 129,
     "metadata": {},
     "output_type": "execute_result"
    }
   ],
   "source": [
    "# 需求二成绩\n",
    "score = soup.find_all(\"td\", attrs={\"colspan\":\"6\", \"class\":\"sptd\"})[1]\n",
    "text = score.get_text().strip()\n",
    "text = re.sub('\\n|\\u3000', '', text)\n",
    "result = re.split('\\s+', text)\n",
    "result"
   ]
  },
  {
   "cell_type": "code",
   "execution_count": 186,
   "metadata": {
    "collapsed": false,
    "scrolled": true
   },
   "outputs": [],
   "source": [
    "# 需求四\n",
    "\n",
    "raw_table = soup.find_all(\"meta\", attrs={\"itemprop\":\"dateModified\"})[0]\n",
    "chapter_info = raw_table.find_all(\"tr\", attrs={\"itemprop\":\"chapter\"})\n",
    "for i,x in enumerate(chapter_info):\n",
    "    try:\n",
    "        href = x.a['href']\n",
    "    except:\n",
    "        href = x.a['rel'][0]\n",
    "#     print(href)\n",
    "    chapter_table[i].append(href)"
   ]
  },
  {
   "cell_type": "code",
   "execution_count": 190,
   "metadata": {
    "collapsed": false
   },
   "outputs": [],
   "source": [
    "chap_url = chapter_table[0][-1]\n",
    "chap_soup = getPhantomSoup(chap_url)"
   ]
  },
  {
   "cell_type": "code",
   "execution_count": 214,
   "metadata": {
    "collapsed": false,
    "scrolled": true
   },
   "outputs": [
    {
     "data": {
      "text/plain": [
       "'“魏无羡死了。大快人心！”,乱葬岗大围剿刚刚结束，未及第二日，这个消息便插翅一般飞遍了整个修真界，比之当初战火蔓延的速度有过之而无不及。,一时之间，无论是世家名门，还是山野散修，人人都在议论此次由四大玄门世家联率、大小百家参与混战的围剿行动。,“好好好，果然是大快人心！手刃这夷陵老祖的是哪位名士英豪？”,“还能是谁。他师弟小江宗主江澄呗，云梦江氏、兰陵金氏、姑苏蓝氏、清河聂氏四大家族打头阵，大义灭亲，把魏无羡那老巢‘乱葬岗’一锅端了。”,“我得说句公道话：杀得好。”,立即有人抚掌亮声应和：“不错，杀得好！要不是云梦江氏收养他栽培他，他魏婴这辈子就是个混迹乡野市井的庸徒……还谈什么别的。原先的江宗主可是把他当亲儿子在养，他倒好，公然叛逃，与百家为敌，丢尽了云梦江氏的脸，还害得江家几乎满门惨死。什么叫忘恩负义白眼狼？这就是！”,“江澄居然就让这厮嚣张了这么久，换了是我，当初魏某人叛逃时就不是只捅他一刀，而是直接清理门户，否则他也没机会做出后来那些丧心病狂之事。对这种人，还讲什么同门同修青梅竹马的情面。”,“可我听到的不是这样的啊？魏婴不是因为自己修炼邪术遭受反噬、受手下鬼将撕咬蚕食而死的吗？听说活活被咬碎成了齑粉呢。”,“哈哈哈哈……这就叫现世报。我早就想说了，他养的那批鬼将就像一群没拴好的疯狗到处咬人，最后咬死自己，活该！”,“话虽如此，可此次围剿乱葬岗，若不是小江宗主依夷陵老祖的弱点拟定计划，成功与否还难说呢。你们可别忘了魏无羡手上有什么东西，当初一晚上三千多个成名修士是怎么全军覆没的。”,“不是五千吗？”,“三千五千都差不多。我觉得五千更有可能。”,“果真丧心病狂……”,“他死之前毁掉了阴虎符，倒也算积了点阴德，否则留下那鬼东西继续贻害人间，更加罪孽深重喽。”,“阴虎符”三字一出，忽然一阵静默，似乎都在顾忌着什么。,片刻之后，一人慨叹道：,“哎……要说这魏无羡，当年也是仙门之中极富盛名的世家公子，并非不曾有过佳迹。年少成名，何等风光恣意……究竟他是怎么走到这一步的……”,话题转移，议论声又纷纷然起来。,“由此可见，修炼终归是非走正统路子不可。邪魔歪道，一时风光无限，好像很嚣张很了不起？嘿，最后是什么下场？”,掷地有声：“死无全尸！”,“也不全是修炼之道害的，归根结底还是魏无羡此人人品太差，天怒人怨啊。所谓善恶终有报，天道好轮回……”,……,身死之后，盖棺定论。所论内容大同小异，偶有微弱的异声，也会立刻被压了下去。,只是每个人的心头都还有一缕阴霾挥之不去。,虽说夷陵老祖魏无羡已身死乱葬岗，但事成之后，却无法召唤他的残魂。,他的魂魄，也许是在被万鬼吞噬之时一同被分食了，又也许是逃逸了。,若是前者，自然皆大欢喜普天同庆。然而，夷陵老祖有翻天灭地、移山倒海之能——至少传闻中是这样的，他若要抗拒召魂，也不是什么难事。一旦他来日元神复位，夺舍重生，届时，玄门百家甚至整个人间必将迎来更加丧心病狂的报复和诅咒，陷入暗无天日和腥风血雨之中。,因此，将一百二十座镇山石兽压在乱葬岗顶后，各大家族开始进行频繁的召魂仪式，同时严查夺舍，搜集各地异象，全力警戒。,第一年，风平浪静。,第二年，风平浪静。,第三年，风平浪静。,……,第十三年，依然风平浪静。,至此，终于越来越多的人相信，也许魏无羡也没那么了不起，也许他真的神魂俱灭了。,纵使曾经翻手为云覆手雨，也终归有一日成为被翻覆的那一个。,没有人会被永远奉在神坛之上，传说也仅仅只是传说而已。,                            '"
      ]
     },
     "execution_count": 214,
     "metadata": {},
     "output_type": "execute_result"
    }
   ],
   "source": [
    "chap_text = chap_soup.find_all(\"div\", attrs={\"class\":\"noveltext\"})[0].br\n",
    "text = re.split('<div', str(chap_text))[0]\n",
    "text = re.sub('(<br>|\\u3000)+', ',', text)\n",
    "text = re.sub('^,|,$', '', text)\n",
    "text"
   ]
  },
  {
   "cell_type": "code",
   "execution_count": 208,
   "metadata": {
    "collapsed": false,
    "scrolled": false
   },
   "outputs": [
    {
     "data": {
      "text/plain": [
       "'作者有话要说：    夶夶们久等了！    这篇文实在是卡的很厉害，也因为三次元的各种情况拖了很久……总之接受殴打（抱头）\\u3000\\u3000魏无羡是主，主受，不要站逆_(:з)∠)_\\u3000\\u3000看上去人品非常糟糕对不对，请相信我不会让主角人品太差劲的（。\\u3000\\u3000是跟渣反不太一样的一篇文。    第二次在晋江发文，依旧紧张得手抖。    总之，希望大家喜欢 ^_^ ==========================================接下来我要说的话，可能语气会比以往重，因为我是很严肃的，实在是对最近的一些状况无可奈何了。\\u3000\\u3000\\u3000\\u30001，重申+强调：请不要把我的文和其他作者的文进行比较。这是让两个作者都很尴尬且讨厌的事，给双方读者的感观也极差。把两个文放在一起会造成很多不必要的误会和摩擦冲突。\\u3000\\u3000我的心愿是……世界和平。so请控制冲动，不要贪一时嘴爽。拒绝比较！拒绝拉踩！\\u3000\\u30002，不要在无关的地方刷我和我的文。比如其他作者的文下、群、微博等等。也请一定不要在无关画手微博底下刷我的人物和作品。爱是克制。过度安利往往适得其反，不分场合到处刷只会很尴尬，甚至招来反感，实在不希望这种事情发生。\\u3000\\u30003，最重要的一点——我不知道是不是真的有读者会去给不认识的人发私信提我或者我的文，但是我还是强调一下：【请不要打着安利我的文的旗号去给不认识的人发私信。拒绝以任何形式在私信里带我本人或者我的文强行出镜】。不管是推荐也好怎么也好，通通不需要！我极度排斥这种行为，我和我认识的人都绝对不会干这种事，拒绝背锅。\\u3000\\u3000\\u3000\\u3000毕竟世界上并不存在POI里的MACHINE，我也不掌控它。我只是一个业余爱好写点文的普通人罢了，三次元也要为自己的生活奔波，这些已经占据了我全部时间和精力，实在分身乏术去监控他人的行为。说实话我也没能力约束，只能口头请求。而这次，已经是我第三次表态了。公告一次写的比一次长，每次写都要绞尽脑汁左右为难，但愿我今后不用再写这种东西，只用写文就行了。除此之外，我就只能寄希望于大家相互转告，相互监督了。我相信大多数读者都是理智的，所以，拜托大家如果遇到了以下的情况，请相互提醒一下吧。谢谢！\\u3000\\u3000这段文字我在第一章、文案、专栏都会放一份，挂到什么时候看心情，应该是讲得非常清楚了。如果真的是喜欢我的文的读者，是一定会看到的 ^_^\\u3000\\u3000如果能看到这里并且没有问题，感谢理解。比哈特，爱你们。                                                                  ——20160412'"
      ]
     },
     "execution_count": 208,
     "metadata": {},
     "output_type": "execute_result"
    }
   ],
   "source": [
    "# 需求五\n",
    "chap_soup.find_all(\"div\", attrs={\"class\":\"noveltext\"})[0].br.hr.get_text().strip()\n",
    "chap_soup.find_all(\"hr\", attrs={\"color\":\"#EEFAEE\", \"size\":\"1\"})[0].get_text()"
   ]
  }
 ],
 "metadata": {
  "anaconda-cloud": {},
  "kernelspec": {
   "display_name": "Python [conda root]",
   "language": "python",
   "name": "conda-root-py"
  },
  "language_info": {
   "codemirror_mode": {
    "name": "ipython",
    "version": 3
   },
   "file_extension": ".py",
   "mimetype": "text/x-python",
   "name": "python",
   "nbconvert_exporter": "python",
   "pygments_lexer": "ipython3",
   "version": "3.5.2"
  }
 },
 "nbformat": 4,
 "nbformat_minor": 1
}
