{
 "cells": [
  {
   "cell_type": "code",
   "execution_count": 1,
   "metadata": {
    "collapsed": false
   },
   "outputs": [],
   "source": [
    "# -*- coding: utf-8 -*-\n",
    "# chenchen19951110@sina.com\n",
    "\n",
    "import threading\n",
    "import requests\n",
    "from bs4 import BeautifulSoup\n",
    "from selenium import webdriver\n",
    "import re\n",
    "import os\n",
    "import time\n",
    "\n",
    "'''\n",
    "获取html原网页文本\n",
    "参数：url，即要打开的网页链接\n",
    "返回值：为html网页文本\n",
    "'''\n",
    "\n",
    "class Spider:\n",
    "    def __init__(self):\n",
    "        self.headers = {'user-agent': 'Mozilla/5.0 (X11; Ubuntu; Linux x86_64; rv:54.0) Gecko/20100101 Firefox/54.0'}\n",
    "\n",
    "    def get_url_soup(self, url, encoding='gbk'):\n",
    "        response = requests.get(url, headers=self.headers)\n",
    "        response.raise_for_status()\n",
    "    #         r.encoding = 'utf-8'\n",
    "        response.encoding = encoding\n",
    "        soup = BeautifulSoup(response.text, 'lxml')\n",
    "        return soup\n",
    "    \n",
    "    def get_html_text(self, url, encoding='gbk'):\n",
    "        try:\n",
    "            r = requests.get(url, timeout = 30)\n",
    "            r.raise_for_status()\n",
    "            r.encoding = encoding\n",
    "            return r.text\n",
    "        except:\n",
    "            return \"\" \n",
    "\n",
    "    def parse_table(self, text):\n",
    "        data = []\n",
    "        table = text.find('table')\n",
    "        table_body = table.find('tbody')\n",
    "\n",
    "        rows = table_body.find_all('tr')\n",
    "        for row in rows:\n",
    "            cols = row.find_all('td')\n",
    "            cols = [ele.text.strip() for ele in cols]\n",
    "            data.append([ele for ele in cols if ele])\n",
    "        return data\n",
    "\n",
    "    def text_trim(self, text):\n",
    "        pattern = re.compile('，|<.+?>|\\\\u3000')\n",
    "        text = pattern.sub(',', str(text))\n",
    "        text = re.sub('，+|,+', ',', text)\n",
    "        text = re.sub('^,|,$', '', text)\n",
    "        return text\n",
    "    \n",
    "    def write_list_txt(self, data, file_name):\n",
    "        assert isinstance(data, list)\n",
    "        assert file_name.endswith('.txt')\n",
    "        with open(file_name, 'w') as f:\n",
    "            f.writelines('\\n'.join(data))\n",
    "        \n",
    "    def write_txt(self, data, file_name):\n",
    "        assert isinstance(data, str)\n",
    "        assert file_name.endswith('.txt')\n",
    "        with open(file_name, 'w') as f:\n",
    "            f.write(data)\n",
    "    \n",
    "def getPhantomSoup(url):\n",
    "    browser = webdriver.PhantomJS()\n",
    "    browser.get(url)\n",
    "    soup = BeautifulSoup(browser.page_source, 'html.parser')\n",
    "    return soup\n",
    "\n",
    "def get_url_cookie(url, encoding='gbk'):\n",
    "    headers = {\"Accept\": \"text/css,*/*;q=0.1\",\n",
    "               \"User-Agent\": \"Mozilla/5.0 (X11; Ubuntu; Linux x86_64; rv:54.0) Gecko/20100101 Firefox/54.0\",\n",
    "               \"Cookie\": '__cfduid=d399b76e493b94ca4ea30c25e027b331f1511504324; testcookie=yes; Hm_lvt_bc3b748c21fe5cf393d26c12b2c38d99=1511533259; Hm_lpvt_bc3b748c21fe5cf393d26c12b2c38d99=1511533491; clicktype=; need_auth_checked=yexuan2955@sina.com%3B-1%3B1511533299521%3Busername%3Dyexuan2955@sina.com%3Bisneed%3Dfalse%3Bip%3D202.119.46.229%3Bipcount%3D0%3Busernamecount%3D0; nicknameAndsign=2%257E%2529%2524%25E9%25A3%258E%25E8%25BF%2587; token=MzM4NDI0NHwxMzc3YzYyYTRkNmE2ZDA2Y2FiYTZiMzhmYzI5MmIwMXx8eWV4KioqKioqKkBzaW5hLmNvbXwzNzk3NzN8fDF8MzM4NDI0NHx85qyi6L%2BO5oKo77yM5pmL5rGf55So5oi3fDF8ZW1haWw%3D; ispayuser=3384244-1; foreverreader=3384244; sms_total=1'\n",
    "              }\n",
    "    r = requests.get(url, headers=headers)\n",
    "#     r.raise_for_status()\n",
    "    r.encoding = encoding\n",
    "    soup = BeautifulSoup(r.text, 'lxml')\n",
    "    return soup"
   ]
  },
  {
   "cell_type": "code",
   "execution_count": 4,
   "metadata": {
    "collapsed": false
   },
   "outputs": [],
   "source": [
    "base_url = \"http://www.jjwxc.net/bookbase_slave.php?booktype=&opt=&page=1&endstr=true&orderstr=4\"\n",
    "spider = Spider()\n",
    "base_soup = spider.get_url_soup(base_url)"
   ]
  },
  {
   "cell_type": "code",
   "execution_count": 9,
   "metadata": {
    "collapsed": false
   },
   "outputs": [],
   "source": [
    "table = base_soup.find_all('table', attrs={\"class\":\"cytable\"})[0]"
   ]
  },
  {
   "cell_type": "code",
   "execution_count": 29,
   "metadata": {
    "collapsed": false,
    "scrolled": true
   },
   "outputs": [
    {
     "data": {
      "text/plain": [
       "[('魔道祖师', '2368172'),\n",
       " ('默读', '2771073'),\n",
       " ('撒野', '2956313'),\n",
       " ('我五行缺你', '3146241'),\n",
       " ('你微笑时很美', '2911685'),\n",
       " ('我开动物园那些年', '3142278'),\n",
       " ('国色生香', '2734828'),\n",
       " ('论以貌取人的下场', '2840860'),\n",
       " ('空降热搜', '3194253'),\n",
       " ('我就是这般女子', '2973352'),\n",
       " ('你是不是喜欢我', '3126293'),\n",
       " ('人渣反派自救系统', '2228486'),\n",
       " ('不死者', '3165753'),\n",
       " ('王府宠妾', '3132729'),\n",
       " ('重生之豁然', '3028693'),\n",
       " ('影帝', '3039244'),\n",
       " ('她的小梨涡', '3070243'),\n",
       " ('天宝伏妖录', '3145450'),\n",
       " ('为了和谐而奋斗', '2852290'),\n",
       " ('给校草当假男友的日子', '2865551'),\n",
       " ('清和', '2090443'),\n",
       " ('我有药啊[系统]', '2317366'),\n",
       " ('快穿之完美命运', '2730439'),\n",
       " ('一替成名', '3190754'),\n",
       " ('人不可貌相', '3109031'),\n",
       " ('你能不能不撩我', '3043465'),\n",
       " ('快穿之打脸狂魔', '2403714'),\n",
       " ('攻略那个渣攻[快穿]', '2938340'),\n",
       " ('簪缨问鼎', '2710871'),\n",
       " ('重回初三', '2171074'),\n",
       " ('网红的娱乐生活', '3137055'),\n",
       " ('神木挠不尽', '2382799'),\n",
       " ('有姝', '2672345'),\n",
       " ('魔王', '2614438'),\n",
       " ('太监的职业素养', '2477803'),\n",
       " ('每个世界苏一遍', '2928021'),\n",
       " ('鬼知道我经历了什么', '3119919'),\n",
       " ('含桃', '2911728'),\n",
       " ('我有一个秘密', '3060858'),\n",
       " ('神造', '3101205'),\n",
       " ('丧病大学', '2995809'),\n",
       " ('助理建筑师', '2645518'),\n",
       " ('不谈恋爱就去死', '3212959'),\n",
       " ('读者和主角绝逼是真爱', '1722952'),\n",
       " ('他站在时光深处', '2964342'),\n",
       " ('有匪', '2595385'),\n",
       " ('首辅养成手册', '2691265'),\n",
       " ('杀破狼', '2322969'),\n",
       " ('知否？知否？应是绿肥红瘦', '931329'),\n",
       " ('嫡长孙', '2950794')]"
      ]
     },
     "execution_count": 29,
     "metadata": {},
     "output_type": "execute_result"
    }
   ],
   "source": [
    "pattern_id = re.compile('novelid=([0-9]+)\"')\n",
    "\n",
    "a = table.find_all('a', attrs={\"class\":\"tooltip\"})\n",
    "[(x.string, pattern_id.findall(str(x))[0]) for x in a]\n",
    "# a[0].string"
   ]
  },
  {
   "cell_type": "code",
   "execution_count": 174,
   "metadata": {
    "collapsed": false,
    "scrolled": true
   },
   "outputs": [],
   "source": [
    "spider = Spider()\n",
    "novel_id = 2368172\n",
    "url = 'http://www.jjwxc.net/onebook.php?novelid={}'.format(novel_id)\n",
    "# soup = getPhantomSoup(url)\n",
    "soup = getPhantomSoup(url)"
   ]
  },
  {
   "cell_type": "code",
   "execution_count": 6,
   "metadata": {
    "collapsed": false
   },
   "outputs": [],
   "source": [
    "novel_title = soup.title.get_text()"
   ]
  },
  {
   "cell_type": "code",
   "execution_count": 27,
   "metadata": {
    "collapsed": false
   },
   "outputs": [],
   "source": [
    "# 需求一：文案\n",
    "\n",
    "des = soup.find_all('div', attrs={'id':\"novelintro\", 'itemprop':\"description\"})[0]\n",
    "result_desp = spider.text_trim(des)\n",
    "if not os.path.exists('save/' + novel_title + '/task1'):\n",
    "    os.makedirs('save/' + novel_title + '/task1')\n",
    "spider.write_txt(result_desp, 'save/' + novel_title + '/task1/description.txt')"
   ]
  },
  {
   "cell_type": "code",
   "execution_count": 28,
   "metadata": {
    "collapsed": false
   },
   "outputs": [],
   "source": [
    "# 需求一：标签\n",
    "\n",
    "# soup.find_all('div', attrs={\"class\":\"smallreadbody\"})[1]\n",
    "result_tag = [x.get_text() for x in soup.find_all('font', attrs={\"color\":\"#FF0000\"})]\n",
    "spider.write_list_txt(result_tag, 'save/' + novel_title + '/task1/tags.txt')"
   ]
  },
  {
   "cell_type": "code",
   "execution_count": 29,
   "metadata": {
    "collapsed": false
   },
   "outputs": [],
   "source": [
    "# 需求一：关键字\n",
    "\n",
    "result_keywords = soup.find_all('span', attrs={\"class\":\"bluetext\"})[0].get_text()\n",
    "spider.write_txt(result_keywords, 'save/' + novel_title + '/task1/keywords.txt')"
   ]
  },
  {
   "cell_type": "code",
   "execution_count": 30,
   "metadata": {
    "collapsed": false
   },
   "outputs": [],
   "source": [
    "# 需求一：基本信息\n",
    "\n",
    "def extract_info(text):\n",
    "    filter_pattern = re.compile('<.+?>|\\s')\n",
    "    text = filter_pattern.sub(',', str(text))\n",
    "    text = re.sub('^,+|,+$', '', text)\n",
    "    text = re.sub(',+', ',', text)\n",
    "    text = re.split(',', text)\n",
    "    result = ''.join(text[1:])\n",
    "    return result\n",
    "\n",
    "info = soup.find_all('ul', attrs={\"class\":\"rightul\", \"name\":\"printright\"})[0].find_all('li')\n",
    "result_info = [extract_info(x) for x in info]\n",
    "# for i,x in enumerate(info):\n",
    "#     print(i, extract_info(x))\n",
    "spider.write_list_txt(result_info, 'save/' + novel_title + '/task1/basic_info.txt')"
   ]
  },
  {
   "cell_type": "code",
   "execution_count": 31,
   "metadata": {
    "collapsed": false,
    "scrolled": true
   },
   "outputs": [],
   "source": [
    "# 需求一：地雷\n",
    "text = soup.find_all(\"div\", attrs={\"id\":\"ticketsrank_box\"})[0]\n",
    "\n",
    "result_mine = ['\\t'.join(x) for x in spider.parse_table(text)]\n",
    "spider.write_list_txt(result_mine, 'save/' + novel_title + '/task1/mine.txt')\n",
    "# text"
   ]
  },
  {
   "cell_type": "code",
   "execution_count": 34,
   "metadata": {
    "collapsed": false,
    "scrolled": true
   },
   "outputs": [],
   "source": [
    "# 需求二：章节信息\n",
    "\n",
    "if not os.path.exists('save/' + novel_title + '/task2'):\n",
    "    os.makedirs('save/' + novel_title + '/task2')\n",
    "raw_table = soup.find_all(\"meta\", attrs={\"itemprop\":\"dateModified\"})[0]\n",
    "chapter_table = spider.parse_table(raw_table)[3:]\n",
    "result_chap_table = ['\\t'.join(x) for x in chapter_table]\n",
    "spider.write_list_txt(result_chap_table, 'save/' + novel_title + '/task2/chapter_table.txt')"
   ]
  },
  {
   "cell_type": "code",
   "execution_count": 35,
   "metadata": {
    "collapsed": false
   },
   "outputs": [],
   "source": [
    "# 需求二：成绩\n",
    "score = soup.find_all(\"td\", attrs={\"colspan\":\"6\", \"class\":\"sptd\"})[1]\n",
    "text = score.get_text().strip()\n",
    "text = re.sub('\\n|\\u3000', '', text)\n",
    "result = re.split('\\s+', text)\n",
    "spider.write_list_txt(result, 'save/' + novel_title + '/task2/score.txt')"
   ]
  },
  {
   "cell_type": "code",
   "execution_count": 123,
   "metadata": {
    "collapsed": false,
    "scrolled": true
   },
   "outputs": [
    {
     "name": "stdout",
     "output_type": "stream",
     "text": [
      "http://www.jjwxc.net/comment.php?novelid=2368172&page=1\n"
     ]
    }
   ],
   "source": [
    "# 需求三：评论正文，客户端\n",
    "\n",
    "comment_url = \"http://www.jjwxc.net/comment.php?novelid={}&page=1\".format(novel_id)\n",
    "comment_soup = getPhantomSoup(comment_url)\n",
    "print(comment_url)"
   ]
  },
  {
   "cell_type": "code",
   "execution_count": 124,
   "metadata": {
    "collapsed": false
   },
   "outputs": [],
   "source": [
    "# 需求三：评论正文，客户端\n",
    "\n",
    "def extract_single_reply(soup):\n",
    "    try:\n",
    "        info = spider.text_trim(re.findall('<div class=\"replybody\">(.+?)<font color=\"#ABABAB\">', str(soup))[0])\n",
    "    except:\n",
    "        info = \"error\"\n",
    "    try:\n",
    "        content = re.findall('</font><br>(.+?)<br><br>', str(soup))[0]\n",
    "    except:\n",
    "        content = \"error\"\n",
    "    try:\n",
    "        device = soup.find(\"font\", attrs={\"color\":\"#009900\", \"size\":\"2\"}).get_text()\n",
    "    except:\n",
    "        device = \"error\"\n",
    "    return '\\t'.join([info, content, device])\n",
    "\n",
    "def extract_all_reply(soup):\n",
    "    re_list = soup.find_all('div', attrs={\"class\":\"replybody\"})\n",
    "    result = [extract_single_reply(x) for x in re_list]\n",
    "    return '\\t'.join(result)\n",
    "\n",
    "def extract_comment(soup):\n",
    "    target = soup.find(\"div\", attrs={\"class\":\"readbody\"})\n",
    "    try:\n",
    "        device = target.find(\"font\").get_text()\n",
    "    except:\n",
    "        device = \"error\"\n",
    "    comment = re.sub(device, \"\", target.get_text().strip())\n",
    "    try:\n",
    "        user_name = soup.find('a', attrs={\"target\":\"_blank\"}).get_text()\n",
    "    except:\n",
    "        user_name = \"error\"\n",
    "    try:\n",
    "        user_id = re.findall('readerid=([0-9]+)$', soup.find('a', attrs={\"target\":\"_blank\"})['href'])[0]\n",
    "    except:\n",
    "        user_id = \"error\"\n",
    "    try:    \n",
    "        time_stamp = re.findall('发表时间：(.+?)<font', str(soup.find(\"span\", attrs={\"class\":\"coltext\"})))[0].strip()\n",
    "    except:\n",
    "        time_stamp = \"error\"\n",
    "    main_result = '\\t'.join([user_name, user_id, comment, device, time_stamp])\n",
    "    if soup.find('div', attrs={\"class\":\"replybody\"}):\n",
    "        main_result = main_result + '\\t' + extract_all_reply(soup)\n",
    "    return main_result\n",
    "\n",
    "comments = comment_soup.find_all(\"div\", attrs={\"id\":re.compile(\"comment_[0-9]{6}\")})"
   ]
  },
  {
   "cell_type": "code",
   "execution_count": 125,
   "metadata": {
    "collapsed": false
   },
   "outputs": [
    {
     "name": "stdout",
     "output_type": "stream",
     "text": [
      "0 江山剁手\t10716163\t全书所有人，你们把谢谢你和对不起这两句话诠释的很不吉利啊！\t此评论发自晋江APP\t2017-11-23 17:59:02\n",
      "1 后排围观\t19288251\t玫瑰开在九月里，我的心中只有你，好想和你在一起，一颗地雷送给你！\terror\t2017-11-23 17:57:15\n",
      "2 26429798\t26429798\t求更新，求速肥，来颗地雷激发作者潜能吧！\t此评论发自晋江APP\t2017-11-23 17:55:25\n",
      "3 汪叽家的wifi\t25071896\t地雷恒久远，一颗永流传！\t此评论发自晋江APP\t2017-11-23 17:51:36\n",
      "4 汪叽家的wifi\t25071896\t作者更文辛苦了，来一个地雷提提神吧！\t此评论发自晋江APP\t2017-11-23 17:51:28\n",
      "5 汪叽家的wifi\t25071896\t投一颗地雷，表达对你的爱如同滔滔江水连绵不决、又如黄河泛滥一发不可收拾！\t此评论发自晋江APP\t2017-11-23 17:51:19\n",
      "6 汪叽家的wifi\t25071896\t投一颗地雷，表达对你的爱如同滔滔江水连绵不决、又如黄河泛滥一发不可收拾！\t此评论发自晋江APP\t2017-11-23 17:51:08\n",
      "7 汪叽家的wifi\t25071896\t有人节操好，有人人品好，有人智商好……但是……我心情好，砸你个地雷，不要潜水了出来码字吧~~~\t此评论发自晋江APP\t2017-11-23 17:50:59\n",
      "8 汪叽家的wifi\t25071896\t走，地雷来一发！ \t此评论发自晋江APP\t2017-11-23 17:50:49\n",
      "9 唐馨悦\t21577337\t唉！看到这里，羡羡此时这样各种作死，以后要后悔不迭的。其实觉得金凌很孤单。在对羡羡的时候他的直觉是出奇地准的。情绪也出奇地复杂。他明明是最有理由恨羡羡的。可是他却从来没有真正害过羡。反而还在无意维护羡。金凌其实很懂事的。也很孤单。\t此评论发自晋江APP\terror\t[1楼] 网友：半夏麦冬,打分：0,发表时间：2017-11-23 17:48:24\t对，特别心疼金陵，他就像一个孩子一样，眼巴巴的羡慕着那些有人宠有人疼有人温声软语关心的同伴，他其实特别渴望被爱，嘴还硬的要死\t此评论发自晋江APP\n",
      "10 魏无羡在我身下喘\t22308455\t地雷恒久远，一颗永流传！\t此评论发自晋江APP\t2017-11-23 17:45:41\n",
      "11 半夏麦冬\t24999712\t来迟了，没看到车，哭唧唧！有谁能载我一路吗？\t此评论发自晋江APP\t2017-11-23 17:43:07\n",
      "12 凉\t24414306\t我有一个朋友，他才叫演技精湛\t此评论发自晋江APP\terror\terror\terror\t此评论发自晋江APP\terror\terror\t此评论发自晋江APP\terror\terror\t此评论发自晋江APP\terror\terror\t此评论发自晋江APP\n",
      "13 清亻瞳\t21001261\t默默的问一句还有车车吗？\t此评论发自晋江APP\t2017-11-23 17:20:43\n",
      "14 江山剁手\t10716163\t有话别说，好好动手哈哈哈哈哈哈\t此评论发自晋江APP\terror\n",
      "15 后排围观\t19288251\t玫瑰开在九月里，我的心中只有你，好想和你在一起，一颗地雷送给你！\terror\terror\n",
      "16 行板清歌\t21667466\t孩儿们哈哈哈哈哈哈，仿佛花果山孙猴子在和一堆猴子喊话。说起来这时候羡羡就开始狐假虎威，“给你们含光君知道，要你们好看！”“罚。该罚！不罚不长记性。”哈哈哈可以想象之后还会有不少这种场面\t此评论发自晋江APP\t2017-11-23 17:14:25\n",
      "17 江山剁手\t10716163\t蓝大和金陵不约而同的眺望远方，哈哈哈哈哈哈哈哈哈哈哈哈哈哈\t此评论发自晋江APP\terror\n",
      "18 后排围观\t19288251\t玫瑰开在九月里，我的心中只有你，好想和你在一起，一颗地雷送给你！\terror\terror\n",
      "19 后排围观\t19288251\t玫瑰开在九月里，我的心中只有你，好想和你在一起，一颗地雷送给你！\terror\terror\n"
     ]
    }
   ],
   "source": [
    "for i,x in enumerate(comments):\n",
    "    print(i, extract_comment(x))"
   ]
  },
  {
   "cell_type": "code",
   "execution_count": 178,
   "metadata": {
    "collapsed": false,
    "scrolled": true
   },
   "outputs": [],
   "source": [
    "# 需求四\n",
    "\n",
    "raw_table = soup.find_all(\"meta\", attrs={\"itemprop\":\"dateModified\"})[0]\n",
    "chapter_info = raw_table.find_all(\"tr\", attrs={\"itemprop\":[\"chapter\", \"chapter newestChapter\"]})\n",
    "for i,x in enumerate(chapter_info):\n",
    "    try:\n",
    "        href = x.a['href']\n",
    "    except:\n",
    "        href = x.a['rel'][0]\n",
    "#     print(href)\n",
    "    chapter_table[i].append(href)"
   ]
  },
  {
   "cell_type": "code",
   "execution_count": 183,
   "metadata": {
    "collapsed": false
   },
   "outputs": [
    {
     "data": {
      "text/plain": [
       "['119',\n",
       " '外二篇：香炉 2[VIP]',\n",
       " '=V=',\n",
       " '4903',\n",
       " '2016-08-11 16:26:04',\n",
       " 'http://my.jjwxc.net/onebook_vip.php?novelid=2368172&chapterid=119']"
      ]
     },
     "execution_count": 183,
     "metadata": {},
     "output_type": "execute_result"
    }
   ],
   "source": [
    "chapter_table[118]"
   ]
  },
  {
   "cell_type": "code",
   "execution_count": 147,
   "metadata": {
    "collapsed": false,
    "scrolled": true
   },
   "outputs": [],
   "source": [
    "def get_text_writer(chap_url):\n",
    "    if re.findall('vip', chap_url):\n",
    "        chap_soup = get_url_cookie(chap_url)\n",
    "        chap_text = str(chap_soup.find_all(\"div\", attrs={\"class\":\"noveltext\"})[0])\n",
    "        chap_text = chap_text.split('<div id=\"show\"></div>')[1]\n",
    "        chap_text = chap_text.split('<div')[0]\n",
    "        result_text = spider.text_trim(chap_text)\n",
    "    else:\n",
    "        chap_soup = spider.get_url_soup(chap_url)\n",
    "        chap_text = str(chap_soup.find_all(\"div\", attrs={\"class\":\"noveltext\"})[0])\n",
    "        chap_text = chap_text.split('<div style=\"clear:both;\"></div>')[1]\n",
    "        chap_text = chap_text.split('<div')[0]\n",
    "        result_text = spider.text_trim(chap_text)\n",
    "    try:\n",
    "        writer_comment = chap_soup.find_all(\"div\", attrs={\"class\":\"readsmall\"})[0]\n",
    "        result_writer = spider.text_trim(writer_comment)\n",
    "    except:\n",
    "        result_writer = \"None\"\n",
    "    return result_text, result_writer"
   ]
  },
  {
   "cell_type": "code",
   "execution_count": 195,
   "metadata": {
    "collapsed": false,
    "scrolled": true
   },
   "outputs": [
    {
     "name": "stdout",
     "output_type": "stream",
     "text": [
      "1 : 重生第一 saved!\n",
      "2 : 泼野第二 saved!\n",
      "3 : 泼野第二 2 saved!\n",
      "4 : 泼野第二 3 saved!\n",
      "5 : 泼野第二 4 saved!\n",
      "6 : 骄矜第三 saved!\n",
      "7 : 骄矜第三 2 saved!\n",
      "8 : 骄矜第三 3 saved!\n",
      "9 : 骄矜第三 4 saved!\n",
      "10 : 骄矜第三 5 saved!\n",
      "11 : 雅骚第四 saved!\n",
      "12 : 雅骚第四 2 saved!\n",
      "13 : 雅骚第四 3 saved!\n",
      "14 : 雅骚第四 4 saved!\n",
      "15 : 雅骚第四 5 saved!\n",
      "16 : 雅骚第四 6 saved!\n",
      "17 : 雅骚第四 7 saved!\n",
      "18 : 雅骚第四 8 saved!\n",
      "19 : 阳阳第五 saved!\n",
      "20 : 阳阳第五 2 saved!\n",
      "21 : 阳阳第五 3 saved!\n",
      "22 : 阳阳第五 4 saved!\n",
      "23 : 阴鸷第六 saved!\n",
      "24 : 阴鸷第六 2 saved!\n",
      "25 : 阴鸷第六 3[VIP] saved!\n",
      "26 : 阴鸷第六 4[VIP] saved!\n",
      "27 : 阴鸷第六 5[VIP] saved!\n",
      "28 : 朝露第七[VIP] saved!\n",
      "29 : 朝露第七 2[VIP] saved!\n",
      "30 : 朝露第七 3[VIP] saved!\n",
      "31 : 朝露第七 4[VIP] saved!\n",
      "32 : 朝露第七 5[VIP] saved!\n",
      "33 : 草木第八[VIP] saved!\n",
      "34 : 草木第八 2[VIP] saved!\n",
      "35 : 草木第八 3[VIP] saved!\n",
      "36 : 草木第八 4[VIP] saved!\n",
      "37 : 草木第八 5[VIP] saved!\n",
      "38 : 草木第八 6[VIP] saved!\n",
      "39 : 草木第八 7[VIP] saved!\n",
      "40 : 草木第八 8[VIP] saved!\n",
      "41 : 草木第八 9[VIP] saved!\n",
      "42 : 草木第八 10[VIP] saved!\n",
      "43 : 佼僚第九[VIP] saved!\n",
      "44 : 佼僚第九 2[VIP] saved!\n",
      "45 : 佼僚第九 3[VIP] saved!\n",
      "46 : 狡童第十[VIP] saved!\n",
      "47 : 狡童第十 2[VIP] saved!\n",
      "48 : 狡童第十 3[VIP] saved!\n",
      "49 : 狡童第十 4[VIP] saved!\n",
      "50 : 狡童第十 5[VIP] saved!\n",
      "51 : 绝勇第十一[VIP] saved!\n",
      "52 : 绝勇第十一 2[VIP] saved!\n",
      "53 : 绝勇第十一 3[VIP] saved!\n",
      "54 : 绝勇第十一 4[VIP] saved!\n",
      "55 : 绝勇第十一 5[VIP] saved!\n",
      "56 : 三毒第十二[VIP] saved!\n",
      "57 : 三毒第十二 2[VIP] saved!\n",
      "58 : 三毒第十二 3[VIP] saved!\n",
      "59 : 三毒第十二 4[VIP] saved!\n",
      "60 : 三毒第十二 5[VIP] saved!\n",
      "61 : 风邪第十三[VIP] saved!\n",
      "62 : 风邪第十三 2[VIP] saved!\n",
      "63 : 优柔第十四[VIP] saved!\n",
      "64 : 优柔第十四 2[VIP] saved!\n",
      "65 : 优柔第十四 3[VIP] saved!\n",
      "66 : 优柔第十四 4[VIP] saved!\n",
      "67 : 优柔第十四 5[VIP] saved!\n",
      "68 : 优柔第十四 6[VIP] saved!\n",
      "69 : 将离第十五[VIP] saved!\n",
      "70 : 将离第十五 2[VIP] saved!\n",
      "71 : 将离第十五 3[VIP] saved!\n",
      "72 : 桀骜第十六[VIP] saved!\n",
      "73 : 桀骜第十六 2[VIP] saved!\n",
      "74 : 汉广第十七[VIP] saved!\n",
      "75 : 汉广第十七 2[VIP] saved!\n",
      "76 : 夜奔第十八[VIP] saved!\n",
      "77 : 夜奔第十八 2[VIP] saved!\n",
      "78 : 夜奔第十八 3[VIP] saved!\n",
      "79 : 丹心第十九[VIP] saved!\n",
      "80 : 丹心第十九 2[VIP] saved!\n",
      "81 : 丹心第十九 3[VIP] saved!\n",
      "82 : 丹心第十九 4[VIP] saved!\n",
      "83 : 丹心第十九 5[VIP] saved!\n",
      "84 : 丹心第十九 6[VIP] saved!\n",
      "85 : 丹心第十九 7[VIP] saved!\n",
      "86 : 丹心第十九 8[VIP] saved!\n",
      "87 : 丹心第十九 9[VIP] saved!\n",
      "88 : 丹心第十九 10[VIP] saved!\n",
      "89 : 丹心第十九 11[VIP] saved!\n",
      "90 : 寤寐第二十[VIP] saved!\n",
      "91 : 寤寐第二十 2[VIP] saved!\n",
      "92 : 寤寐第二十 3[VIP] saved!\n",
      "93 : 寤寐第二十 4[VIP] saved!\n",
      "94 : 寤寐第二十 5[VIP] saved!\n",
      "95 : 寤寐第二十 6[VIP] saved!\n",
      "96 : 寤寐第二十 7[VIP] saved!\n",
      "97 : 寤寐第二十 8[VIP] saved!\n",
      "98 : 恨生第二十一[VIP] saved!\n",
      "99 : 恨生第二十一 2[VIP] saved!\n",
      "100 : 恨生第二十一 3[VIP] saved!\n",
      "101 : 恨生第二十一 4[VIP] saved!\n",
      "102 : 恨生第二十一 5[VIP] saved!\n",
      "103 : 恨生第二十一 6[VIP] saved!\n",
      "104 : 恨生第二十一 7[VIP] saved!\n",
      "105 : 恨生第二十一 8[VIP] saved!\n",
      "106 : 恨生第二十一 9[VIP] saved!\n",
      "107 : 藏锋第二十二[VIP] saved!\n",
      "108 : 藏锋第二十二 2[VIP] saved!\n",
      "109 : 藏锋第二十二 3[VIP] saved!\n",
      "110 : 藏锋第二十二 4[VIP] saved!\n",
      "111 : 忘羡第二十三[VIP] saved!\n",
      "112 : 忘羡第二十三 2[VIP] saved!\n",
      "113 : 忘羡第二十三 3[VIP] saved!\n",
      "114 : 外一篇：家宴[VIP] saved!\n",
      "115 : 外一篇：家宴 2[VIP] saved!\n",
      "116 : 外一篇：家宴 3[VIP] saved!\n",
      "117 : 外二篇：香炉[VIP] saved!\n",
      "118 : 外三篇：恶友[VIP] saved!\n",
      "119 : 外二篇：香炉 2[VIP] saved!\n"
     ]
    }
   ],
   "source": [
    "if not os.path.exists('save/' + novel_title + '/main'):\n",
    "    os.makedirs('save/' + novel_title + '/main')\n",
    "for i,chap in enumerate(chapter_table):\n",
    "    chap_title = chap[1]\n",
    "    chap_main, writer_main = get_text_writer(chap[-1])\n",
    "    spider.write_list_txt([chap_main.strip(), writer_main], 'save/' + novel_title +'/main/' + chap[0] + chap_title + '.txt')\n",
    "    print('{} : {} saved!'.format(chap[0], chap_title))\n",
    "    time.sleep(3)"
   ]
  },
  {
   "cell_type": "code",
   "execution_count": 193,
   "metadata": {
    "collapsed": false
   },
   "outputs": [
    {
     "data": {
      "text/plain": [
       "['1',\n",
       " '重生第一',\n",
       " '“魏无羡死了。大快人心！”',\n",
       " '1466',\n",
       " '1259389',\n",
       " '2016-08-16 15:05:28',\n",
       " 'http://www.jjwxc.net/onebook.php?novelid=2368172&chapterid=1',\n",
       " 'http://www.jjwxc.net/onebook.php?novelid=2368172&chapterid=1',\n",
       " 'http://www.jjwxc.net/onebook.php?novelid=2368172&chapterid=1',\n",
       " 'http://www.jjwxc.net/onebook.php?novelid=2368172&chapterid=1']"
      ]
     },
     "execution_count": 193,
     "metadata": {},
     "output_type": "execute_result"
    }
   ],
   "source": [
    "chapter_table[0]"
   ]
  },
  {
   "cell_type": "code",
   "execution_count": 135,
   "metadata": {
    "collapsed": false
   },
   "outputs": [],
   "source": [
    "# 需求六\n",
    "user_href = 'http://www.jjwxc.net/onereader.php?readerid=26429798'\n",
    "user_soup = getPhantomSoup(user_href)"
   ]
  },
  {
   "cell_type": "code",
   "execution_count": 137,
   "metadata": {
    "collapsed": false,
    "scrolled": true
   },
   "outputs": [
    {
     "data": {
      "text/plain": [
       "[['《魔道祖师》',\n",
       "  '《魔道祖师》',\n",
       "  '原创-纯爱-架空历史-爱情',\n",
       "  '正剧',\n",
       "  '已完成',\n",
       "  '639675',\n",
       "  '5,084,153,344',\n",
       "  '2015-10-31 19:15:00']]"
      ]
     },
     "execution_count": 137,
     "metadata": {},
     "output_type": "execute_result"
    }
   ],
   "source": [
    "# 需求六：最近订阅的作品\n",
    "user_soup\n",
    "recent_books = user_soup.find_all(\"div\", attrs={\"id\":\"load_show_vipServer\"})[0]\n",
    "spider.parse_table(recent_books)[1::2]"
   ]
  },
  {
   "cell_type": "code",
   "execution_count": 140,
   "metadata": {
    "collapsed": false,
    "scrolled": true
   },
   "outputs": [],
   "source": [
    "# 需求六：收藏的作品\n",
    "url = 'http://www.jjwxc.net/onereader_ajax.php?readerid=20981786&action=show_novelsa'\n",
    "# favo_soup = BeautifulSoup(getHTMLText(url), 'html.parser')\n",
    "favo_soup = spider.get_url_soup(url, encoding='utf-8')"
   ]
  },
  {
   "cell_type": "code",
   "execution_count": 141,
   "metadata": {
    "collapsed": false,
    "scrolled": false
   },
   "outputs": [
    {
     "data": {
      "text/plain": [
       "[['我开放的收藏分类', '类型', '风格', '进度', '字数', '积分', '发表时间'],\n",
       " ['【瑰宝】  [开放的分类]'],\n",
       " ['《魔道祖师》\\n\\xa0\\xa0\\xa0\\xa0                            \\n\\n\\n整文收藏',\n",
       "  '原创-纯爱-架空历史-爱情',\n",
       "  '正剧',\n",
       "  '已完成',\n",
       "  '639675',\n",
       "  '5,078,690,304',\n",
       "  '2015-10-31 19:15:00'],\n",
       " ['《人渣反派自救系统》\\n\\xa0\\xa0                            \\n\\n\\n整文收藏',\n",
       "  '原创-纯爱-架空历史-爱情',\n",
       "  '轻松',\n",
       "  '已完成',\n",
       "  '432692',\n",
       "  '1,495,851,776',\n",
       "  '2014-09-21 20:10:32'],\n",
       " ['【等待】  [开放的分类]'],\n",
       " ['《爱你怎么说》\\n\\n\\n\\n整文收藏',\n",
       "  '原创-纯爱-近代现代-爱情',\n",
       "  '轻松',\n",
       "  '连载中',\n",
       "  '9483',\n",
       "  '301,582,208',\n",
       "  '2017-11-19 09:30:00'],\n",
       " ['《迷你人》\\n\\n\\n\\n整文收藏',\n",
       "  '原创-纯爱-幻想未来-爱情',\n",
       "  '正剧',\n",
       "  '连载中',\n",
       "  '30016',\n",
       "  '231,008,112',\n",
       "  '2017-10-31 21:00:00'],\n",
       " ['《天官赐福》\\n\\xa0                            \\n\\n\\n第1章 天官赐福第87章 镀金身鼎力挽天颓第66章 人上为人人下为人整文收藏',\n",
       "  '原创-纯爱-架空历史-爱情',\n",
       "  '轻松',\n",
       "  '连载中',\n",
       "  '402465',\n",
       "  '8,677,044,224',\n",
       "  '2017-06-16 18:01:18'],\n",
       " ['《情终》\\n\\n\\n\\n整文收藏',\n",
       "  '原创-纯爱-近代现代-爱情',\n",
       "  '正剧',\n",
       "  '连载中',\n",
       "  '252866',\n",
       "  '38,825,040',\n",
       "  '2016-04-19 21:03:32'],\n",
       " ['【随便看看】  [开放的分类]'],\n",
       " ['《疯狗加三》\\n\\n\\n\\n整文收藏',\n",
       "  '原创-纯爱-架空历史-奇幻',\n",
       "  '轻松',\n",
       "  '连载中',\n",
       "  '16696',\n",
       "  '161,905,072',\n",
       "  '2017-11-13 06:13:00'],\n",
       " ['《破云》\\n\\n\\n\\n整文收藏',\n",
       "  '原创-纯爱-近代现代-侦探',\n",
       "  '正剧',\n",
       "  '连载中',\n",
       "  '0',\n",
       "  '96,716,208',\n",
       "  '2017-11-06 14:45:20'],\n",
       " ['《致猪精：真情实感的追星会遭报应》\\n\\n\\n\\n整文收藏',\n",
       "  '原创-言情-近代现代-爱情',\n",
       "  '暗黑',\n",
       "  '连载中',\n",
       "  '45166',\n",
       "  '7,240,928',\n",
       "  '2017-10-09 19:05:50'],\n",
       " ['《源血》\\n\\n\\n\\n整文收藏',\n",
       "  '原创-纯爱-近代现代-奇幻',\n",
       "  '轻松',\n",
       "  '连载中',\n",
       "  '157573',\n",
       "  '308,805,120',\n",
       "  '2017-10-10 11:00:00'],\n",
       " ['《他夏了冬天》\\n\\n\\n\\n整文收藏',\n",
       "  '原创-纯爱-近代现代-爱情',\n",
       "  '轻松',\n",
       "  '连载中',\n",
       "  '66785',\n",
       "  '187,615,744',\n",
       "  '2017-10-10 10:00:00'],\n",
       " ['《不要物种歧视》\\n\\n\\n\\n整文收藏',\n",
       "  '原创-纯爱-近代现代-爱情',\n",
       "  '轻松',\n",
       "  '连载中',\n",
       "  '391145',\n",
       "  '4,691,607,552',\n",
       "  '2017-07-26 14:26:56'],\n",
       " ['《我就喜欢你作死的样子》\\n\\n\\n\\n整文收藏',\n",
       "  '原创-纯爱-近代现代-爱情',\n",
       "  '正剧',\n",
       "  '连载中',\n",
       "  '148579',\n",
       "  '163,970,288',\n",
       "  '2017-09-20 11:06:06'],\n",
       " ['《空降热搜》\\n\\n\\n\\n整文收藏',\n",
       "  '原创-纯爱-近代现代-爱情',\n",
       "  '轻松',\n",
       "  '已完成',\n",
       "  '870101',\n",
       "  '7,140,744,704',\n",
       "  '2017-06-17 12:00:00'],\n",
       " ['《矮人在未来》\\n\\n\\n\\n整文收藏',\n",
       "  '原创-纯爱-幻想未来-爱情',\n",
       "  '轻松',\n",
       "  '连载中',\n",
       "  '784702',\n",
       "  '423,724,512',\n",
       "  '2017-08-08 20:00:00'],\n",
       " ['《我们的男神崩坏了》\\n\\n\\n\\n整文收藏',\n",
       "  '原创-纯爱-近代现代-爱情',\n",
       "  '轻松',\n",
       "  '已完成',\n",
       "  '308477',\n",
       "  '275,927,872',\n",
       "  '2017-06-30 12:00:00'],\n",
       " ['【完结了】  [开放的分类]'],\n",
       " ['《小笨蛋》\\n\\n\\n\\n整文收藏',\n",
       "  '原创-纯爱-近代现代-爱情',\n",
       "  '正剧',\n",
       "  '已完成',\n",
       "  '294938',\n",
       "  '373,415,328',\n",
       "  '2016-02-27 21:40:00']]"
      ]
     },
     "execution_count": 141,
     "metadata": {},
     "output_type": "execute_result"
    }
   ],
   "source": [
    "data = []\n",
    "rows = favo_soup.find_all('tr')\n",
    "for row in rows:\n",
    "    cols = row.find_all('td')\n",
    "    cols = [ele.text.strip() for ele in cols]\n",
    "    data.append([ele for ele in cols if ele])\n",
    "# favo_soup\n",
    "data"
   ]
  }
 ],
 "metadata": {
  "anaconda-cloud": {},
  "kernelspec": {
   "display_name": "Python [default]",
   "language": "python",
   "name": "python3"
  },
  "language_info": {
   "codemirror_mode": {
    "name": "ipython",
    "version": 3
   },
   "file_extension": ".py",
   "mimetype": "text/x-python",
   "name": "python",
   "nbconvert_exporter": "python",
   "pygments_lexer": "ipython3",
   "version": "3.5.2"
  }
 },
 "nbformat": 4,
 "nbformat_minor": 1
}
