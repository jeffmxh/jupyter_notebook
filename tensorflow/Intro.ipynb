{
 "cells": [
  {
   "cell_type": "code",
   "execution_count": 1,
   "metadata": {
    "collapsed": true
   },
   "outputs": [],
   "source": [
    "from __future__ import absolute_import\n",
    "from __future__ import division\n",
    "from __future__ import print_function\n",
    "\n",
    "import tensorflow as tf\n",
    "import numpy as np"
   ]
  },
  {
   "cell_type": "code",
   "execution_count": 2,
   "metadata": {
    "collapsed": false
   },
   "outputs": [
    {
     "name": "stdout",
     "output_type": "stream",
     "text": [
      "20 [[-0.01901932  0.08293114]] [ 0.43430245]\n",
      "40 [[ 0.06485737  0.1670514 ]] [ 0.33870724]\n",
      "60 [[ 0.08958521  0.19076458]] [ 0.31115481]\n",
      "80 [[ 0.09690159  0.19742496]] [ 0.30321541]\n",
      "100 [[ 0.09907433  0.19928673]] [ 0.30092713]\n",
      "120 [[ 0.09972219  0.19980404]] [ 0.3002674]\n",
      "140 [[ 0.09991623  0.19994672]] [ 0.30007717]\n",
      "160 [[ 0.09997462  0.19998571]] [ 0.30002224]\n",
      "180 [[ 0.09999227  0.19999625]] [ 0.30000642]\n",
      "200 [[ 0.09999762  0.19999905]] [ 0.30000186]\n"
     ]
    }
   ],
   "source": [
    "'''\n",
    "A linear regression example\n",
    "'''\n",
    "\n",
    "# generate phony data\n",
    "x_data = np.float32(np.random.rand(2, 100))\n",
    "y_data = np.dot([0.1, 0.2], x_data) + 0.3\n",
    "\n",
    "# build graph\n",
    "b = tf.Variable(tf.zeros(1))\n",
    "W = tf.Variable(tf.random_uniform([1, 2], -1.0, 1.0))\n",
    "y = tf.matmul(W, x_data) + b\n",
    "\n",
    "# target\n",
    "loss = tf.reduce_mean(tf.square(y - y_data))\n",
    "optimizer = tf.train.GradientDescentOptimizer(0.5)\n",
    "train = optimizer.minimize(loss)\n",
    "\n",
    "# initialize variables\n",
    "init = tf.global_variables_initializer()\n",
    "\n",
    "# startup graph\n",
    "with tf.Session() as sess:\n",
    "    sess.run(init)\n",
    "    for step in range(1, 201):\n",
    "        sess.run(train)\n",
    "        if step % 20 == 0:\n",
    "            print(step, sess.run(W), sess.run(b))"
   ]
  },
  {
   "cell_type": "code",
   "execution_count": 3,
   "metadata": {
    "collapsed": false
   },
   "outputs": [
    {
     "name": "stdout",
     "output_type": "stream",
     "text": [
      "[[ 12.]]\n",
      "[[ 3.  3.]]\n",
      "[[ 2.]\n",
      " [ 2.]]\n",
      "Tensor(\"left:0\", shape=(1, 2), dtype=float32)\n",
      "Tensor(\"right:0\", shape=(2, 1), dtype=float32)\n"
     ]
    }
   ],
   "source": [
    "'''\n",
    "tensor operation example\n",
    "'''\n",
    "\n",
    "matrix1 = tf.constant([[3., 3.]], name = 'left')\n",
    "matrix2 = tf.constant([[2.], [2.]], name = 'right')\n",
    "product = tf.matmul(matrix1, matrix2)\n",
    "with tf.Session() as sess:\n",
    "    result = sess.run(product)\n",
    "    print(result)\n",
    "    \n",
    "    # show the value\n",
    "    print(matrix1.eval())\n",
    "    print(matrix2.eval())\n",
    "    \n",
    "    # show the tensor\n",
    "    print(matrix1)\n",
    "    print(matrix2)"
   ]
  },
  {
   "cell_type": "code",
   "execution_count": 4,
   "metadata": {
    "collapsed": false
   },
   "outputs": [
    {
     "name": "stdout",
     "output_type": "stream",
     "text": [
      "0\n",
      "1\n",
      "2\n",
      "3\n",
      "result :  [3, 1]\n"
     ]
    }
   ],
   "source": [
    "'''\n",
    "variables and constants, gat more than one outputs\n",
    "'''\n",
    "\n",
    "state = tf.Variable(0, name = 'counter')\n",
    "one = tf.constant(1)\n",
    "new_value = tf.add(state, one)\n",
    "update = tf.assign(state, new_value)\n",
    "\n",
    "init_op = tf.global_variables_initializer()\n",
    "\n",
    "with tf.Session() as sess:\n",
    "    sess.run(init_op)\n",
    "    print(state.eval())\n",
    "    for _ in range(3):\n",
    "        sess.run(update)\n",
    "        print(state.eval())\n",
    "        result = sess.run([state, one])\n",
    "        \n",
    "print('result : ', result)"
   ]
  },
  {
   "cell_type": "code",
   "execution_count": 5,
   "metadata": {
    "collapsed": false
   },
   "outputs": [
    {
     "name": "stdout",
     "output_type": "stream",
     "text": [
      "[array([ 6.], dtype=float32)]\n"
     ]
    }
   ],
   "source": [
    "'''\n",
    "usage of placeholder\n",
    "'''\n",
    "\n",
    "input1 = tf.placeholder(tf.float32)\n",
    "input2 = tf.placeholder(tf.float32)\n",
    "output = tf.multiply(input1, input2)\n",
    "\n",
    "with tf.Session() as sess:\n",
    "    result = sess.run([output], feed_dict = {input1:[2.], input2:[3.]})\n",
    "    print(result)"
   ]
  }
 ],
 "metadata": {
  "anaconda-cloud": {},
  "kernelspec": {
   "display_name": "Python [conda env:idp2]",
   "language": "python",
   "name": "conda-env-idp2-py"
  },
  "language_info": {
   "codemirror_mode": {
    "name": "ipython",
    "version": 2
   },
   "file_extension": ".py",
   "mimetype": "text/x-python",
   "name": "python",
   "nbconvert_exporter": "python",
   "pygments_lexer": "ipython2",
   "version": "2.7.13"
  }
 },
 "nbformat": 4,
 "nbformat_minor": 1
}
