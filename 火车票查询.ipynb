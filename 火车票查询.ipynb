{
 "cells": [
  {
   "cell_type": "code",
   "execution_count": 1,
   "metadata": {
    "collapsed": false,
    "scrolled": false
   },
   "outputs": [],
   "source": [
    "import re\n",
    "import requests\n",
    "import pandas as pd "
   ]
  },
  {
   "cell_type": "code",
   "execution_count": 2,
   "metadata": {
    "collapsed": false
   },
   "outputs": [
    {
     "name": "stderr",
     "output_type": "stream",
     "text": [
      "/home/jeff/anaconda3/lib/python3.5/site-packages/requests/packages/urllib3/connectionpool.py:838: InsecureRequestWarning: Unverified HTTPS request is being made. Adding certificate verification is strongly advised. See: https://urllib3.readthedocs.io/en/latest/security.html\n",
      "  InsecureRequestWarning)\n"
     ]
    }
   ],
   "source": [
    "# 获取城市字符对应表\n",
    "\n",
    "url = 'https://kyfw.12306.cn/otn/resources/js/framework/station_name.js?station_version=1.8993'\n",
    "response = requests.get(url, verify=False)\n",
    "stations = re.findall(u'([\\u4e00-\\u9fa5]+)\\|([A-Z]+)', response.text)\n",
    "stations = dict(stations)"
   ]
  },
  {
   "cell_type": "code",
   "execution_count": 3,
   "metadata": {
    "collapsed": false
   },
   "outputs": [
    {
     "name": "stderr",
     "output_type": "stream",
     "text": [
      "/home/jeff/anaconda3/lib/python3.5/site-packages/requests/packages/urllib3/connectionpool.py:838: InsecureRequestWarning: Unverified HTTPS request is being made. Adding certificate verification is strongly advised. See: https://urllib3.readthedocs.io/en/latest/security.html\n",
      "  InsecureRequestWarning)\n"
     ]
    }
   ],
   "source": [
    "# 根据出发、到达城市以及日期获取数据\n",
    "\n",
    "def get_raw_data(from_station, to_station, date, stations):\n",
    "    from_station = stations[from_station]\n",
    "    to_station = stations[to_station]\n",
    "    date = date\n",
    "    # 构建URL\n",
    "    url = ('https://kyfw.12306.cn/otn/leftTicket/queryA?leftTicketDTO.train_date={}&leftTicketDTO.from_station={}&leftTicketDTO.to_station={}&purpose_codes=ADULT').format(\n",
    "        date, from_station, to_station\n",
    "    )\n",
    "    r = requests.get(url, verify=False)\n",
    "    return r.json()\n",
    "\n",
    "from_station = '哈尔滨'\n",
    "to_station = '南京'\n",
    "date = '2017-01-20'\n",
    "result = get_raw_data(from_station, to_station, date, stations)['data']"
   ]
  },
  {
   "cell_type": "code",
   "execution_count": 4,
   "metadata": {
    "collapsed": false
   },
   "outputs": [
    {
     "data": {
      "text/plain": [
       "dict_keys(['车次', '高级软卧', '车站', '发售时间', '特等座', '时间', '一等座', '软卧', '商务座', '软座', '无座', '二等座', '全程', '硬卧', '硬座'])"
      ]
     },
     "execution_count": 4,
     "metadata": {},
     "output_type": "execute_result"
    }
   ],
   "source": [
    "# 废弃，改用另一种方式\n",
    "\n",
    "def reshape_train_data(train):\n",
    "    result = {}\n",
    "    result['车次'] = train.get('station_train_code')\n",
    "    result['车站'] = train.get('from_station_name') + '->' + train.get('to_station_name')\n",
    "    result['全程'] = train.get('start_station_name') + '->' + train.get('end_station_name')\n",
    "    result['时间'] = train.get('start_time') + '->' + train.get('arrive_time')\n",
    "    result['发售时间'] = train.get('sale_time')\n",
    "    result['商务座'] = train.get('swz_num')\n",
    "    result['特等座'] = train.get('tz_num')\n",
    "    result['一等座'] = train.get('zy_num')\n",
    "    result['二等座'] = train.get('ze_num')\n",
    "    result['高级软卧'] = train.get('gr_num')\n",
    "    result['软卧'] = train.get('rw_num')\n",
    "    result['硬卧'] = train.get('yw_num')\n",
    "    result['软座'] = train.get('rz_num')\n",
    "    result['硬座'] = train.get('yz_num')\n",
    "    result['无座'] = train.get('wz_num')\n",
    "    return result\n",
    "train1 = result[1]['queryLeftNewDTO']\n",
    "reshape_train_data(train1).keys()"
   ]
  },
  {
   "cell_type": "code",
   "execution_count": 5,
   "metadata": {
    "collapsed": false
   },
   "outputs": [
    {
     "data": {
      "text/plain": [
       "['Z174',\n",
       " '哈尔滨->南京',\n",
       " '哈尔滨->上海',\n",
       " '12:45->09:57',\n",
       " '1030',\n",
       " '--',\n",
       " '--',\n",
       " '--',\n",
       " '--',\n",
       " '--',\n",
       " '无',\n",
       " '无',\n",
       " '--',\n",
       " '无',\n",
       " '有']"
      ]
     },
     "execution_count": 5,
     "metadata": {},
     "output_type": "execute_result"
    }
   ],
   "source": [
    "def reshape_train_data(train):\n",
    "    result = [\n",
    "    train.get('station_train_code'),\n",
    "    train.get('from_station_name') + '->' + train.get('to_station_name'),\n",
    "    train.get('start_station_name') + '->' + train.get('end_station_name'),\n",
    "    train.get('start_time') + '->' + train.get('arrive_time'),\n",
    "    train.get('sale_time'),\n",
    "    train.get('swz_num'),\n",
    "    train.get('tz_num'),\n",
    "    train.get('zy_num'),\n",
    "    train.get('ze_num'),\n",
    "    train.get('gr_num'),\n",
    "    train.get('rw_num'),\n",
    "    train.get('yw_num'),\n",
    "    train.get('rz_num'),\n",
    "    train.get('yz_num'),\n",
    "    train.get('wz_num')\n",
    "        ]\n",
    "    return result\n",
    "\n",
    "train1 = result[1]['queryLeftNewDTO']\n",
    "reshape_train_data(train1)"
   ]
  },
  {
   "cell_type": "code",
   "execution_count": 6,
   "metadata": {
    "collapsed": false
   },
   "outputs": [],
   "source": [
    "# 把结果整理成数据框\n",
    "\n",
    "result_dict = {}\n",
    "for i in range(len(result)):\n",
    "    train_temp = result[i]['queryLeftNewDTO']\n",
    "    result_dict[train_temp['station_train_code']] = reshape_train_data(train_temp)\n",
    "\n",
    "result_table = pd.DataFrame(result_dict).T\n",
    "result_table.columns = ['车次', '车站', '全程', '时间', '发售时间', '商务座', '特等座', '一等座', '二等座', '高级软卧', '软卧', '硬卧', '软座', '硬座', '无座']"
   ]
  },
  {
   "cell_type": "code",
   "execution_count": 7,
   "metadata": {
    "collapsed": false
   },
   "outputs": [
    {
     "data": {
      "text/html": [
       "<div>\n",
       "<table border=\"1\" class=\"dataframe\">\n",
       "  <thead>\n",
       "    <tr style=\"text-align: right;\">\n",
       "      <th></th>\n",
       "      <th>车次</th>\n",
       "      <th>车站</th>\n",
       "      <th>全程</th>\n",
       "      <th>时间</th>\n",
       "      <th>发售时间</th>\n",
       "      <th>商务座</th>\n",
       "      <th>特等座</th>\n",
       "      <th>一等座</th>\n",
       "      <th>二等座</th>\n",
       "      <th>高级软卧</th>\n",
       "      <th>软卧</th>\n",
       "      <th>硬卧</th>\n",
       "      <th>软座</th>\n",
       "      <th>硬座</th>\n",
       "      <th>无座</th>\n",
       "    </tr>\n",
       "  </thead>\n",
       "  <tbody>\n",
       "    <tr>\n",
       "      <th>G1202</th>\n",
       "      <td>G1202</td>\n",
       "      <td>哈尔滨西-&gt;南京南</td>\n",
       "      <td>哈尔滨西-&gt;上海虹桥</td>\n",
       "      <td>08:20-&gt;19:22</td>\n",
       "      <td>1000</td>\n",
       "      <td>无</td>\n",
       "      <td>--</td>\n",
       "      <td>无</td>\n",
       "      <td>有</td>\n",
       "      <td>--</td>\n",
       "      <td>--</td>\n",
       "      <td>--</td>\n",
       "      <td>--</td>\n",
       "      <td>--</td>\n",
       "      <td>--</td>\n",
       "    </tr>\n",
       "    <tr>\n",
       "      <th>K554</th>\n",
       "      <td>K554</td>\n",
       "      <td>哈尔滨-&gt;南京</td>\n",
       "      <td>牡丹江-&gt;温州</td>\n",
       "      <td>13:59-&gt;19:30</td>\n",
       "      <td>1030</td>\n",
       "      <td>--</td>\n",
       "      <td>--</td>\n",
       "      <td>--</td>\n",
       "      <td>--</td>\n",
       "      <td>--</td>\n",
       "      <td>无</td>\n",
       "      <td>无</td>\n",
       "      <td>--</td>\n",
       "      <td>无</td>\n",
       "      <td>无</td>\n",
       "    </tr>\n",
       "    <tr>\n",
       "      <th>Z174</th>\n",
       "      <td>Z174</td>\n",
       "      <td>哈尔滨-&gt;南京</td>\n",
       "      <td>哈尔滨-&gt;上海</td>\n",
       "      <td>12:45-&gt;09:57</td>\n",
       "      <td>1030</td>\n",
       "      <td>--</td>\n",
       "      <td>--</td>\n",
       "      <td>--</td>\n",
       "      <td>--</td>\n",
       "      <td>--</td>\n",
       "      <td>无</td>\n",
       "      <td>无</td>\n",
       "      <td>--</td>\n",
       "      <td>无</td>\n",
       "      <td>有</td>\n",
       "    </tr>\n",
       "    <tr>\n",
       "      <th>Z178</th>\n",
       "      <td>Z178</td>\n",
       "      <td>哈尔滨-&gt;南京</td>\n",
       "      <td>哈尔滨-&gt;杭州</td>\n",
       "      <td>22:30-&gt;23:41</td>\n",
       "      <td>1030</td>\n",
       "      <td>--</td>\n",
       "      <td>--</td>\n",
       "      <td>--</td>\n",
       "      <td>--</td>\n",
       "      <td>--</td>\n",
       "      <td>无</td>\n",
       "      <td>无</td>\n",
       "      <td>--</td>\n",
       "      <td>无</td>\n",
       "      <td>有</td>\n",
       "    </tr>\n",
       "    <tr>\n",
       "      <th>Z4518</th>\n",
       "      <td>Z4518</td>\n",
       "      <td>哈尔滨-&gt;南京</td>\n",
       "      <td>哈尔滨-&gt;南京</td>\n",
       "      <td>12:59-&gt;12:26</td>\n",
       "      <td>1030</td>\n",
       "      <td>--</td>\n",
       "      <td>--</td>\n",
       "      <td>--</td>\n",
       "      <td>--</td>\n",
       "      <td>--</td>\n",
       "      <td>无</td>\n",
       "      <td>无</td>\n",
       "      <td>--</td>\n",
       "      <td>无</td>\n",
       "      <td>有</td>\n",
       "    </tr>\n",
       "  </tbody>\n",
       "</table>\n",
       "</div>"
      ],
      "text/plain": [
       "          车次         车站          全程            时间  发售时间 商务座 特等座 一等座 二等座 高级软卧  \\\n",
       "G1202  G1202  哈尔滨西->南京南  哈尔滨西->上海虹桥  08:20->19:22  1000   无  --   无   有   --   \n",
       "K554    K554    哈尔滨->南京     牡丹江->温州  13:59->19:30  1030  --  --  --  --   --   \n",
       "Z174    Z174    哈尔滨->南京     哈尔滨->上海  12:45->09:57  1030  --  --  --  --   --   \n",
       "Z178    Z178    哈尔滨->南京     哈尔滨->杭州  22:30->23:41  1030  --  --  --  --   --   \n",
       "Z4518  Z4518    哈尔滨->南京     哈尔滨->南京  12:59->12:26  1030  --  --  --  --   --   \n",
       "\n",
       "       软卧  硬卧  软座  硬座  无座  \n",
       "G1202  --  --  --  --  --  \n",
       "K554    无   无  --   无   无  \n",
       "Z174    无   无  --   无   有  \n",
       "Z178    无   无  --   无   有  \n",
       "Z4518   无   无  --   无   有  "
      ]
     },
     "execution_count": 7,
     "metadata": {},
     "output_type": "execute_result"
    }
   ],
   "source": [
    "result_table"
   ]
  }
 ],
 "metadata": {
  "anaconda-cloud": {},
  "kernelspec": {
   "display_name": "Python [default]",
   "language": "python",
   "name": "python3"
  },
  "language_info": {
   "codemirror_mode": {
    "name": "ipython",
    "version": 3
   },
   "file_extension": ".py",
   "mimetype": "text/x-python",
   "name": "python",
   "nbconvert_exporter": "python",
   "pygments_lexer": "ipython3",
   "version": "3.5.2"
  }
 },
 "nbformat": 4,
 "nbformat_minor": 1
}
